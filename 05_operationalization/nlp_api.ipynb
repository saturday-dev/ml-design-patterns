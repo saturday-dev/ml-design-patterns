{
 "cells": [
  {
   "cell_type": "markdown",
   "metadata": {},
   "source": [
    "## Invoking an ML API\n",
    "\n",
    "This notebook demonstrates how to invoke a deployed ML model (in this case, the Google Cloud Natural Language API)\n",
    "from a batch or streaming pipeline\n",
    "\n",
    "We will use Apache Beam."
   ]
  },
  {
   "cell_type": "markdown",
   "metadata": {},
   "source": [
    "### Install Beam\n",
    "\n",
    "Restart the kernel after installing Beam"
   ]
  },
  {
   "cell_type": "code",
   "execution_count": 3,
   "metadata": {},
   "outputs": [
    {
     "name": "stdout",
     "output_type": "stream",
     "text": [
      "Note: you may need to restart the kernel to use updated packages.\n"
     ]
    }
   ],
   "source": [
    "%pip install --upgrade --quiet apache-beam[gcp]"
   ]
  },
  {
   "cell_type": "markdown",
   "metadata": {},
   "source": [
    "## Try out Beam"
   ]
  },
  {
   "cell_type": "code",
   "execution_count": 1,
   "metadata": {},
   "outputs": [],
   "source": [
    "!rm -rf output.txt* beam-temp*"
   ]
  },
  {
   "cell_type": "code",
   "execution_count": 4,
   "metadata": {},
   "outputs": [
    {
     "data": {
      "text/plain": [
       "'DONE'"
      ]
     },
     "execution_count": 4,
     "metadata": {},
     "output_type": "execute_result"
    }
   ],
   "source": [
    "import apache_beam as beam\n",
    "from apache_beam.ml.gcp import naturallanguageml as nlp\n",
    "\n",
    "def parse_nlp_result(response):\n",
    "    \"\"\"\n",
    "Pulls required info from a response that looks like this:\n",
    "\n",
    "sentences {\n",
    "  text {\n",
    "    content: \"I love walking along the Seine.\"\n",
    "  }\n",
    "  sentiment {\n",
    "    magnitude: 0.699999988079071\n",
    "    score: 0.699999988079071\n",
    "  }\n",
    "}\n",
    "entities {\n",
    "  name: \"Seine\"\n",
    "  type: LOCATION\n",
    "  metadata {\n",
    "    key: \"mid\"\n",
    "    value: \"/m/0f3vz\"\n",
    "  }\n",
    "  metadata {\n",
    "    key: \"wikipedia_url\"\n",
    "    value: \"https://en.wikipedia.org/wiki/Seine\"\n",
    "  }\n",
    "  salience: 1.0\n",
    "  mentions {\n",
    "    text {\n",
    "      content: \"Seine\"\n",
    "      begin_offset: 25\n",
    "    }\n",
    "    type: PROPER\n",
    "  }\n",
    "}\n",
    "document_sentiment {\n",
    "  magnitude: 0.699999988079071\n",
    "  score: 0.699999988079071\n",
    "}\n",
    "language: \"en\"\n",
    "    \"\"\"\n",
    "    return [\n",
    "        # response, # entire string\n",
    "        response.sentences[0].text.content,\n",
    "        response.language,\n",
    "        response.document_sentiment.score\n",
    "    ]\n",
    "\n",
    "\n",
    "features = nlp.types.AnnotateTextRequest.Features(\n",
    "    extract_entities=True,\n",
    "    extract_document_sentiment=True,\n",
    "    extract_syntax=False\n",
    ")\n",
    "\n",
    "p = beam.Pipeline()\n",
    "(p \n",
    " | beam.Create(['Have you been to Paris?', 'I love walking along the Seine.', \"C'est terrible\"])\n",
    " | beam.Map(lambda x : nlp.Document(x, type='PLAIN_TEXT'))\n",
    " | nlp.AnnotateText(features)\n",
    " | beam.Map(parse_nlp_result)\n",
    " | beam.io.WriteToText('output.txt')\n",
    ")\n",
    "result = p.run()\n",
    "result.wait_until_finish()"
   ]
  },
  {
   "cell_type": "code",
   "execution_count": 5,
   "metadata": {},
   "outputs": [
    {
     "name": "stdout",
     "output_type": "stream",
     "text": [
      "['Have you been to Paris?', 'en', 0.0]\n",
      "['I love walking along the Seine.', 'en', 0.699999988079071]\n",
      "[\"C'est terrible\", 'fr', -0.8999999761581421]\n"
     ]
    }
   ],
   "source": [
    "!cat output.txt*"
   ]
  },
  {
   "cell_type": "markdown",
   "metadata": {},
   "source": [
    "Copyright 2020 Google Inc. Licensed under the Apache License, Version 2.0 (the \"License\"); you may not use this file except in compliance with the License. You may obtain a copy of the License at http://www.apache.org/licenses/LICENSE-2.0 Unless required by applicable law or agreed to in writing, software distributed under the License is distributed on an \"AS IS\" BASIS, WITHOUT WARRANTIES OR CONDITIONS OF ANY KIND, either express or implied. See the License for the specific language governing permissions and limitations under the License"
   ]
  }
 ],
 "metadata": {
  "kernelspec": {
   "display_name": "Python 3",
   "language": "python",
   "name": "python3"
  },
  "language_info": {
   "codemirror_mode": {
    "name": "ipython",
    "version": 3
   },
   "file_extension": ".py",
   "mimetype": "text/x-python",
   "name": "python",
   "nbconvert_exporter": "python",
   "pygments_lexer": "ipython3",
   "version": "3.5.3"
  }
 },
 "nbformat": 4,
 "nbformat_minor": 4
}
