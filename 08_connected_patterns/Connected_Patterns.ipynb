{
 "cells": [
  {
   "cell_type": "markdown",
   "metadata": {},
   "source": [
    "## Connected Patterns\n",
    "\n",
    "This notebook contains the graphviz code to recrete the connected patterns diagram."
   ]
  },
  {
   "cell_type": "markdown",
   "metadata": {},
   "source": [
    "## Make logos"
   ]
  },
  {
   "cell_type": "code",
   "execution_count": null,
   "metadata": {},
   "outputs": [],
   "source": [
    "%%bash\n",
    "sudo apt-get update -y\n",
    "sudo apt-get install -y imagemagick"
   ]
  },
  {
   "cell_type": "code",
   "execution_count": 23,
   "metadata": {},
   "outputs": [],
   "source": [
    "%%bash\n",
    "convert -resize 10% ../mldp_cover.png logo_small.png\n",
    "convert -resize 25% ../mldp_cover.png logo_medium.png\n",
    "convert -resize 50% ../mldp_cover.png logo_large.png"
   ]
  },
  {
   "cell_type": "code",
   "execution_count": 2,
   "metadata": {},
   "outputs": [],
   "source": [
    "%%bash\n",
    "dot -Tpng connected-patterns.gv -o tmp.png\n",
    "convert tmp.png logo_small.png -gravity north -geometry +50+10 -composite connected-patterns.png\n",
    "rm tmp.png"
   ]
  },
  {
   "cell_type": "code",
   "execution_count": 3,
   "metadata": {},
   "outputs": [],
   "source": [
    "def display_image(filename):\n",
    "    from IPython.display import HTML, display\n",
    "    html = '<img src=\"{}\" style=\"float: left; margin-right: 10px;\" />'.format(filename)\n",
    "    print(html)\n",
    "    display(HTML(html))"
   ]
  },
  {
   "cell_type": "code",
   "execution_count": 4,
   "metadata": {},
   "outputs": [
    {
     "name": "stdout",
     "output_type": "stream",
     "text": [
      "<img src=\"./connected-patterns.png\" style=\"float: left; margin-right: 10px;\" />\n"
     ]
    },
    {
     "data": {
      "text/html": [
       "<img src=\"./connected-patterns.png\" style=\"float: left; margin-right: 10px;\" />"
      ],
      "text/plain": [
       "<IPython.core.display.HTML object>"
      ]
     },
     "metadata": {},
     "output_type": "display_data"
    }
   ],
   "source": [
    "display_image('./connected-patterns.png')"
   ]
  },
  {
   "cell_type": "markdown",
   "metadata": {},
   "source": [
    "### Circular diagram of connected patterns\n",
    "\n",
    "This section contains the graphviz code to create circular diagrams of the connected patterns. The nodes are color coded according to chapter.\n",
    "\n",
    "The connected graph can be made with or without edge text and with or without the nodes color filled in. \n",
    "\n",
    "Naming conventions:\n",
    "```\n",
    "connected-patterns_<text/no-text>_<filled/not-filled>.gv\n",
    "```"
   ]
  },
  {
   "cell_type": "markdown",
   "metadata": {},
   "source": [
    "#### without edge text, with node color filled"
   ]
  },
  {
   "cell_type": "code",
   "execution_count": 24,
   "metadata": {},
   "outputs": [],
   "source": [
    "%%bash\n",
    "dot -Tpng connected-patterns_no-text_filled.gv -o tmp.png\n",
    "convert tmp.png logo_large.png -gravity center -geometry +0+0 -composite connected-patterns_no-text_filled.png\n",
    "rm tmp.png"
   ]
  },
  {
   "cell_type": "code",
   "execution_count": 25,
   "metadata": {},
   "outputs": [
    {
     "name": "stdout",
     "output_type": "stream",
     "text": [
      "<img src=\"./connected-patterns_no-text_filled.png\" style=\"float: left; margin-right: 10px;\" />\n"
     ]
    },
    {
     "data": {
      "text/html": [
       "<img src=\"./connected-patterns_no-text_filled.png\" style=\"float: left; margin-right: 10px;\" />"
      ],
      "text/plain": [
       "<IPython.core.display.HTML object>"
      ]
     },
     "metadata": {},
     "output_type": "display_data"
    }
   ],
   "source": [
    "display_image('./connected-patterns_no-text_filled.png')"
   ]
  },
  {
   "cell_type": "markdown",
   "metadata": {},
   "source": [
    "#### without edge text, without node color filled"
   ]
  },
  {
   "cell_type": "code",
   "execution_count": 26,
   "metadata": {},
   "outputs": [],
   "source": [
    "%%bash\n",
    "dot -Tpng connected-patterns_no-text_not-filled.gv -o tmp.png\n",
    "convert tmp.png logo_large.png -gravity center -geometry +0+0 -composite connected-patterns_no-text_not-filled.png\n",
    "rm tmp.png"
   ]
  },
  {
   "cell_type": "code",
   "execution_count": 27,
   "metadata": {},
   "outputs": [
    {
     "name": "stdout",
     "output_type": "stream",
     "text": [
      "<img src=\"./connected-patterns_no-text_not-filled.png\" style=\"float: left; margin-right: 10px;\" />\n"
     ]
    },
    {
     "data": {
      "text/html": [
       "<img src=\"./connected-patterns_no-text_not-filled.png\" style=\"float: left; margin-right: 10px;\" />"
      ],
      "text/plain": [
       "<IPython.core.display.HTML object>"
      ]
     },
     "metadata": {},
     "output_type": "display_data"
    }
   ],
   "source": [
    "display_image('./connected-patterns_no-text_not-filled.png')"
   ]
  },
  {
   "cell_type": "markdown",
   "metadata": {},
   "source": [
    "#### with edge text, with node color filled"
   ]
  },
  {
   "cell_type": "code",
   "execution_count": 28,
   "metadata": {},
   "outputs": [],
   "source": [
    "%%bash\n",
    "dot -Tpng connected-patterns_text_filled.gv -o tmp.png\n",
    "convert tmp.png logo_large.png -gravity center -geometry +0+0 -composite connected-patterns_text_filled.png\n",
    "rm tmp.png"
   ]
  },
  {
   "cell_type": "code",
   "execution_count": 29,
   "metadata": {},
   "outputs": [
    {
     "name": "stdout",
     "output_type": "stream",
     "text": [
      "<img src=\"connected-patterns_text_filled.png\" style=\"float: left; margin-right: 10px;\" />\n"
     ]
    },
    {
     "data": {
      "text/html": [
       "<img src=\"connected-patterns_text_filled.png\" style=\"float: left; margin-right: 10px;\" />"
      ],
      "text/plain": [
       "<IPython.core.display.HTML object>"
      ]
     },
     "metadata": {},
     "output_type": "display_data"
    }
   ],
   "source": [
    "display_image(\"connected-patterns_text_filled.png\")"
   ]
  },
  {
   "cell_type": "markdown",
   "metadata": {},
   "source": [
    "#### with edge text, without node color filled"
   ]
  },
  {
   "cell_type": "code",
   "execution_count": 30,
   "metadata": {},
   "outputs": [],
   "source": [
    "%%bash\n",
    "dot -Tpng connected-patterns_text_not-filled.gv -o tmp.png\n",
    "convert tmp.png logo_large.png -gravity center -geometry +0+0 -composite connected-patterns_text_not-filled.png\n",
    "rm tmp.png"
   ]
  },
  {
   "cell_type": "code",
   "execution_count": 31,
   "metadata": {},
   "outputs": [
    {
     "name": "stdout",
     "output_type": "stream",
     "text": [
      "<img src=\"connected-patterns_text_not-filled.png\" style=\"float: left; margin-right: 10px;\" />\n"
     ]
    },
    {
     "data": {
      "text/html": [
       "<img src=\"connected-patterns_text_not-filled.png\" style=\"float: left; margin-right: 10px;\" />"
      ],
      "text/plain": [
       "<IPython.core.display.HTML object>"
      ]
     },
     "metadata": {},
     "output_type": "display_data"
    }
   ],
   "source": [
    "display_image(\"connected-patterns_text_not-filled.png\")"
   ]
  },
  {
   "cell_type": "markdown",
   "metadata": {},
   "source": [
    "## xmind map"
   ]
  },
  {
   "cell_type": "code",
   "execution_count": 9,
   "metadata": {},
   "outputs": [
    {
     "name": "stdout",
     "output_type": "stream",
     "text": [
      "<img src=\"./ML-Design-Patterns_xmind.png\" style=\"float: left; margin-right: 10px;\" />\n"
     ]
    },
    {
     "data": {
      "text/html": [
       "<img src=\"./ML-Design-Patterns_xmind.png\" style=\"float: left; margin-right: 10px;\" />"
      ],
      "text/plain": [
       "<IPython.core.display.HTML object>"
      ]
     },
     "metadata": {},
     "output_type": "display_data"
    }
   ],
   "source": [
    "display_image('./ML-Design-Patterns_xmind.png')"
   ]
  },
  {
   "cell_type": "markdown",
   "metadata": {},
   "source": [
    "Copyright 2020 Google Inc. Licensed under the Apache License, Version 2.0 (the \"License\"); you may not use this file except in compliance with the License. You may obtain a copy of the License at http://www.apache.org/licenses/LICENSE-2.0 Unless required by applicable law or agreed to in writing, software distributed under the License is distributed on an \"AS IS\" BASIS, WITHOUT WARRANTIES OR CONDITIONS OF ANY KIND, either express or implied. See the License for the specific language governing permissions and limitations under the License"
   ]
  }
 ],
 "metadata": {
  "environment": {
   "name": "tf2-gpu.2-1.m50",
   "type": "gcloud",
   "uri": "gcr.io/deeplearning-platform-release/tf2-gpu.2-1:m50"
  },
  "kernelspec": {
   "display_name": "Python 3",
   "language": "python",
   "name": "python3"
  },
  "language_info": {
   "codemirror_mode": {
    "name": "ipython",
    "version": 3
   },
   "file_extension": ".py",
   "mimetype": "text/x-python",
   "name": "python",
   "nbconvert_exporter": "python",
   "pygments_lexer": "ipython3",
   "version": "3.7.6"
  }
 },
 "nbformat": 4,
 "nbformat_minor": 4
}
