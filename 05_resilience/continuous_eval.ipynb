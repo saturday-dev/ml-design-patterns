{
 "cells": [
  {
   "cell_type": "markdown",
   "metadata": {},
   "source": [
    "# Continuous Evaluation"
   ]
  },
  {
   "cell_type": "code",
   "execution_count": 1,
   "metadata": {},
   "outputs": [],
   "source": [
    "# change these to try this notebook out\n",
    "BUCKET = 'munn-sandbox'\n",
    "PROJECT = 'munn-sandbox'\n",
    "REGION = 'us-central1'"
   ]
  },
  {
   "cell_type": "code",
   "execution_count": 2,
   "metadata": {},
   "outputs": [],
   "source": [
    "import os\n",
    "os.environ['BUCKET'] = BUCKET\n",
    "os.environ['PROJECT'] = PROJECT\n",
    "os.environ['REGION'] = REGION\n",
    "os.environ['TFVERSION'] = '2.1'"
   ]
  },
  {
   "cell_type": "code",
   "execution_count": 3,
   "metadata": {},
   "outputs": [
    {
     "name": "stdout",
     "output_type": "stream",
     "text": [
      "2.1.1\n"
     ]
    }
   ],
   "source": [
    "import tensorflow as tf\n",
    "print(tf.__version__)"
   ]
  },
  {
   "cell_type": "code",
   "execution_count": 4,
   "metadata": {},
   "outputs": [
    {
     "name": "stdout",
     "output_type": "stream",
     "text": [
      "gs://munn-sandbox/txtcls/data/titles_full.csv\n",
      "gs://munn-sandbox/txtcls/data/titles_sample.csv\n"
     ]
    }
   ],
   "source": [
    "%%bash\n",
    "gsutil ls gs://$BUCKET/txtcls/data/"
   ]
  },
  {
   "cell_type": "code",
   "execution_count": 5,
   "metadata": {},
   "outputs": [
    {
     "name": "stdout",
     "output_type": "stream",
     "text": [
      "Copying gs://munn-sandbox/txtcls/data/titles_full.csv...\n",
      "/ [1 files][  5.4 MiB/  5.4 MiB]                                                \n",
      "Operation completed over 1 objects/5.4 MiB.                                      \n"
     ]
    }
   ],
   "source": [
    "!gsutil cp gs://$BUCKET/txtcls/data/titles_full.csv ."
   ]
  },
  {
   "cell_type": "code",
   "execution_count": 6,
   "metadata": {},
   "outputs": [
    {
     "data": {
      "text/html": [
       "<div>\n",
       "<style scoped>\n",
       "    .dataframe tbody tr th:only-of-type {\n",
       "        vertical-align: middle;\n",
       "    }\n",
       "\n",
       "    .dataframe tbody tr th {\n",
       "        vertical-align: top;\n",
       "    }\n",
       "\n",
       "    .dataframe thead th {\n",
       "        text-align: right;\n",
       "    }\n",
       "</style>\n",
       "<table border=\"1\" class=\"dataframe\">\n",
       "  <thead>\n",
       "    <tr style=\"text-align: right;\">\n",
       "      <th></th>\n",
       "      <th>title</th>\n",
       "      <th>source</th>\n",
       "    </tr>\n",
       "  </thead>\n",
       "  <tbody>\n",
       "    <tr>\n",
       "      <th>0</th>\n",
       "      <td>led inventor and employer settle for $8.1m  2005</td>\n",
       "      <td>nytimes</td>\n",
       "    </tr>\n",
       "    <tr>\n",
       "      <th>1</th>\n",
       "      <td>yc-backed photo-sharing service picplum loses ...</td>\n",
       "      <td>techcrunch</td>\n",
       "    </tr>\n",
       "    <tr>\n",
       "      <th>2</th>\n",
       "      <td>as facebook turns 10  zuckerberg wants to chan...</td>\n",
       "      <td>nytimes</td>\n",
       "    </tr>\n",
       "    <tr>\n",
       "      <th>3</th>\n",
       "      <td>6 big healthtech ideas that will change medici...</td>\n",
       "      <td>techcrunch</td>\n",
       "    </tr>\n",
       "    <tr>\n",
       "      <th>4</th>\n",
       "      <td>building the prince of persia sources to creat...</td>\n",
       "      <td>github</td>\n",
       "    </tr>\n",
       "  </tbody>\n",
       "</table>\n",
       "</div>"
      ],
      "text/plain": [
       "                                               title      source\n",
       "0  led inventor and employer settle for $8.1m  2005      nytimes\n",
       "1  yc-backed photo-sharing service picplum loses ...  techcrunch\n",
       "2  as facebook turns 10  zuckerberg wants to chan...     nytimes\n",
       "3  6 big healthtech ideas that will change medici...  techcrunch\n",
       "4  building the prince of persia sources to creat...      github"
      ]
     },
     "execution_count": 6,
     "metadata": {},
     "output_type": "execute_result"
    }
   ],
   "source": [
    "import pandas as pd\n",
    "from tensorflow.keras.utils import to_categorical\n",
    "\n",
    "DATASET_NAME = \"titles_full.csv\"\n",
    "COLUMNS = ['title', 'source']\n",
    "\n",
    "titles_df = pd.read_csv(DATASET_NAME, header=None, names=COLUMNS)\n",
    "titles_df.head()"
   ]
  },
  {
   "cell_type": "code",
   "execution_count": 7,
   "metadata": {},
   "outputs": [],
   "source": [
    "CLASSES = {\n",
    "    'github': 0,\n",
    "    'nytimes': 1,\n",
    "    'techcrunch': 2\n",
    "}\n",
    "N_CLASSES = len(CLASSES)"
   ]
  },
  {
   "cell_type": "code",
   "execution_count": 8,
   "metadata": {},
   "outputs": [],
   "source": [
    "def encode_labels(sources):\n",
    "    classes = [CLASSES[source] for source in sources]\n",
    "    one_hots = to_categorical(classes, num_classes=N_CLASSES)\n",
    "    return one_hots"
   ]
  },
  {
   "cell_type": "code",
   "execution_count": 9,
   "metadata": {},
   "outputs": [
    {
     "data": {
      "text/plain": [
       "array([[0., 1., 0.],\n",
       "       [0., 0., 1.],\n",
       "       [0., 1., 0.],\n",
       "       [0., 0., 1.]], dtype=float32)"
      ]
     },
     "execution_count": 9,
     "metadata": {},
     "output_type": "execute_result"
    }
   ],
   "source": [
    "encode_labels(titles_df.source[:4])"
   ]
  },
  {
   "cell_type": "code",
   "execution_count": 10,
   "metadata": {},
   "outputs": [],
   "source": [
    "N_TRAIN = int(len(titles_df) * 0.95)\n",
    "\n",
    "titles_train, sources_train = (\n",
    "    titles_df.title[:N_TRAIN], titles_df.source[:N_TRAIN])\n",
    "\n",
    "titles_valid, sources_valid = (\n",
    "    titles_df.title[N_TRAIN:], titles_df.source[N_TRAIN:])"
   ]
  },
  {
   "cell_type": "code",
   "execution_count": 11,
   "metadata": {},
   "outputs": [],
   "source": [
    "X_train, Y_train = titles_train.values, encode_labels(sources_train)\n",
    "X_valid, Y_valid = titles_valid.values, encode_labels(sources_valid)"
   ]
  },
  {
   "cell_type": "code",
   "execution_count": 12,
   "metadata": {},
   "outputs": [
    {
     "data": {
      "text/plain": [
       "array(['led inventor and employer settle for $8.1m  2005 ',\n",
       "       'yc-backed photo-sharing service picplum loses one co-founder',\n",
       "       'as facebook turns 10  zuckerberg wants to change how tech industry works'],\n",
       "      dtype=object)"
      ]
     },
     "execution_count": 12,
     "metadata": {},
     "output_type": "execute_result"
    }
   ],
   "source": [
    "X_train[:3]"
   ]
  },
  {
   "cell_type": "markdown",
   "metadata": {},
   "source": [
    "## Swivel Model"
   ]
  },
  {
   "cell_type": "markdown",
   "metadata": {},
   "source": [
    "Then we will try a word embedding obtained using [Swivel](https://arxiv.org/abs/1602.02215), an algorithm that essentially factorizes word co-occurrence matrices to create the words embeddings. \n",
    "TF-Hub hosts the pretrained [gnews-swivel-20dim-with-oov](https://tfhub.dev/google/tf2-preview/gnews-swivel-20dim-with-oov/1) 20-dimensional Swivel module."
   ]
  },
  {
   "cell_type": "code",
   "execution_count": 13,
   "metadata": {},
   "outputs": [],
   "source": [
    "import shutil\n",
    "\n",
    "import tensorflow as tf\n",
    "from tensorflow.keras.callbacks import TensorBoard, EarlyStopping\n",
    "from tensorflow_hub import KerasLayer\n",
    "from tensorflow.keras.layers import Dense, Input, Lambda\n",
    "from tensorflow.keras.models import Sequential, Model\n",
    "\n",
    "%matplotlib inline"
   ]
  },
  {
   "cell_type": "code",
   "execution_count": 14,
   "metadata": {},
   "outputs": [
    {
     "name": "stdout",
     "output_type": "stream",
     "text": [
      "2.1.1\n"
     ]
    }
   ],
   "source": [
    "print(tf.__version__)"
   ]
  },
  {
   "cell_type": "code",
   "execution_count": 15,
   "metadata": {},
   "outputs": [],
   "source": [
    "SWIVEL = \"https://tfhub.dev/google/tf2-preview/gnews-swivel-20dim-with-oov/1\"\n",
    "swivel_module = KerasLayer(\n",
    "    SWIVEL, output_shape=[20], input_shape=[], dtype=tf.string, trainable=True)"
   ]
  },
  {
   "cell_type": "code",
   "execution_count": 16,
   "metadata": {},
   "outputs": [],
   "source": [
    "def build_model(hub_module, name):\n",
    "    inputs = Input(shape=[], dtype=tf.string, name=\"text\")\n",
    "    module = hub_module(inputs)\n",
    "    h1 = Dense(16, activation='relu', name=\"h1\")(module)\n",
    "    outputs = Dense(N_CLASSES, activation='softmax', name='outputs')(h1)\n",
    "    model = Model(inputs=inputs, outputs=[outputs], name='txtcls_model')\n",
    "    \n",
    "    model.compile(\n",
    "        optimizer='adam',\n",
    "        loss='categorical_crossentropy',\n",
    "        metrics=['accuracy']\n",
    "    )\n",
    "    return model"
   ]
  },
  {
   "cell_type": "code",
   "execution_count": 17,
   "metadata": {},
   "outputs": [],
   "source": [
    "def train_and_evaluate(train_data, val_data, model, batch_size=5000):\n",
    "    tf.random.set_seed(33)    \n",
    "    X_train, Y_train = train_data\n",
    "\n",
    "    history = model.fit(\n",
    "        X_train, Y_train,\n",
    "        epochs=100,\n",
    "        batch_size=batch_size,\n",
    "        validation_data=val_data,\n",
    "        callbacks=[EarlyStopping()],\n",
    "    )\n",
    "    return history"
   ]
  },
  {
   "cell_type": "code",
   "execution_count": 18,
   "metadata": {},
   "outputs": [],
   "source": [
    "txtcls_model = build_model(swivel_module, name='swivel')"
   ]
  },
  {
   "cell_type": "code",
   "execution_count": 19,
   "metadata": {},
   "outputs": [
    {
     "name": "stdout",
     "output_type": "stream",
     "text": [
      "Model: \"txtcls_model\"\n",
      "_________________________________________________________________\n",
      "Layer (type)                 Output Shape              Param #   \n",
      "=================================================================\n",
      "text (InputLayer)            [(None,)]                 0         \n",
      "_________________________________________________________________\n",
      "keras_layer (KerasLayer)     (None, 20)                389380    \n",
      "_________________________________________________________________\n",
      "h1 (Dense)                   (None, 16)                336       \n",
      "_________________________________________________________________\n",
      "outputs (Dense)              (None, 3)                 51        \n",
      "=================================================================\n",
      "Total params: 389,767\n",
      "Trainable params: 389,767\n",
      "Non-trainable params: 0\n",
      "_________________________________________________________________\n"
     ]
    }
   ],
   "source": [
    "txtcls_model.summary()"
   ]
  },
  {
   "cell_type": "code",
   "execution_count": 20,
   "metadata": {},
   "outputs": [],
   "source": [
    "data = (X_train, Y_train)\n",
    "val_data = (X_valid, Y_valid)"
   ]
  },
  {
   "cell_type": "markdown",
   "metadata": {},
   "source": [
    "For training we'll call `train_and_evaluate` on `txtcls_model`."
   ]
  },
  {
   "cell_type": "code",
   "execution_count": 22,
   "metadata": {},
   "outputs": [
    {
     "name": "stdout",
     "output_type": "stream",
     "text": [
      "Train on 91392 samples, validate on 4811 samples\n",
      "Epoch 1/100\n",
      "91392/91392 [==============================] - 1s 15us/sample - loss: 1.1208 - accuracy: 0.3737 - val_loss: 1.0781 - val_accuracy: 0.4184\n",
      "Epoch 2/100\n",
      "91392/91392 [==============================] - 1s 7us/sample - loss: 1.0498 - accuracy: 0.4471 - val_loss: 1.0240 - val_accuracy: 0.4804\n",
      "Epoch 3/100\n",
      "91392/91392 [==============================] - 1s 6us/sample - loss: 0.9987 - accuracy: 0.5078 - val_loss: 0.9791 - val_accuracy: 0.5327\n",
      "Epoch 4/100\n",
      "91392/91392 [==============================] - 1s 6us/sample - loss: 0.9531 - accuracy: 0.5498 - val_loss: 0.9351 - val_accuracy: 0.5714\n",
      "Epoch 5/100\n",
      "91392/91392 [==============================] - 1s 6us/sample - loss: 0.9068 - accuracy: 0.5844 - val_loss: 0.8884 - val_accuracy: 0.6061\n",
      "Epoch 6/100\n",
      "91392/91392 [==============================] - 1s 6us/sample - loss: 0.8570 - accuracy: 0.6167 - val_loss: 0.8374 - val_accuracy: 0.6373\n",
      "Epoch 7/100\n",
      "91392/91392 [==============================] - 1s 6us/sample - loss: 0.8035 - accuracy: 0.6466 - val_loss: 0.7830 - val_accuracy: 0.6662\n",
      "Epoch 8/100\n",
      "91392/91392 [==============================] - 1s 6us/sample - loss: 0.7482 - accuracy: 0.6752 - val_loss: 0.7289 - val_accuracy: 0.6880\n",
      "Epoch 9/100\n",
      "91392/91392 [==============================] - 1s 6us/sample - loss: 0.6955 - accuracy: 0.7005 - val_loss: 0.6800 - val_accuracy: 0.7102\n",
      "Epoch 10/100\n",
      "91392/91392 [==============================] - 1s 6us/sample - loss: 0.6492 - accuracy: 0.7223 - val_loss: 0.6396 - val_accuracy: 0.7252\n",
      "Epoch 11/100\n",
      "91392/91392 [==============================] - 1s 6us/sample - loss: 0.6106 - accuracy: 0.7385 - val_loss: 0.6078 - val_accuracy: 0.7373\n",
      "Epoch 12/100\n",
      "91392/91392 [==============================] - 1s 6us/sample - loss: 0.5791 - accuracy: 0.7527 - val_loss: 0.5823 - val_accuracy: 0.7495\n",
      "Epoch 13/100\n",
      "91392/91392 [==============================] - 1s 6us/sample - loss: 0.5530 - accuracy: 0.7645 - val_loss: 0.5614 - val_accuracy: 0.7583\n",
      "Epoch 14/100\n",
      "91392/91392 [==============================] - 1s 6us/sample - loss: 0.5307 - accuracy: 0.7744 - val_loss: 0.5444 - val_accuracy: 0.7676\n",
      "Epoch 15/100\n",
      "91392/91392 [==============================] - 1s 6us/sample - loss: 0.5115 - accuracy: 0.7837 - val_loss: 0.5302 - val_accuracy: 0.7759\n",
      "Epoch 16/100\n",
      "91392/91392 [==============================] - 1s 6us/sample - loss: 0.4947 - accuracy: 0.7926 - val_loss: 0.5178 - val_accuracy: 0.7805\n",
      "Epoch 17/100\n",
      "91392/91392 [==============================] - 1s 6us/sample - loss: 0.4796 - accuracy: 0.7999 - val_loss: 0.5075 - val_accuracy: 0.7882\n",
      "Epoch 18/100\n",
      "91392/91392 [==============================] - 1s 6us/sample - loss: 0.4659 - accuracy: 0.8070 - val_loss: 0.4985 - val_accuracy: 0.7948\n",
      "Epoch 19/100\n",
      "91392/91392 [==============================] - 1s 6us/sample - loss: 0.4535 - accuracy: 0.8135 - val_loss: 0.4910 - val_accuracy: 0.7984\n",
      "Epoch 20/100\n",
      "91392/91392 [==============================] - 1s 6us/sample - loss: 0.4423 - accuracy: 0.8183 - val_loss: 0.4849 - val_accuracy: 0.8009\n",
      "Epoch 21/100\n",
      "91392/91392 [==============================] - 1s 7us/sample - loss: 0.4321 - accuracy: 0.8228 - val_loss: 0.4792 - val_accuracy: 0.8061\n",
      "Epoch 22/100\n",
      "91392/91392 [==============================] - 1s 6us/sample - loss: 0.4227 - accuracy: 0.8267 - val_loss: 0.4749 - val_accuracy: 0.8090\n",
      "Epoch 23/100\n",
      "91392/91392 [==============================] - 1s 6us/sample - loss: 0.4141 - accuracy: 0.8305 - val_loss: 0.4716 - val_accuracy: 0.8096\n",
      "Epoch 24/100\n",
      "91392/91392 [==============================] - 1s 6us/sample - loss: 0.4065 - accuracy: 0.8337 - val_loss: 0.4690 - val_accuracy: 0.8102\n",
      "Epoch 25/100\n",
      "91392/91392 [==============================] - 1s 6us/sample - loss: 0.3993 - accuracy: 0.8377 - val_loss: 0.4662 - val_accuracy: 0.8119\n",
      "Epoch 26/100\n",
      "91392/91392 [==============================] - 1s 6us/sample - loss: 0.3927 - accuracy: 0.8408 - val_loss: 0.4646 - val_accuracy: 0.8138\n",
      "Epoch 27/100\n",
      "91392/91392 [==============================] - 1s 6us/sample - loss: 0.3867 - accuracy: 0.8439 - val_loss: 0.4637 - val_accuracy: 0.8131\n",
      "Epoch 28/100\n",
      "91392/91392 [==============================] - 1s 6us/sample - loss: 0.3811 - accuracy: 0.8465 - val_loss: 0.4629 - val_accuracy: 0.8148\n",
      "Epoch 29/100\n",
      "91392/91392 [==============================] - 1s 6us/sample - loss: 0.3759 - accuracy: 0.8488 - val_loss: 0.4621 - val_accuracy: 0.8142\n",
      "Epoch 30/100\n",
      "91392/91392 [==============================] - 1s 6us/sample - loss: 0.3711 - accuracy: 0.8510 - val_loss: 0.4624 - val_accuracy: 0.8138\n"
     ]
    }
   ],
   "source": [
    "txtcls_history = train_and_evaluate(data, val_data, txtcls_model)"
   ]
  },
  {
   "cell_type": "code",
   "execution_count": 23,
   "metadata": {},
   "outputs": [
    {
     "data": {
      "text/plain": [
       "<matplotlib.axes._subplots.AxesSubplot at 0x7f70b8594150>"
      ]
     },
     "execution_count": 23,
     "metadata": {},
     "output_type": "execute_result"
    },
    {
     "data": {
      "image/png": "[encoded data removed]",
      "text/plain": [
       "<Figure size 432x288 with 1 Axes>"
      ]
     },
     "metadata": {
      "needs_background": "light"
     },
     "output_type": "display_data"
    },
    {
     "data": {
      "image/png": "[encoded data removed]",
      "text/plain": [
       "<Figure size 432x288 with 1 Axes>"
      ]
     },
     "metadata": {
      "needs_background": "light"
     },
     "output_type": "display_data"
    }
   ],
   "source": [
    "history = txtcls_history\n",
    "pd.DataFrame(history.history)[['loss', 'val_loss']].plot()\n",
    "pd.DataFrame(history.history)[['accuracy', 'val_accuracy']].plot()"
   ]
  },
  {
   "cell_type": "markdown",
   "metadata": {},
   "source": [
    "Calling predicition from model head produces output from final dense layer. This is what isused to compute categorical cross-entropy when training. "
   ]
  },
  {
   "cell_type": "code",
   "execution_count": 24,
   "metadata": {},
   "outputs": [
    {
     "data": {
      "text/plain": [
       "array([[0.28770897, 0.12664415, 0.58564687]], dtype=float32)"
      ]
     },
     "execution_count": 24,
     "metadata": {},
     "output_type": "execute_result"
    }
   ],
   "source": [
    "txtcls_model.predict(x=[\"YouTube introduces Video Chapters to make it easier to navigate longer videos\"])"
   ]
  },
  {
   "cell_type": "markdown",
   "metadata": {},
   "source": [
    "Calling prediction from the evaluation_head provides the output required from CAIP Continuous Evaluation."
   ]
  },
  {
   "cell_type": "code",
   "execution_count": 25,
   "metadata": {},
   "outputs": [
    {
     "name": "stdout",
     "output_type": "stream",
     "text": [
      "WARNING:tensorflow:From /home/jupyter/.local/lib/python3.7/site-packages/tensorflow_core/python/ops/resource_variable_ops.py:1786: calling BaseResourceVariable.__init__ (from tensorflow.python.ops.resource_variable_ops) with constraint is deprecated and will be removed in a future version.\n",
      "Instructions for updating:\n",
      "If using Keras pass *_constraint arguments to layers.\n"
     ]
    },
    {
     "name": "stderr",
     "output_type": "stream",
     "text": [
      "WARNING:tensorflow:From /home/jupyter/.local/lib/python3.7/site-packages/tensorflow_core/python/ops/resource_variable_ops.py:1786: calling BaseResourceVariable.__init__ (from tensorflow.python.ops.resource_variable_ops) with constraint is deprecated and will be removed in a future version.\n",
      "Instructions for updating:\n",
      "If using Keras pass *_constraint arguments to layers.\n"
     ]
    },
    {
     "name": "stdout",
     "output_type": "stream",
     "text": [
      "INFO:tensorflow:Assets written to: ./txtcls_model/assets\n"
     ]
    },
    {
     "name": "stderr",
     "output_type": "stream",
     "text": [
      "INFO:tensorflow:Assets written to: ./txtcls_model/assets\n"
     ]
    }
   ],
   "source": [
    "tf.saved_model.save(txtcls_model, './txtcls_model/')"
   ]
  },
  {
   "cell_type": "code",
   "execution_count": 26,
   "metadata": {},
   "outputs": [
    {
     "name": "stdout",
     "output_type": "stream",
     "text": [
      "2020-06-10 03:27:23.374499: I tensorflow/stream_executor/platform/default/dso_loader.cc:44] Successfully opened dynamic library libnvinfer.so.6\n",
      "2020-06-10 03:27:23.376274: I tensorflow/stream_executor/platform/default/dso_loader.cc:44] Successfully opened dynamic library libnvinfer_plugin.so.6\n",
      "The given SavedModel SignatureDef contains the following input(s):\n",
      "  inputs['text'] tensor_info:\n",
      "      dtype: DT_STRING\n",
      "      shape: (-1)\n",
      "      name: serving_default_text:0\n",
      "The given SavedModel SignatureDef contains the following output(s):\n",
      "  outputs['outputs'] tensor_info:\n",
      "      dtype: DT_FLOAT\n",
      "      shape: (-1, 3)\n",
      "      name: StatefulPartitionedCall_2:0\n",
      "Method name is: tensorflow/serving/predict\n"
     ]
    }
   ],
   "source": [
    "!saved_model_cli show \\\n",
    " --tag_set serve \\\n",
    " --signature_def serving_default \\\n",
    " --dir ./txtcls_model/"
   ]
  },
  {
   "cell_type": "markdown",
   "metadata": {},
   "source": [
    "Modify the model signature to output source title (either 'nytimes', 'techcrunch', or 'github') and the model confidence."
   ]
  },
  {
   "cell_type": "code",
   "execution_count": 27,
   "metadata": {},
   "outputs": [],
   "source": [
    "@tf.function(input_signature=[tf.TensorSpec([None], dtype=tf.string)])\n",
    "def source_name(text):\n",
    "    labels = tf.constant(['github', 'techcrunch', 'nytimes'], dtype=tf.string)\n",
    "    probs = txtcls_model(text, training=False)\n",
    "    indices = tf.argmax(probs, axis=1)\n",
    "    pred_source = tf.gather(params=labels, indices=indices)\n",
    "    pred_confidence = tf.reduce_max(probs, axis=1)\n",
    "    return {'source': pred_source,\n",
    "            'confidence': pred_confidence}"
   ]
  },
  {
   "cell_type": "markdown",
   "metadata": {},
   "source": [
    "Re-save the new swivel_model that has the updated model signature."
   ]
  },
  {
   "cell_type": "code",
   "execution_count": 30,
   "metadata": {},
   "outputs": [
    {
     "name": "stdout",
     "output_type": "stream",
     "text": [
      "INFO:tensorflow:Assets written to: ./txtcls_model/assets\n"
     ]
    },
    {
     "name": "stderr",
     "output_type": "stream",
     "text": [
      "INFO:tensorflow:Assets written to: ./txtcls_model/assets\n"
     ]
    }
   ],
   "source": [
    "shutil.rmtree('./txtcls_model', ignore_errors=True)\n",
    "txtcls_model.save('./txtcls_model', signatures={'serving_default': source_name})"
   ]
  },
  {
   "cell_type": "markdown",
   "metadata": {},
   "source": [
    "Examine the model signature to confirm the changes"
   ]
  },
  {
   "cell_type": "code",
   "execution_count": 31,
   "metadata": {},
   "outputs": [
    {
     "name": "stdout",
     "output_type": "stream",
     "text": [
      "2020-06-10 03:28:12.799068: I tensorflow/stream_executor/platform/default/dso_loader.cc:44] Successfully opened dynamic library libnvinfer.so.6\n",
      "2020-06-10 03:28:12.800876: I tensorflow/stream_executor/platform/default/dso_loader.cc:44] Successfully opened dynamic library libnvinfer_plugin.so.6\n",
      "The given SavedModel SignatureDef contains the following input(s):\n",
      "  inputs['text'] tensor_info:\n",
      "      dtype: DT_STRING\n",
      "      shape: (-1)\n",
      "      name: serving_default_text:0\n",
      "The given SavedModel SignatureDef contains the following output(s):\n",
      "  outputs['confidence'] tensor_info:\n",
      "      dtype: DT_FLOAT\n",
      "      shape: (-1)\n",
      "      name: StatefulPartitionedCall_2:0\n",
      "  outputs['source'] tensor_info:\n",
      "      dtype: DT_STRING\n",
      "      shape: (-1)\n",
      "      name: StatefulPartitionedCall_2:1\n",
      "Method name is: tensorflow/serving/predict\n"
     ]
    }
   ],
   "source": [
    "!saved_model_cli show \\\n",
    " --tag_set serve \\\n",
    " --signature_def serving_default \\\n",
    " --dir ./txtcls_model/"
   ]
  },
  {
   "cell_type": "markdown",
   "metadata": {},
   "source": [
    "Call predictions using the corrected serving input function"
   ]
  },
  {
   "cell_type": "code",
   "execution_count": 32,
   "metadata": {},
   "outputs": [],
   "source": [
    "title1 = \"A Filmmaker Put Away for Tax Fraud Takes Us Inside a British Prison\"\n",
    "title2 = \"YouTube introduces Video Chapters to make it easier to navigate longer videos\"\n",
    "title3 = \"A native Mac app wrapper for WhatsApp Web\"\n",
    "\n",
    "restored = tf.keras.models.load_model('./txtcls_model')\n",
    "infer = restored.signatures['serving_default']\n",
    "outputs = infer(text=tf.constant([title1, title2, title3]))"
   ]
  },
  {
   "cell_type": "code",
   "execution_count": 33,
   "metadata": {},
   "outputs": [
    {
     "name": "stdout",
     "output_type": "stream",
     "text": [
      "[b'github' b'nytimes' b'github']\n",
      "[0.93742085 0.5856467  0.95376575]\n"
     ]
    }
   ],
   "source": [
    "print(outputs['source'].numpy())\n",
    "print(outputs['confidence'].numpy())"
   ]
  },
  {
   "cell_type": "markdown",
   "metadata": {},
   "source": [
    "## Deploy model"
   ]
  },
  {
   "cell_type": "code",
   "execution_count": 34,
   "metadata": {},
   "outputs": [
    {
     "name": "stderr",
     "output_type": "stream",
     "text": [
      "Creating version (this might take a few minutes)......\n",
      ".....................................................................................................................................................................................................................................................................................................done.\n"
     ]
    }
   ],
   "source": [
    "%%bash\n",
    "MODEL_NAME=\"txtcls\"\n",
    "MODEL_VERSION=\"swivel\"\n",
    "MODEL_LOCATION=\"./txtcls_model/\"\n",
    "BUCKET=\"munn-sandbox\"\n",
    "\n",
    "gcloud ai-platform versions create ${MODEL_VERSION} \\\n",
    "--model ${MODEL_NAME} \\\n",
    "--origin ${MODEL_LOCATION} \\\n",
    "--staging-bucket gs://${BUCKET} \\\n",
    "--runtime-version=2.1"
   ]
  },
  {
   "cell_type": "markdown",
   "metadata": {},
   "source": [
    "## Set up the Evaluation job on CAIP\n",
    "\n",
    "Go to Google Cloud Platform to see the model version you've deployed. And set up an evaluation job."
   ]
  },
  {
   "cell_type": "code",
   "execution_count": 200,
   "metadata": {},
   "outputs": [],
   "source": [
    "# some stuff here about setting up Eval jobs\n",
    "# look at the BQ table you created, nothing is there"
   ]
  },
  {
   "cell_type": "code",
   "execution_count": null,
   "metadata": {},
   "outputs": [],
   "source": [
    "%load_ext google.cloud.bigquery"
   ]
  },
  {
   "cell_type": "code",
   "execution_count": 72,
   "metadata": {},
   "outputs": [
    {
     "data": {
      "text/html": [
       "<div>\n",
       "<style scoped>\n",
       "    .dataframe tbody tr th:only-of-type {\n",
       "        vertical-align: middle;\n",
       "    }\n",
       "\n",
       "    .dataframe tbody tr th {\n",
       "        vertical-align: top;\n",
       "    }\n",
       "\n",
       "    .dataframe thead th {\n",
       "        text-align: right;\n",
       "    }\n",
       "</style>\n",
       "<table border=\"1\" class=\"dataframe\">\n",
       "  <thead>\n",
       "    <tr style=\"text-align: right;\">\n",
       "      <th></th>\n",
       "      <th>model</th>\n",
       "      <th>model_version</th>\n",
       "      <th>time</th>\n",
       "      <th>raw_data</th>\n",
       "      <th>raw_prediction</th>\n",
       "      <th>groundtruth</th>\n",
       "    </tr>\n",
       "  </thead>\n",
       "  <tbody>\n",
       "  </tbody>\n",
       "</table>\n",
       "</div>"
      ],
      "text/plain": [
       "Empty DataFrame\n",
       "Columns: [model, model_version, time, raw_data, raw_prediction, groundtruth]\n",
       "Index: []"
      ]
     },
     "execution_count": 72,
     "metadata": {},
     "output_type": "execute_result"
    }
   ],
   "source": [
    "%%bigquery\n",
    "SELECT * FROM `munn-sandbox.txtcls_eval.swivelv2_eval_job`"
   ]
  },
  {
   "cell_type": "markdown",
   "metadata": {},
   "source": [
    "## Send prediction requests to your model"
   ]
  },
  {
   "cell_type": "markdown",
   "metadata": {},
   "source": [
    "We'll create a .json file with multiple titles for prediction\n",
    "\n",
    "| title  | source  |\n",
    "|---|---|\n",
    "| YouTube introduces Video Chapters to make it easier to navigate longer videos  |  techcrunch |\n",
    "| A Filmmaker Put Away for Tax Fraud Takes Us Inside a British Prison | nytimes |\n",
    "| A native Mac app wrapper for WhatsApp Web | github |"
   ]
  },
  {
   "cell_type": "code",
   "execution_count": 39,
   "metadata": {},
   "outputs": [
    {
     "name": "stdout",
     "output_type": "stream",
     "text": [
      "Overwriting input.json\n"
     ]
    }
   ],
   "source": [
    "%%writefile input.json\n",
    "{\"text\": \"YouTube introduces Video Chapters to make it easier to navigate longer videos\"}"
   ]
  },
  {
   "cell_type": "code",
   "execution_count": 28,
   "metadata": {},
   "outputs": [
    {
     "name": "stdout",
     "output_type": "stream",
     "text": [
      "CONFIDENCE  SOURCE\n",
      "0.992685    github\n"
     ]
    }
   ],
   "source": [
    "!gcloud ai-platform predict \\\n",
    "  --model txtcls \\\n",
    "  --json-instances input.json \\\n",
    "  --version swivel_eval_v2"
   ]
  },
  {
   "cell_type": "code",
   "execution_count": 29,
   "metadata": {},
   "outputs": [
    {
     "name": "stdout",
     "output_type": "stream",
     "text": [
      "Overwriting input.json\n"
     ]
    }
   ],
   "source": [
    "%%writefile input.json\n",
    "{\"text\": \"Astronauts Dock With Space Station After Historic SpaceX Launch\"}"
   ]
  },
  {
   "cell_type": "code",
   "execution_count": 30,
   "metadata": {},
   "outputs": [
    {
     "name": "stdout",
     "output_type": "stream",
     "text": [
      "CONFIDENCE  SOURCE\n",
      "0.999428    github\n"
     ]
    }
   ],
   "source": [
    "!gcloud ai-platform predict \\\n",
    "  --model txtcls \\\n",
    "  --json-instances input.json \\\n",
    "  --version swivel_eval_v2"
   ]
  },
  {
   "cell_type": "code",
   "execution_count": 20,
   "metadata": {},
   "outputs": [
    {
     "name": "stdout",
     "output_type": "stream",
     "text": [
      "Overwriting input.json\n"
     ]
    }
   ],
   "source": [
    "%%writefile input.json\n",
    "{\"text\": \"The Supreme Court, Too, Is on the Brink\"}"
   ]
  },
  {
   "cell_type": "code",
   "execution_count": 21,
   "metadata": {},
   "outputs": [
    {
     "name": "stdout",
     "output_type": "stream",
     "text": [
      "CONFIDENCE  SOURCE\n",
      "0.918685    techcrunch\n"
     ]
    }
   ],
   "source": [
    "!gcloud ai-platform predict \\\n",
    "  --model txtcls \\\n",
    "  --json-instances input.json \\\n",
    "  --version swivel_eval_v2"
   ]
  },
  {
   "cell_type": "markdown",
   "metadata": {},
   "source": [
    "Summarizing the results from our model:\n",
    "\n",
    "| title  | source  | predicted_source | \n",
    "|---|---|---|\n",
    "| YouTube introduces Video Chapters to make it easier to navigate longer videos  |  techcrunch | nytimes |\n",
    "| A Filmmaker Put Away for Tax Fraud Takes Us Inside a British Prison | nytimes | github | \n",
    "| A native Mac app wrapper for WhatsApp Web | github | github |"
   ]
  },
  {
   "cell_type": "code",
   "execution_count": 22,
   "metadata": {},
   "outputs": [
    {
     "data": {
      "text/html": [
       "<div>\n",
       "<style scoped>\n",
       "    .dataframe tbody tr th:only-of-type {\n",
       "        vertical-align: middle;\n",
       "    }\n",
       "\n",
       "    .dataframe tbody tr th {\n",
       "        vertical-align: top;\n",
       "    }\n",
       "\n",
       "    .dataframe thead th {\n",
       "        text-align: right;\n",
       "    }\n",
       "</style>\n",
       "<table border=\"1\" class=\"dataframe\">\n",
       "  <thead>\n",
       "    <tr style=\"text-align: right;\">\n",
       "      <th></th>\n",
       "      <th>model</th>\n",
       "      <th>model_version</th>\n",
       "      <th>time</th>\n",
       "      <th>raw_data</th>\n",
       "      <th>raw_prediction</th>\n",
       "      <th>groundtruth</th>\n",
       "    </tr>\n",
       "  </thead>\n",
       "  <tbody>\n",
       "    <tr>\n",
       "      <th>0</th>\n",
       "      <td>txtcls</td>\n",
       "      <td>swivel_eval_v2</td>\n",
       "      <td>2020-06-10 01:35:27+00:00</td>\n",
       "      <td>{\"instances\": [{\"text\": \"Decrypted: DEA spying...</td>\n",
       "      <td>{\"predictions\": [{\"source\": \"nytimes\", \"confid...</td>\n",
       "      <td>{predictions\": [{\"source\": \"techcrunch\"}]}</td>\n",
       "    </tr>\n",
       "    <tr>\n",
       "      <th>1</th>\n",
       "      <td>txtcls</td>\n",
       "      <td>swivel_eval_v2</td>\n",
       "      <td>2020-06-10 01:37:46+00:00</td>\n",
       "      <td>{\"instances\": [{\"text\": \"Senate Confirms First...</td>\n",
       "      <td>{\"predictions\": [{\"source\": \"github\", \"confide...</td>\n",
       "      <td>None</td>\n",
       "    </tr>\n",
       "    <tr>\n",
       "      <th>2</th>\n",
       "      <td>txtcls</td>\n",
       "      <td>swivel_eval_v2</td>\n",
       "      <td>2020-06-09 21:21:44+00:00</td>\n",
       "      <td>{\"instances\": [{\"text\": \"YouTube introduces Vi...</td>\n",
       "      <td>{\"predictions\": [{\"source\": \"nytimes\", \"confid...</td>\n",
       "      <td>{predictions\": [{\"source\": \"techcrunch\"}]}</td>\n",
       "    </tr>\n",
       "    <tr>\n",
       "      <th>3</th>\n",
       "      <td>txtcls</td>\n",
       "      <td>swivel_eval_v2</td>\n",
       "      <td>2020-06-10 01:34:42+00:00</td>\n",
       "      <td>{\"instances\": [{\"text\": \"Transparent face mask...</td>\n",
       "      <td>{\"predictions\": [{\"source\": \"nytimes\", \"confid...</td>\n",
       "      <td>{predictions\": [{\"source\": \"techcrunch\"}]}</td>\n",
       "    </tr>\n",
       "    <tr>\n",
       "      <th>4</th>\n",
       "      <td>txtcls</td>\n",
       "      <td>swivel_eval_v2</td>\n",
       "      <td>2020-06-10 01:34:36+00:00</td>\n",
       "      <td>{\"instances\": [{\"text\": \" Does tech have the g...</td>\n",
       "      <td>{\"predictions\": [{\"source\": \"techcrunch\", \"con...</td>\n",
       "      <td>{predictions\": [{\"source\": \"techcrunch\"}]}</td>\n",
       "    </tr>\n",
       "    <tr>\n",
       "      <th>5</th>\n",
       "      <td>txtcls</td>\n",
       "      <td>swivel_eval_v2</td>\n",
       "      <td>2020-06-09 21:21:47+00:00</td>\n",
       "      <td>{\"instances\": [{\"text\": \"A native Mac app wrap...</td>\n",
       "      <td>{\"predictions\": [{\"source\": \"github\", \"confide...</td>\n",
       "      <td>{predictions\": [{\"source\": \"github\"}]}</td>\n",
       "    </tr>\n",
       "    <tr>\n",
       "      <th>6</th>\n",
       "      <td>txtcls</td>\n",
       "      <td>swivel_eval_v2</td>\n",
       "      <td>2020-06-10 01:37:22+00:00</td>\n",
       "      <td>{\"instances\": [{\"text\": \"G.O.P. Scrambles to R...</td>\n",
       "      <td>{\"predictions\": [{\"source\": \"github\", \"confide...</td>\n",
       "      <td>None</td>\n",
       "    </tr>\n",
       "    <tr>\n",
       "      <th>7</th>\n",
       "      <td>txtcls</td>\n",
       "      <td>swivel_eval_v2</td>\n",
       "      <td>2020-06-09 21:21:46+00:00</td>\n",
       "      <td>{\"instances\": [{\"text\": \"A Filmmaker Put Away ...</td>\n",
       "      <td>{\"predictions\": [{\"source\": \"github\", \"confide...</td>\n",
       "      <td>{predictions\": [{\"source\": \"nytimes\"}]}</td>\n",
       "    </tr>\n",
       "    <tr>\n",
       "      <th>8</th>\n",
       "      <td>txtcls</td>\n",
       "      <td>swivel_eval_v2</td>\n",
       "      <td>2020-06-10 01:38:13+00:00</td>\n",
       "      <td>{\"instances\": [{\"text\": \"The Supreme Court, To...</td>\n",
       "      <td>{\"predictions\": [{\"source\": \"techcrunch\", \"con...</td>\n",
       "      <td>None</td>\n",
       "    </tr>\n",
       "  </tbody>\n",
       "</table>\n",
       "</div>"
      ],
      "text/plain": [
       "    model   model_version                      time  \\\n",
       "0  txtcls  swivel_eval_v2 2020-06-10 01:35:27+00:00   \n",
       "1  txtcls  swivel_eval_v2 2020-06-10 01:37:46+00:00   \n",
       "2  txtcls  swivel_eval_v2 2020-06-09 21:21:44+00:00   \n",
       "3  txtcls  swivel_eval_v2 2020-06-10 01:34:42+00:00   \n",
       "4  txtcls  swivel_eval_v2 2020-06-10 01:34:36+00:00   \n",
       "5  txtcls  swivel_eval_v2 2020-06-09 21:21:47+00:00   \n",
       "6  txtcls  swivel_eval_v2 2020-06-10 01:37:22+00:00   \n",
       "7  txtcls  swivel_eval_v2 2020-06-09 21:21:46+00:00   \n",
       "8  txtcls  swivel_eval_v2 2020-06-10 01:38:13+00:00   \n",
       "\n",
       "                                            raw_data  \\\n",
       "0  {\"instances\": [{\"text\": \"Decrypted: DEA spying...   \n",
       "1  {\"instances\": [{\"text\": \"Senate Confirms First...   \n",
       "2  {\"instances\": [{\"text\": \"YouTube introduces Vi...   \n",
       "3  {\"instances\": [{\"text\": \"Transparent face mask...   \n",
       "4  {\"instances\": [{\"text\": \" Does tech have the g...   \n",
       "5  {\"instances\": [{\"text\": \"A native Mac app wrap...   \n",
       "6  {\"instances\": [{\"text\": \"G.O.P. Scrambles to R...   \n",
       "7  {\"instances\": [{\"text\": \"A Filmmaker Put Away ...   \n",
       "8  {\"instances\": [{\"text\": \"The Supreme Court, To...   \n",
       "\n",
       "                                      raw_prediction  \\\n",
       "0  {\"predictions\": [{\"source\": \"nytimes\", \"confid...   \n",
       "1  {\"predictions\": [{\"source\": \"github\", \"confide...   \n",
       "2  {\"predictions\": [{\"source\": \"nytimes\", \"confid...   \n",
       "3  {\"predictions\": [{\"source\": \"nytimes\", \"confid...   \n",
       "4  {\"predictions\": [{\"source\": \"techcrunch\", \"con...   \n",
       "5  {\"predictions\": [{\"source\": \"github\", \"confide...   \n",
       "6  {\"predictions\": [{\"source\": \"github\", \"confide...   \n",
       "7  {\"predictions\": [{\"source\": \"github\", \"confide...   \n",
       "8  {\"predictions\": [{\"source\": \"techcrunch\", \"con...   \n",
       "\n",
       "                                  groundtruth  \n",
       "0  {predictions\": [{\"source\": \"techcrunch\"}]}  \n",
       "1                                        None  \n",
       "2  {predictions\": [{\"source\": \"techcrunch\"}]}  \n",
       "3  {predictions\": [{\"source\": \"techcrunch\"}]}  \n",
       "4  {predictions\": [{\"source\": \"techcrunch\"}]}  \n",
       "5      {predictions\": [{\"source\": \"github\"}]}  \n",
       "6                                        None  \n",
       "7     {predictions\": [{\"source\": \"nytimes\"}]}  \n",
       "8                                        None  "
      ]
     },
     "execution_count": 22,
     "metadata": {},
     "output_type": "execute_result"
    }
   ],
   "source": [
    "%%bigquery\n",
    "SELECT * FROM `munn-sandbox.txtcls_eval.swivelv2_eval_job`"
   ]
  },
  {
   "cell_type": "markdown",
   "metadata": {},
   "source": [
    "## Provide the ground truth for the raw prediction input"
   ]
  },
  {
   "cell_type": "code",
   "execution_count": 31,
   "metadata": {},
   "outputs": [
    {
     "data": {
      "text/html": [
       "<div>\n",
       "<style scoped>\n",
       "    .dataframe tbody tr th:only-of-type {\n",
       "        vertical-align: middle;\n",
       "    }\n",
       "\n",
       "    .dataframe tbody tr th {\n",
       "        vertical-align: top;\n",
       "    }\n",
       "\n",
       "    .dataframe thead th {\n",
       "        text-align: right;\n",
       "    }\n",
       "</style>\n",
       "<table border=\"1\" class=\"dataframe\">\n",
       "  <thead>\n",
       "    <tr style=\"text-align: right;\">\n",
       "      <th></th>\n",
       "    </tr>\n",
       "  </thead>\n",
       "  <tbody>\n",
       "  </tbody>\n",
       "</table>\n",
       "</div>"
      ],
      "text/plain": [
       "Empty DataFrame\n",
       "Columns: []\n",
       "Index: []"
      ]
     },
     "execution_count": 31,
     "metadata": {},
     "output_type": "execute_result"
    }
   ],
   "source": [
    "%%bigquery\n",
    "UPDATE `txtcls_eval.swivelv2_eval_job`\n",
    "SET \n",
    "    groundtruth = '{predictions\": [{\"source\": \"nytimes\"}]}'\n",
    "WHERE\n",
    "    raw_data = '{\"instances\": [{\"text\": \"A Filmmaker Put Away for Tax Fraud Takes Us Inside a British Prison\"}]}';"
   ]
  },
  {
   "cell_type": "code",
   "execution_count": 32,
   "metadata": {},
   "outputs": [
    {
     "data": {
      "text/html": [
       "<div>\n",
       "<style scoped>\n",
       "    .dataframe tbody tr th:only-of-type {\n",
       "        vertical-align: middle;\n",
       "    }\n",
       "\n",
       "    .dataframe tbody tr th {\n",
       "        vertical-align: top;\n",
       "    }\n",
       "\n",
       "    .dataframe thead th {\n",
       "        text-align: right;\n",
       "    }\n",
       "</style>\n",
       "<table border=\"1\" class=\"dataframe\">\n",
       "  <thead>\n",
       "    <tr style=\"text-align: right;\">\n",
       "      <th></th>\n",
       "    </tr>\n",
       "  </thead>\n",
       "  <tbody>\n",
       "  </tbody>\n",
       "</table>\n",
       "</div>"
      ],
      "text/plain": [
       "Empty DataFrame\n",
       "Columns: []\n",
       "Index: []"
      ]
     },
     "execution_count": 32,
     "metadata": {},
     "output_type": "execute_result"
    }
   ],
   "source": [
    "%%bigquery\n",
    "UPDATE `txtcls_eval.swivelv2_eval_job`\n",
    "SET \n",
    "    groundtruth = '{predictions\": [{\"source\": \"techcrunch\"}]}'\n",
    "WHERE\n",
    "    raw_data = '{\"instances\": [{\"text\": \"YouTube introduces Video Chapters to make it easier to navigate longer videos\"}]}';"
   ]
  },
  {
   "cell_type": "code",
   "execution_count": 25,
   "metadata": {},
   "outputs": [
    {
     "data": {
      "text/html": [
       "<div>\n",
       "<style scoped>\n",
       "    .dataframe tbody tr th:only-of-type {\n",
       "        vertical-align: middle;\n",
       "    }\n",
       "\n",
       "    .dataframe tbody tr th {\n",
       "        vertical-align: top;\n",
       "    }\n",
       "\n",
       "    .dataframe thead th {\n",
       "        text-align: right;\n",
       "    }\n",
       "</style>\n",
       "<table border=\"1\" class=\"dataframe\">\n",
       "  <thead>\n",
       "    <tr style=\"text-align: right;\">\n",
       "      <th></th>\n",
       "    </tr>\n",
       "  </thead>\n",
       "  <tbody>\n",
       "  </tbody>\n",
       "</table>\n",
       "</div>"
      ],
      "text/plain": [
       "Empty DataFrame\n",
       "Columns: []\n",
       "Index: []"
      ]
     },
     "execution_count": 25,
     "metadata": {},
     "output_type": "execute_result"
    }
   ],
   "source": [
    "%%bigquery\n",
    "UPDATE `txtcls_eval.swivelv2_eval_job`\n",
    "SET \n",
    "    groundtruth = '{predictions\": [{\"source\": \"github\"}]}'\n",
    "WHERE\n",
    "    raw_data = '{\"instances\": [{\"text\": \"A native Mac app wrapper for WhatsApp Web\"}]}';"
   ]
  },
  {
   "cell_type": "code",
   "execution_count": 33,
   "metadata": {},
   "outputs": [
    {
     "data": {
      "text/html": [
       "<div>\n",
       "<style scoped>\n",
       "    .dataframe tbody tr th:only-of-type {\n",
       "        vertical-align: middle;\n",
       "    }\n",
       "\n",
       "    .dataframe tbody tr th {\n",
       "        vertical-align: top;\n",
       "    }\n",
       "\n",
       "    .dataframe thead th {\n",
       "        text-align: right;\n",
       "    }\n",
       "</style>\n",
       "<table border=\"1\" class=\"dataframe\">\n",
       "  <thead>\n",
       "    <tr style=\"text-align: right;\">\n",
       "      <th></th>\n",
       "      <th>model</th>\n",
       "      <th>model_version</th>\n",
       "      <th>time</th>\n",
       "      <th>raw_data</th>\n",
       "      <th>raw_prediction</th>\n",
       "      <th>groundtruth</th>\n",
       "    </tr>\n",
       "  </thead>\n",
       "  <tbody>\n",
       "    <tr>\n",
       "      <th>0</th>\n",
       "      <td>txtcls</td>\n",
       "      <td>swivel_eval_v2</td>\n",
       "      <td>2020-06-10 01:34:36+00:00</td>\n",
       "      <td>{\"instances\": [{\"text\": \" Does tech have the g...</td>\n",
       "      <td>{\"predictions\": [{\"source\": \"techcrunch\", \"con...</td>\n",
       "      <td>{predictions\": [{\"source\": \"techcrunch\"}]}</td>\n",
       "    </tr>\n",
       "    <tr>\n",
       "      <th>1</th>\n",
       "      <td>txtcls</td>\n",
       "      <td>swivel_eval_v2</td>\n",
       "      <td>2020-06-10 01:40:05+00:00</td>\n",
       "      <td>{\"instances\": [{\"text\": \"Where Protesters Go, ...</td>\n",
       "      <td>{\"predictions\": [{\"source\": \"github\", \"confide...</td>\n",
       "      <td>{predictions\": [{\"source\": \"nytimes\"}]}</td>\n",
       "    </tr>\n",
       "    <tr>\n",
       "      <th>2</th>\n",
       "      <td>txtcls</td>\n",
       "      <td>swivel_eval_v2</td>\n",
       "      <td>2020-06-10 01:35:27+00:00</td>\n",
       "      <td>{\"instances\": [{\"text\": \"Decrypted: DEA spying...</td>\n",
       "      <td>{\"predictions\": [{\"source\": \"nytimes\", \"confid...</td>\n",
       "      <td>{predictions\": [{\"source\": \"techcrunch\"}]}</td>\n",
       "    </tr>\n",
       "    <tr>\n",
       "      <th>3</th>\n",
       "      <td>txtcls</td>\n",
       "      <td>swivel_eval_v2</td>\n",
       "      <td>2020-06-09 21:21:44+00:00</td>\n",
       "      <td>{\"instances\": [{\"text\": \"YouTube introduces Vi...</td>\n",
       "      <td>{\"predictions\": [{\"source\": \"nytimes\", \"confid...</td>\n",
       "      <td>{predictions\": [{\"source\": \"techcrunch\"}]}</td>\n",
       "    </tr>\n",
       "    <tr>\n",
       "      <th>4</th>\n",
       "      <td>txtcls</td>\n",
       "      <td>swivel_eval_v2</td>\n",
       "      <td>2020-06-10 01:34:42+00:00</td>\n",
       "      <td>{\"instances\": [{\"text\": \"Transparent face mask...</td>\n",
       "      <td>{\"predictions\": [{\"source\": \"nytimes\", \"confid...</td>\n",
       "      <td>{predictions\": [{\"source\": \"techcrunch\"}]}</td>\n",
       "    </tr>\n",
       "    <tr>\n",
       "      <th>5</th>\n",
       "      <td>txtcls</td>\n",
       "      <td>swivel_eval_v2</td>\n",
       "      <td>2020-06-10 01:40:32+00:00</td>\n",
       "      <td>{\"instances\": [{\"text\": \"Astronauts Dock With ...</td>\n",
       "      <td>{\"predictions\": [{\"source\": \"github\", \"confide...</td>\n",
       "      <td>{predictions\": [{\"source\": \"nytimes\"}]}</td>\n",
       "    </tr>\n",
       "    <tr>\n",
       "      <th>6</th>\n",
       "      <td>txtcls</td>\n",
       "      <td>swivel_eval_v2</td>\n",
       "      <td>2020-06-10 01:38:13+00:00</td>\n",
       "      <td>{\"instances\": [{\"text\": \"The Supreme Court, To...</td>\n",
       "      <td>{\"predictions\": [{\"source\": \"techcrunch\", \"con...</td>\n",
       "      <td>{predictions\": [{\"source\": \"nytimes\"}]}</td>\n",
       "    </tr>\n",
       "    <tr>\n",
       "      <th>7</th>\n",
       "      <td>txtcls</td>\n",
       "      <td>swivel_eval_v2</td>\n",
       "      <td>2020-06-09 21:21:46+00:00</td>\n",
       "      <td>{\"instances\": [{\"text\": \"A Filmmaker Put Away ...</td>\n",
       "      <td>{\"predictions\": [{\"source\": \"github\", \"confide...</td>\n",
       "      <td>{predictions\": [{\"source\": \"nytimes\"}]}</td>\n",
       "    </tr>\n",
       "    <tr>\n",
       "      <th>8</th>\n",
       "      <td>txtcls</td>\n",
       "      <td>swivel_eval_v2</td>\n",
       "      <td>2020-06-10 01:37:22+00:00</td>\n",
       "      <td>{\"instances\": [{\"text\": \"G.O.P. Scrambles to R...</td>\n",
       "      <td>{\"predictions\": [{\"source\": \"github\", \"confide...</td>\n",
       "      <td>{predictions\": [{\"source\": \"nytimes\"}]}</td>\n",
       "    </tr>\n",
       "    <tr>\n",
       "      <th>9</th>\n",
       "      <td>txtcls</td>\n",
       "      <td>swivel_eval_v2</td>\n",
       "      <td>2020-06-09 21:21:47+00:00</td>\n",
       "      <td>{\"instances\": [{\"text\": \"A native Mac app wrap...</td>\n",
       "      <td>{\"predictions\": [{\"source\": \"github\", \"confide...</td>\n",
       "      <td>{predictions\": [{\"source\": \"github\"}]}</td>\n",
       "    </tr>\n",
       "    <tr>\n",
       "      <th>10</th>\n",
       "      <td>txtcls</td>\n",
       "      <td>swivel_eval_v2</td>\n",
       "      <td>2020-06-10 01:37:46+00:00</td>\n",
       "      <td>{\"instances\": [{\"text\": \"Senate Confirms First...</td>\n",
       "      <td>{\"predictions\": [{\"source\": \"github\", \"confide...</td>\n",
       "      <td>{predictions\": [{\"source\": \"nytimes\"}]}</td>\n",
       "    </tr>\n",
       "  </tbody>\n",
       "</table>\n",
       "</div>"
      ],
      "text/plain": [
       "     model   model_version                      time  \\\n",
       "0   txtcls  swivel_eval_v2 2020-06-10 01:34:36+00:00   \n",
       "1   txtcls  swivel_eval_v2 2020-06-10 01:40:05+00:00   \n",
       "2   txtcls  swivel_eval_v2 2020-06-10 01:35:27+00:00   \n",
       "3   txtcls  swivel_eval_v2 2020-06-09 21:21:44+00:00   \n",
       "4   txtcls  swivel_eval_v2 2020-06-10 01:34:42+00:00   \n",
       "5   txtcls  swivel_eval_v2 2020-06-10 01:40:32+00:00   \n",
       "6   txtcls  swivel_eval_v2 2020-06-10 01:38:13+00:00   \n",
       "7   txtcls  swivel_eval_v2 2020-06-09 21:21:46+00:00   \n",
       "8   txtcls  swivel_eval_v2 2020-06-10 01:37:22+00:00   \n",
       "9   txtcls  swivel_eval_v2 2020-06-09 21:21:47+00:00   \n",
       "10  txtcls  swivel_eval_v2 2020-06-10 01:37:46+00:00   \n",
       "\n",
       "                                             raw_data  \\\n",
       "0   {\"instances\": [{\"text\": \" Does tech have the g...   \n",
       "1   {\"instances\": [{\"text\": \"Where Protesters Go, ...   \n",
       "2   {\"instances\": [{\"text\": \"Decrypted: DEA spying...   \n",
       "3   {\"instances\": [{\"text\": \"YouTube introduces Vi...   \n",
       "4   {\"instances\": [{\"text\": \"Transparent face mask...   \n",
       "5   {\"instances\": [{\"text\": \"Astronauts Dock With ...   \n",
       "6   {\"instances\": [{\"text\": \"The Supreme Court, To...   \n",
       "7   {\"instances\": [{\"text\": \"A Filmmaker Put Away ...   \n",
       "8   {\"instances\": [{\"text\": \"G.O.P. Scrambles to R...   \n",
       "9   {\"instances\": [{\"text\": \"A native Mac app wrap...   \n",
       "10  {\"instances\": [{\"text\": \"Senate Confirms First...   \n",
       "\n",
       "                                       raw_prediction  \\\n",
       "0   {\"predictions\": [{\"source\": \"techcrunch\", \"con...   \n",
       "1   {\"predictions\": [{\"source\": \"github\", \"confide...   \n",
       "2   {\"predictions\": [{\"source\": \"nytimes\", \"confid...   \n",
       "3   {\"predictions\": [{\"source\": \"nytimes\", \"confid...   \n",
       "4   {\"predictions\": [{\"source\": \"nytimes\", \"confid...   \n",
       "5   {\"predictions\": [{\"source\": \"github\", \"confide...   \n",
       "6   {\"predictions\": [{\"source\": \"techcrunch\", \"con...   \n",
       "7   {\"predictions\": [{\"source\": \"github\", \"confide...   \n",
       "8   {\"predictions\": [{\"source\": \"github\", \"confide...   \n",
       "9   {\"predictions\": [{\"source\": \"github\", \"confide...   \n",
       "10  {\"predictions\": [{\"source\": \"github\", \"confide...   \n",
       "\n",
       "                                   groundtruth  \n",
       "0   {predictions\": [{\"source\": \"techcrunch\"}]}  \n",
       "1      {predictions\": [{\"source\": \"nytimes\"}]}  \n",
       "2   {predictions\": [{\"source\": \"techcrunch\"}]}  \n",
       "3   {predictions\": [{\"source\": \"techcrunch\"}]}  \n",
       "4   {predictions\": [{\"source\": \"techcrunch\"}]}  \n",
       "5      {predictions\": [{\"source\": \"nytimes\"}]}  \n",
       "6      {predictions\": [{\"source\": \"nytimes\"}]}  \n",
       "7      {predictions\": [{\"source\": \"nytimes\"}]}  \n",
       "8      {predictions\": [{\"source\": \"nytimes\"}]}  \n",
       "9       {predictions\": [{\"source\": \"github\"}]}  \n",
       "10     {predictions\": [{\"source\": \"nytimes\"}]}  "
      ]
     },
     "execution_count": 33,
     "metadata": {},
     "output_type": "execute_result"
    }
   ],
   "source": [
    "%%bigquery\n",
    "SELECT * FROM `munn-sandbox.txtcls_eval.swivelv2_eval_job`"
   ]
  },
  {
   "cell_type": "markdown",
   "metadata": {},
   "source": [
    "## Compute evaluation metrics"
   ]
  },
  {
   "cell_type": "markdown",
   "metadata": {},
   "source": [
    "Using regex we can extract the model predictions"
   ]
  },
  {
   "cell_type": "code",
   "execution_count": 35,
   "metadata": {},
   "outputs": [
    {
     "data": {
      "text/html": [
       "<div>\n",
       "<style scoped>\n",
       "    .dataframe tbody tr th:only-of-type {\n",
       "        vertical-align: middle;\n",
       "    }\n",
       "\n",
       "    .dataframe tbody tr th {\n",
       "        vertical-align: top;\n",
       "    }\n",
       "\n",
       "    .dataframe thead th {\n",
       "        text-align: right;\n",
       "    }\n",
       "</style>\n",
       "<table border=\"1\" class=\"dataframe\">\n",
       "  <thead>\n",
       "    <tr style=\"text-align: right;\">\n",
       "      <th></th>\n",
       "      <th>model</th>\n",
       "      <th>model_version</th>\n",
       "      <th>time</th>\n",
       "      <th>text</th>\n",
       "      <th>prediction</th>\n",
       "      <th>confidence</th>\n",
       "      <th>groundtruth</th>\n",
       "    </tr>\n",
       "  </thead>\n",
       "  <tbody>\n",
       "    <tr>\n",
       "      <th>0</th>\n",
       "      <td>txtcls</td>\n",
       "      <td>swivel_eval_v2</td>\n",
       "      <td>2020-06-10 01:37:46+00:00</td>\n",
       "      <td>Senate Confirms First Black Air Force Chief</td>\n",
       "      <td>nytimes</td>\n",
       "      <td>0.99</td>\n",
       "      <td>nytimes</td>\n",
       "    </tr>\n",
       "    <tr>\n",
       "      <th>1</th>\n",
       "      <td>txtcls</td>\n",
       "      <td>swivel_eval_v2</td>\n",
       "      <td>2020-06-10 01:38:13+00:00</td>\n",
       "      <td>The Supreme Court, Too, Is on the Brink</td>\n",
       "      <td>nytimes</td>\n",
       "      <td>0.77</td>\n",
       "      <td>nytimes</td>\n",
       "    </tr>\n",
       "    <tr>\n",
       "      <th>2</th>\n",
       "      <td>txtcls</td>\n",
       "      <td>swivel_eval_v2</td>\n",
       "      <td>2020-06-10 01:40:05+00:00</td>\n",
       "      <td>Where Protesters Go, Street Medics Follow</td>\n",
       "      <td>nytimes</td>\n",
       "      <td>0.99</td>\n",
       "      <td>nytimes</td>\n",
       "    </tr>\n",
       "    <tr>\n",
       "      <th>3</th>\n",
       "      <td>txtcls</td>\n",
       "      <td>swivel_eval_v2</td>\n",
       "      <td>2020-06-10 01:40:32+00:00</td>\n",
       "      <td>Astronauts Dock With Space Station After Histo...</td>\n",
       "      <td>github</td>\n",
       "      <td>0.99</td>\n",
       "      <td>nytimes</td>\n",
       "    </tr>\n",
       "    <tr>\n",
       "      <th>4</th>\n",
       "      <td>txtcls</td>\n",
       "      <td>swivel_eval_v2</td>\n",
       "      <td>2020-06-09 21:21:46+00:00</td>\n",
       "      <td>A Filmmaker Put Away for Tax Fraud Takes Us In...</td>\n",
       "      <td>github</td>\n",
       "      <td>0.98</td>\n",
       "      <td>nytimes</td>\n",
       "    </tr>\n",
       "    <tr>\n",
       "      <th>5</th>\n",
       "      <td>txtcls</td>\n",
       "      <td>swivel_eval_v2</td>\n",
       "      <td>2020-06-10 01:34:36+00:00</td>\n",
       "      <td>Does tech have the guts to deploy its resourc...</td>\n",
       "      <td>techcrunch</td>\n",
       "      <td>0.62</td>\n",
       "      <td>techcrunch</td>\n",
       "    </tr>\n",
       "    <tr>\n",
       "      <th>6</th>\n",
       "      <td>txtcls</td>\n",
       "      <td>swivel_eval_v2</td>\n",
       "      <td>2020-06-09 21:21:47+00:00</td>\n",
       "      <td>A native Mac app wrapper for WhatsApp Web</td>\n",
       "      <td>github</td>\n",
       "      <td>0.74</td>\n",
       "      <td>github</td>\n",
       "    </tr>\n",
       "    <tr>\n",
       "      <th>7</th>\n",
       "      <td>txtcls</td>\n",
       "      <td>swivel_eval_v2</td>\n",
       "      <td>2020-06-10 01:34:42+00:00</td>\n",
       "      <td>Transparent face mask startup inhales $1M seed...</td>\n",
       "      <td>nytimes</td>\n",
       "      <td>0.98</td>\n",
       "      <td>techcrunch</td>\n",
       "    </tr>\n",
       "    <tr>\n",
       "      <th>8</th>\n",
       "      <td>txtcls</td>\n",
       "      <td>swivel_eval_v2</td>\n",
       "      <td>2020-06-09 21:21:44+00:00</td>\n",
       "      <td>YouTube introduces Video Chapters to make it e...</td>\n",
       "      <td>techcrunch</td>\n",
       "      <td>0.77</td>\n",
       "      <td>techcrunch</td>\n",
       "    </tr>\n",
       "    <tr>\n",
       "      <th>9</th>\n",
       "      <td>txtcls</td>\n",
       "      <td>swivel_eval_v2</td>\n",
       "      <td>2020-06-10 01:37:22+00:00</td>\n",
       "      <td>G.O.P. Scrambles to Respond to Public Demands ...</td>\n",
       "      <td>github</td>\n",
       "      <td>0.99</td>\n",
       "      <td>nytimes</td>\n",
       "    </tr>\n",
       "    <tr>\n",
       "      <th>10</th>\n",
       "      <td>txtcls</td>\n",
       "      <td>swivel_eval_v2</td>\n",
       "      <td>2020-06-10 01:35:27+00:00</td>\n",
       "      <td>Decrypted: DEA spying on protesters, DDoS atta...</td>\n",
       "      <td>nytimes</td>\n",
       "      <td>0.68</td>\n",
       "      <td>techcrunch</td>\n",
       "    </tr>\n",
       "  </tbody>\n",
       "</table>\n",
       "</div>"
      ],
      "text/plain": [
       "     model   model_version                      time  \\\n",
       "0   txtcls  swivel_eval_v2 2020-06-10 01:37:46+00:00   \n",
       "1   txtcls  swivel_eval_v2 2020-06-10 01:38:13+00:00   \n",
       "2   txtcls  swivel_eval_v2 2020-06-10 01:40:05+00:00   \n",
       "3   txtcls  swivel_eval_v2 2020-06-10 01:40:32+00:00   \n",
       "4   txtcls  swivel_eval_v2 2020-06-09 21:21:46+00:00   \n",
       "5   txtcls  swivel_eval_v2 2020-06-10 01:34:36+00:00   \n",
       "6   txtcls  swivel_eval_v2 2020-06-09 21:21:47+00:00   \n",
       "7   txtcls  swivel_eval_v2 2020-06-10 01:34:42+00:00   \n",
       "8   txtcls  swivel_eval_v2 2020-06-09 21:21:44+00:00   \n",
       "9   txtcls  swivel_eval_v2 2020-06-10 01:37:22+00:00   \n",
       "10  txtcls  swivel_eval_v2 2020-06-10 01:35:27+00:00   \n",
       "\n",
       "                                                 text  prediction confidence  \\\n",
       "0         Senate Confirms First Black Air Force Chief     nytimes       0.99   \n",
       "1             The Supreme Court, Too, Is on the Brink     nytimes       0.77   \n",
       "2           Where Protesters Go, Street Medics Follow     nytimes       0.99   \n",
       "3   Astronauts Dock With Space Station After Histo...      github       0.99   \n",
       "4   A Filmmaker Put Away for Tax Fraud Takes Us In...      github       0.98   \n",
       "5    Does tech have the guts to deploy its resourc...  techcrunch       0.62   \n",
       "6           A native Mac app wrapper for WhatsApp Web      github       0.74   \n",
       "7   Transparent face mask startup inhales $1M seed...     nytimes       0.98   \n",
       "8   YouTube introduces Video Chapters to make it e...  techcrunch       0.77   \n",
       "9   G.O.P. Scrambles to Respond to Public Demands ...      github       0.99   \n",
       "10  Decrypted: DEA spying on protesters, DDoS atta...     nytimes       0.68   \n",
       "\n",
       "   groundtruth  \n",
       "0      nytimes  \n",
       "1      nytimes  \n",
       "2      nytimes  \n",
       "3      nytimes  \n",
       "4      nytimes  \n",
       "5   techcrunch  \n",
       "6       github  \n",
       "7   techcrunch  \n",
       "8   techcrunch  \n",
       "9      nytimes  \n",
       "10  techcrunch  "
      ]
     },
     "execution_count": 35,
     "metadata": {},
     "output_type": "execute_result"
    }
   ],
   "source": [
    "%%bigquery\n",
    "SELECT\n",
    "  model,\n",
    "  model_version,\n",
    "  time,\n",
    "  REGEXP_EXTRACT(raw_data, r'.*\"text\": \"(.*)\"') AS text,\n",
    "  REGEXP_EXTRACT(raw_prediction, r'.*\"source\": \"(.*?)\"') AS prediction,\n",
    "  REGEXP_EXTRACT(raw_prediction, r'.*\"confidence\": (0.\\d{2}).*') AS confidence,\n",
    "  REGEXP_EXTRACT(groundtruth, r'.*\"source\": \"(.*?)\"') AS groundtruth,\n",
    "FROM\n",
    "  `txtcls_eval.swivelv2_eval_job`"
   ]
  },
  {
   "cell_type": "code",
   "execution_count": 37,
   "metadata": {},
   "outputs": [],
   "source": [
    "from google.cloud import bigquery"
   ]
  },
  {
   "cell_type": "code",
   "execution_count": 38,
   "metadata": {},
   "outputs": [],
   "source": [
    "query = '''\n",
    "SELECT\n",
    "  model,\n",
    "  model_version,\n",
    "  time,\n",
    "  REGEXP_EXTRACT(raw_data, r'.*\"text\": \"(.*)\"') AS text,\n",
    "  REGEXP_EXTRACT(raw_prediction, r'.*\"source\": \"(.*?)\"') AS prediction,\n",
    "  REGEXP_EXTRACT(raw_prediction, r'.*\"confidence\": (0.\\d{2}).*') AS confidence,\n",
    "  REGEXP_EXTRACT(groundtruth, r'.*\"source\": \"(.*?)\"') AS groundtruth,\n",
    "FROM\n",
    "  `txtcls_eval.swivelv2_eval_job`\n",
    "'''\n",
    "\n",
    "client = bigquery.Client()\n",
    "df_results = client.query(query).to_dataframe()"
   ]
  },
  {
   "cell_type": "code",
   "execution_count": 45,
   "metadata": {},
   "outputs": [
    {
     "data": {
      "text/html": [
       "<div>\n",
       "<style scoped>\n",
       "    .dataframe tbody tr th:only-of-type {\n",
       "        vertical-align: middle;\n",
       "    }\n",
       "\n",
       "    .dataframe tbody tr th {\n",
       "        vertical-align: top;\n",
       "    }\n",
       "\n",
       "    .dataframe thead th {\n",
       "        text-align: right;\n",
       "    }\n",
       "</style>\n",
       "<table border=\"1\" class=\"dataframe\">\n",
       "  <thead>\n",
       "    <tr style=\"text-align: right;\">\n",
       "      <th></th>\n",
       "      <th>model</th>\n",
       "      <th>model_version</th>\n",
       "      <th>time</th>\n",
       "      <th>text</th>\n",
       "      <th>prediction</th>\n",
       "      <th>confidence</th>\n",
       "      <th>groundtruth</th>\n",
       "    </tr>\n",
       "  </thead>\n",
       "  <tbody>\n",
       "    <tr>\n",
       "      <th>0</th>\n",
       "      <td>txtcls</td>\n",
       "      <td>swivel_eval_v2</td>\n",
       "      <td>2020-06-10 01:38:13+00:00</td>\n",
       "      <td>The Supreme Court, Too, Is on the Brink</td>\n",
       "      <td>nytimes</td>\n",
       "      <td>0.77</td>\n",
       "      <td>nytimes</td>\n",
       "    </tr>\n",
       "    <tr>\n",
       "      <th>1</th>\n",
       "      <td>txtcls</td>\n",
       "      <td>swivel_eval_v2</td>\n",
       "      <td>2020-06-10 01:40:05+00:00</td>\n",
       "      <td>Where Protesters Go, Street Medics Follow</td>\n",
       "      <td>nytimes</td>\n",
       "      <td>0.99</td>\n",
       "      <td>nytimes</td>\n",
       "    </tr>\n",
       "    <tr>\n",
       "      <th>2</th>\n",
       "      <td>txtcls</td>\n",
       "      <td>swivel_eval_v2</td>\n",
       "      <td>2020-06-10 01:37:46+00:00</td>\n",
       "      <td>Senate Confirms First Black Air Force Chief</td>\n",
       "      <td>nytimes</td>\n",
       "      <td>0.99</td>\n",
       "      <td>nytimes</td>\n",
       "    </tr>\n",
       "    <tr>\n",
       "      <th>3</th>\n",
       "      <td>txtcls</td>\n",
       "      <td>swivel_eval_v2</td>\n",
       "      <td>2020-06-09 21:21:46+00:00</td>\n",
       "      <td>A Filmmaker Put Away for Tax Fraud Takes Us In...</td>\n",
       "      <td>github</td>\n",
       "      <td>0.98</td>\n",
       "      <td>nytimes</td>\n",
       "    </tr>\n",
       "    <tr>\n",
       "      <th>4</th>\n",
       "      <td>txtcls</td>\n",
       "      <td>swivel_eval_v2</td>\n",
       "      <td>2020-06-09 21:21:44+00:00</td>\n",
       "      <td>YouTube introduces Video Chapters to make it e...</td>\n",
       "      <td>techcrunch</td>\n",
       "      <td>0.77</td>\n",
       "      <td>techcrunch</td>\n",
       "    </tr>\n",
       "    <tr>\n",
       "      <th>5</th>\n",
       "      <td>txtcls</td>\n",
       "      <td>swivel_eval_v2</td>\n",
       "      <td>2020-06-10 01:40:32+00:00</td>\n",
       "      <td>Astronauts Dock With Space Station After Histo...</td>\n",
       "      <td>github</td>\n",
       "      <td>0.99</td>\n",
       "      <td>nytimes</td>\n",
       "    </tr>\n",
       "    <tr>\n",
       "      <th>6</th>\n",
       "      <td>txtcls</td>\n",
       "      <td>swivel_eval_v2</td>\n",
       "      <td>2020-06-10 01:34:42+00:00</td>\n",
       "      <td>Transparent face mask startup inhales $1M seed...</td>\n",
       "      <td>nytimes</td>\n",
       "      <td>0.98</td>\n",
       "      <td>techcrunch</td>\n",
       "    </tr>\n",
       "    <tr>\n",
       "      <th>7</th>\n",
       "      <td>txtcls</td>\n",
       "      <td>swivel_eval_v2</td>\n",
       "      <td>2020-06-10 01:35:27+00:00</td>\n",
       "      <td>Decrypted: DEA spying on protesters, DDoS atta...</td>\n",
       "      <td>nytimes</td>\n",
       "      <td>0.68</td>\n",
       "      <td>techcrunch</td>\n",
       "    </tr>\n",
       "    <tr>\n",
       "      <th>8</th>\n",
       "      <td>txtcls</td>\n",
       "      <td>swivel_eval_v2</td>\n",
       "      <td>2020-06-10 01:37:22+00:00</td>\n",
       "      <td>G.O.P. Scrambles to Respond to Public Demands ...</td>\n",
       "      <td>github</td>\n",
       "      <td>0.99</td>\n",
       "      <td>nytimes</td>\n",
       "    </tr>\n",
       "    <tr>\n",
       "      <th>9</th>\n",
       "      <td>txtcls</td>\n",
       "      <td>swivel_eval_v2</td>\n",
       "      <td>2020-06-10 01:34:36+00:00</td>\n",
       "      <td>Does tech have the guts to deploy its resourc...</td>\n",
       "      <td>techcrunch</td>\n",
       "      <td>0.62</td>\n",
       "      <td>techcrunch</td>\n",
       "    </tr>\n",
       "    <tr>\n",
       "      <th>10</th>\n",
       "      <td>txtcls</td>\n",
       "      <td>swivel_eval_v2</td>\n",
       "      <td>2020-06-09 21:21:47+00:00</td>\n",
       "      <td>A native Mac app wrapper for WhatsApp Web</td>\n",
       "      <td>github</td>\n",
       "      <td>0.74</td>\n",
       "      <td>github</td>\n",
       "    </tr>\n",
       "  </tbody>\n",
       "</table>\n",
       "</div>"
      ],
      "text/plain": [
       "     model   model_version                      time  \\\n",
       "0   txtcls  swivel_eval_v2 2020-06-10 01:38:13+00:00   \n",
       "1   txtcls  swivel_eval_v2 2020-06-10 01:40:05+00:00   \n",
       "2   txtcls  swivel_eval_v2 2020-06-10 01:37:46+00:00   \n",
       "3   txtcls  swivel_eval_v2 2020-06-09 21:21:46+00:00   \n",
       "4   txtcls  swivel_eval_v2 2020-06-09 21:21:44+00:00   \n",
       "5   txtcls  swivel_eval_v2 2020-06-10 01:40:32+00:00   \n",
       "6   txtcls  swivel_eval_v2 2020-06-10 01:34:42+00:00   \n",
       "7   txtcls  swivel_eval_v2 2020-06-10 01:35:27+00:00   \n",
       "8   txtcls  swivel_eval_v2 2020-06-10 01:37:22+00:00   \n",
       "9   txtcls  swivel_eval_v2 2020-06-10 01:34:36+00:00   \n",
       "10  txtcls  swivel_eval_v2 2020-06-09 21:21:47+00:00   \n",
       "\n",
       "                                                 text  prediction confidence  \\\n",
       "0             The Supreme Court, Too, Is on the Brink     nytimes       0.77   \n",
       "1           Where Protesters Go, Street Medics Follow     nytimes       0.99   \n",
       "2         Senate Confirms First Black Air Force Chief     nytimes       0.99   \n",
       "3   A Filmmaker Put Away for Tax Fraud Takes Us In...      github       0.98   \n",
       "4   YouTube introduces Video Chapters to make it e...  techcrunch       0.77   \n",
       "5   Astronauts Dock With Space Station After Histo...      github       0.99   \n",
       "6   Transparent face mask startup inhales $1M seed...     nytimes       0.98   \n",
       "7   Decrypted: DEA spying on protesters, DDoS atta...     nytimes       0.68   \n",
       "8   G.O.P. Scrambles to Respond to Public Demands ...      github       0.99   \n",
       "9    Does tech have the guts to deploy its resourc...  techcrunch       0.62   \n",
       "10          A native Mac app wrapper for WhatsApp Web      github       0.74   \n",
       "\n",
       "   groundtruth  \n",
       "0      nytimes  \n",
       "1      nytimes  \n",
       "2      nytimes  \n",
       "3      nytimes  \n",
       "4   techcrunch  \n",
       "5      nytimes  \n",
       "6   techcrunch  \n",
       "7   techcrunch  \n",
       "8      nytimes  \n",
       "9   techcrunch  \n",
       "10      github  "
      ]
     },
     "execution_count": 45,
     "metadata": {},
     "output_type": "execute_result"
    }
   ],
   "source": [
    "df_results.head(20)"
   ]
  },
  {
   "cell_type": "code",
   "execution_count": 101,
   "metadata": {},
   "outputs": [],
   "source": [
    "prediction = list(df_results.prediction)\n",
    "groundtruth = list(df_results.groundtruth)"
   ]
  },
  {
   "cell_type": "code",
   "execution_count": 105,
   "metadata": {},
   "outputs": [],
   "source": [
    "from sklearn.metrics import precision_recall_fscore_support as score\n",
    "from sklearn.metrics import multilabel_confusion_matrix\n",
    "\n",
    "precision, recall, fscore, support = score(groundtruth, prediction)"
   ]
  },
  {
   "cell_type": "code",
   "execution_count": 103,
   "metadata": {},
   "outputs": [
    {
     "name": "stdout",
     "output_type": "stream",
     "text": [
      "precision: [0.25 0.6  1.  ]\n",
      "recall: [1.  0.5 0.5]\n",
      "fscore: [0.4        0.54545455 0.66666667]\n",
      "support: [1 6 4]\n"
     ]
    }
   ],
   "source": [
    "print('precision: {}'.format(precision))\n",
    "print('recall: {}'.format(recall))\n",
    "print('fscore: {}'.format(fscore))\n",
    "print('support: {}'.format(support))"
   ]
  },
  {
   "cell_type": "code",
   "execution_count": 104,
   "metadata": {},
   "outputs": [
    {
     "name": "stdout",
     "output_type": "stream",
     "text": [
      "| source     |   precision |   recall |   fscore |   support |\n",
      "|------------+-------------+----------+----------+-----------|\n",
      "| github     |        0.25 |      1   | 0.4      |         1 |\n",
      "| nytimes    |        0.6  |      0.5 | 0.545455 |         6 |\n",
      "| techcrunch |        1    |      0.5 | 0.666667 |         4 |\n"
     ]
    }
   ],
   "source": [
    "from tabulate import tabulate\n",
    "sources = list(CLASSES.keys())\n",
    "results = list(zip(sources, precision, recall, fscore, support))\n",
    "tabulate(results, headers = ['source', 'precision', 'recall', 'fscore', 'support'],\n",
    "         tablefmt='orgtbl')"
   ]
  },
  {
   "cell_type": "markdown",
   "metadata": {},
   "source": [
    "Compute confusion matrix"
   ]
  },
  {
   "cell_type": "code",
   "execution_count": 128,
   "metadata": {},
   "outputs": [
    {
     "data": {
      "image/png": "[encoded data removed]",
      "text/plain": [
       "<Figure size 432x288 with 2 Axes>"
      ]
     },
     "metadata": {
      "needs_background": "light"
     },
     "output_type": "display_data"
    }
   ],
   "source": [
    "import seaborn as sns\n",
    "import pandas as pd\n",
    "import matplotlib.pyplot as plt\n",
    "cm = confusion_matrix(groundtruth, prediction, labels=sources)\n",
    "\n",
    "ax= plt.subplot()\n",
    "sns.heatmap(cm, annot=True, ax = ax, cmap=\"Blues\")\n",
    "\n",
    "# labels, title and ticks\n",
    "ax.set_xlabel('Predicted labels')\n",
    "ax.set_ylabel('True labels')\n",
    "ax.set_title('Confusion Matrix') \n",
    "ax.xaxis.set_ticklabels(sources)\n",
    "ax.yaxis.set_ticklabels(sources)\n",
    "plt.savefig(\"./txtcls_cm.png\")"
   ]
  },
  {
   "cell_type": "code",
   "execution_count": null,
   "metadata": {},
   "outputs": [],
   "source": []
  }
 ],
 "metadata": {
  "kernelspec": {
   "display_name": "Python 3",
   "language": "python",
   "name": "python3"
  },
  "language_info": {
   "codemirror_mode": {
    "name": "ipython",
    "version": 3
   },
   "file_extension": ".py",
   "mimetype": "text/x-python",
   "name": "python",
   "nbconvert_exporter": "python",
   "pygments_lexer": "ipython3",
   "version": "3.7.6"
  }
 },
 "nbformat": 4,
 "nbformat_minor": 4
}
