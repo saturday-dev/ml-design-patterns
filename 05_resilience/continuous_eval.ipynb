{
 "cells": [
  {
   "cell_type": "markdown",
   "metadata": {},
   "source": [
    "# Continuous Evaluation"
   ]
  },
  {
   "cell_type": "code",
   "execution_count": 1,
   "metadata": {},
   "outputs": [],
   "source": [
    "# change these to try this notebook out\n",
    "BUCKET = 'munn-sandbox'\n",
    "PROJECT = 'munn-sandbox'\n",
    "REGION = 'us-central1'"
   ]
  },
  {
   "cell_type": "code",
   "execution_count": 2,
   "metadata": {},
   "outputs": [],
   "source": [
    "import os\n",
    "os.environ['BUCKET'] = BUCKET\n",
    "os.environ['PROJECT'] = PROJECT\n",
    "os.environ['REGION'] = REGION\n",
    "os.environ['TFVERSION'] = '2.1'"
   ]
  },
  {
   "cell_type": "code",
   "execution_count": 3,
   "metadata": {},
   "outputs": [
    {
     "name": "stdout",
     "output_type": "stream",
     "text": [
      "2.1.1\n"
     ]
    }
   ],
   "source": [
    "import tensorflow as tf\n",
    "print(tf.__version__)"
   ]
  },
  {
   "cell_type": "code",
   "execution_count": 4,
   "metadata": {},
   "outputs": [
    {
     "name": "stdout",
     "output_type": "stream",
     "text": [
      "gs://munn-sandbox/txtcls/data/titles_full.csv\n",
      "gs://munn-sandbox/txtcls/data/titles_sample.csv\n"
     ]
    }
   ],
   "source": [
    "%%bash\n",
    "gsutil ls gs://$BUCKET/txtcls/data/"
   ]
  },
  {
   "cell_type": "code",
   "execution_count": 5,
   "metadata": {},
   "outputs": [
    {
     "name": "stdout",
     "output_type": "stream",
     "text": [
      "Copying gs://munn-sandbox/txtcls/data/titles_full.csv...\n",
      "/ [1 files][  5.4 MiB/  5.4 MiB]                                                \n",
      "Operation completed over 1 objects/5.4 MiB.                                      \n"
     ]
    }
   ],
   "source": [
    "!gsutil cp gs://$BUCKET/txtcls/data/titles_full.csv ."
   ]
  },
  {
   "cell_type": "code",
   "execution_count": 6,
   "metadata": {},
   "outputs": [
    {
     "data": {
      "text/html": [
       "<div>\n",
       "<style scoped>\n",
       "    .dataframe tbody tr th:only-of-type {\n",
       "        vertical-align: middle;\n",
       "    }\n",
       "\n",
       "    .dataframe tbody tr th {\n",
       "        vertical-align: top;\n",
       "    }\n",
       "\n",
       "    .dataframe thead th {\n",
       "        text-align: right;\n",
       "    }\n",
       "</style>\n",
       "<table border=\"1\" class=\"dataframe\">\n",
       "  <thead>\n",
       "    <tr style=\"text-align: right;\">\n",
       "      <th></th>\n",
       "      <th>title</th>\n",
       "      <th>source</th>\n",
       "    </tr>\n",
       "  </thead>\n",
       "  <tbody>\n",
       "    <tr>\n",
       "      <th>0</th>\n",
       "      <td>led inventor and employer settle for $8.1m  2005</td>\n",
       "      <td>nytimes</td>\n",
       "    </tr>\n",
       "    <tr>\n",
       "      <th>1</th>\n",
       "      <td>yc-backed photo-sharing service picplum loses ...</td>\n",
       "      <td>techcrunch</td>\n",
       "    </tr>\n",
       "    <tr>\n",
       "      <th>2</th>\n",
       "      <td>as facebook turns 10  zuckerberg wants to chan...</td>\n",
       "      <td>nytimes</td>\n",
       "    </tr>\n",
       "    <tr>\n",
       "      <th>3</th>\n",
       "      <td>6 big healthtech ideas that will change medici...</td>\n",
       "      <td>techcrunch</td>\n",
       "    </tr>\n",
       "    <tr>\n",
       "      <th>4</th>\n",
       "      <td>building the prince of persia sources to creat...</td>\n",
       "      <td>github</td>\n",
       "    </tr>\n",
       "  </tbody>\n",
       "</table>\n",
       "</div>"
      ],
      "text/plain": [
       "                                               title      source\n",
       "0  led inventor and employer settle for $8.1m  2005      nytimes\n",
       "1  yc-backed photo-sharing service picplum loses ...  techcrunch\n",
       "2  as facebook turns 10  zuckerberg wants to chan...     nytimes\n",
       "3  6 big healthtech ideas that will change medici...  techcrunch\n",
       "4  building the prince of persia sources to creat...      github"
      ]
     },
     "execution_count": 6,
     "metadata": {},
     "output_type": "execute_result"
    }
   ],
   "source": [
    "import pandas as pd\n",
    "from tensorflow.keras.utils import to_categorical\n",
    "\n",
    "DATASET_NAME = \"titles_full.csv\"\n",
    "COLUMNS = ['title', 'source']\n",
    "\n",
    "titles_df = pd.read_csv(DATASET_NAME, header=None, names=COLUMNS)\n",
    "titles_df.head()"
   ]
  },
  {
   "cell_type": "code",
   "execution_count": 7,
   "metadata": {},
   "outputs": [],
   "source": [
    "CLASSES = {\n",
    "    'github': 0,\n",
    "    'nytimes': 1,\n",
    "    'techcrunch': 2\n",
    "}\n",
    "N_CLASSES = len(CLASSES)"
   ]
  },
  {
   "cell_type": "code",
   "execution_count": 8,
   "metadata": {},
   "outputs": [],
   "source": [
    "def encode_labels(sources):\n",
    "    classes = [CLASSES[source] for source in sources]\n",
    "    one_hots = to_categorical(classes, num_classes=N_CLASSES)\n",
    "    return one_hots"
   ]
  },
  {
   "cell_type": "code",
   "execution_count": 9,
   "metadata": {},
   "outputs": [
    {
     "data": {
      "text/plain": [
       "array([[0., 1., 0.],\n",
       "       [0., 0., 1.],\n",
       "       [0., 1., 0.],\n",
       "       [0., 0., 1.]], dtype=float32)"
      ]
     },
     "execution_count": 9,
     "metadata": {},
     "output_type": "execute_result"
    }
   ],
   "source": [
    "encode_labels(titles_df.source[:4])"
   ]
  },
  {
   "cell_type": "code",
   "execution_count": 10,
   "metadata": {},
   "outputs": [],
   "source": [
    "N_TRAIN = int(len(titles_df) * 0.95)\n",
    "\n",
    "titles_train, sources_train = (\n",
    "    titles_df.title[:N_TRAIN], titles_df.source[:N_TRAIN])\n",
    "\n",
    "titles_valid, sources_valid = (\n",
    "    titles_df.title[N_TRAIN:], titles_df.source[N_TRAIN:])"
   ]
  },
  {
   "cell_type": "code",
   "execution_count": 11,
   "metadata": {},
   "outputs": [],
   "source": [
    "X_train, Y_train = titles_train.values, encode_labels(sources_train)\n",
    "X_valid, Y_valid = titles_valid.values, encode_labels(sources_valid)"
   ]
  },
  {
   "cell_type": "code",
   "execution_count": 12,
   "metadata": {},
   "outputs": [
    {
     "data": {
      "text/plain": [
       "array(['led inventor and employer settle for $8.1m  2005 ',\n",
       "       'yc-backed photo-sharing service picplum loses one co-founder',\n",
       "       'as facebook turns 10  zuckerberg wants to change how tech industry works'],\n",
       "      dtype=object)"
      ]
     },
     "execution_count": 12,
     "metadata": {},
     "output_type": "execute_result"
    }
   ],
   "source": [
    "X_train[:3]"
   ]
  },
  {
   "cell_type": "markdown",
   "metadata": {},
   "source": [
    "## Swivel Model"
   ]
  },
  {
   "cell_type": "markdown",
   "metadata": {},
   "source": [
    "Then we will try a word embedding obtained using [Swivel](https://arxiv.org/abs/1602.02215), an algorithm that essentially factorizes word co-occurrence matrices to create the words embeddings. \n",
    "TF-Hub hosts the pretrained [gnews-swivel-20dim-with-oov](https://tfhub.dev/google/tf2-preview/gnews-swivel-20dim-with-oov/1) 20-dimensional Swivel module."
   ]
  },
  {
   "cell_type": "code",
   "execution_count": 33,
   "metadata": {},
   "outputs": [],
   "source": [
    "import shutil\n",
    "\n",
    "import tensorflow as tf\n",
    "from tensorflow.keras.callbacks import TensorBoard, EarlyStopping\n",
    "from tensorflow_hub import KerasLayer\n",
    "from tensorflow.keras.layers import Dense, Input, Lambda\n",
    "from tensorflow.keras.models import Sequential, Model\n",
    "\n",
    "%matplotlib inline"
   ]
  },
  {
   "cell_type": "code",
   "execution_count": 14,
   "metadata": {},
   "outputs": [
    {
     "name": "stdout",
     "output_type": "stream",
     "text": [
      "2.1.1\n"
     ]
    }
   ],
   "source": [
    "print(tf.__version__)"
   ]
  },
  {
   "cell_type": "code",
   "execution_count": 15,
   "metadata": {},
   "outputs": [],
   "source": [
    "SWIVEL = \"https://tfhub.dev/google/tf2-preview/gnews-swivel-20dim-with-oov/1\"\n",
    "swivel_module = KerasLayer(\n",
    "    SWIVEL, output_shape=[20], input_shape=[], dtype=tf.string, trainable=True)"
   ]
  },
  {
   "cell_type": "code",
   "execution_count": 16,
   "metadata": {},
   "outputs": [],
   "source": [
    "MODEL_DIR = \"./text_model\""
   ]
  },
  {
   "cell_type": "code",
   "execution_count": 21,
   "metadata": {},
   "outputs": [],
   "source": [
    "def build_model(hub_module, name):\n",
    "    inputs = Input(shape=[], dtype=tf.string, name=\"text\")\n",
    "    module = hub_module(inputs)\n",
    "    h1 = Dense(16, activation='relu', name=\"h1\")(module)\n",
    "    outputs = Dense(N_CLASSES, activation='softmax', name='outputs')(h1)\n",
    "    #score = Lambda(lambda x: tf.reduce_max(x, axis=1), name=\"confidence\")(outputs)\n",
    "    #pred_label = Lambda(lambda x: txt_source(x), name=\"source\")(outputs)\n",
    "    \n",
    "    model = Model(inputs=inputs, outputs=[outputs], name='txtcls_model')\n",
    "    #evaluation_head = Model(inputs=inputs, outputs=[pred_label, score])\n",
    "    \n",
    "    model.compile(\n",
    "        optimizer='adam',\n",
    "        loss='categorical_crossentropy',\n",
    "        metrics=['accuracy']\n",
    "    )\n",
    "    #evaluation_head.compile(\n",
    "    #    optimizer='adam',\n",
    "    #    loss='categorical_crossentropy',\n",
    "    #)\n",
    "    return model"
   ]
  },
  {
   "cell_type": "code",
   "execution_count": 22,
   "metadata": {},
   "outputs": [],
   "source": [
    "def train_and_evaluate(train_data, val_data, model, batch_size=5000):\n",
    "    X_train, Y_train = train_data\n",
    "\n",
    "    tf.random.set_seed(33)\n",
    "\n",
    "    model_dir = os.path.join(MODEL_DIR, model.name)\n",
    "    if tf.io.gfile.exists(model_dir):\n",
    "        tf.io.gfile.rmtree(model_dir)\n",
    "\n",
    "    history = model.fit(\n",
    "        X_train, Y_train,\n",
    "        epochs=100,\n",
    "        batch_size=batch_size,\n",
    "        validation_data=val_data,\n",
    "        callbacks=[EarlyStopping(), TensorBoard(model_dir)],\n",
    "    )\n",
    "    return history"
   ]
  },
  {
   "cell_type": "code",
   "execution_count": 23,
   "metadata": {},
   "outputs": [],
   "source": [
    "swivel_model = build_model(swivel_module, name='swivel')"
   ]
  },
  {
   "cell_type": "code",
   "execution_count": 24,
   "metadata": {},
   "outputs": [
    {
     "name": "stdout",
     "output_type": "stream",
     "text": [
      "Model: \"txtcls_model\"\n",
      "_________________________________________________________________\n",
      "Layer (type)                 Output Shape              Param #   \n",
      "=================================================================\n",
      "text (InputLayer)            [(None,)]                 0         \n",
      "_________________________________________________________________\n",
      "keras_layer (KerasLayer)     (None, 20)                389380    \n",
      "_________________________________________________________________\n",
      "h1 (Dense)                   (None, 16)                336       \n",
      "_________________________________________________________________\n",
      "outputs (Dense)              (None, 3)                 51        \n",
      "=================================================================\n",
      "Total params: 389,767\n",
      "Trainable params: 389,767\n",
      "Non-trainable params: 0\n",
      "_________________________________________________________________\n"
     ]
    }
   ],
   "source": [
    "swivel_model.summary()"
   ]
  },
  {
   "cell_type": "code",
   "execution_count": 25,
   "metadata": {},
   "outputs": [],
   "source": [
    "data = (X_train, Y_train)\n",
    "val_data = (X_valid, Y_valid)"
   ]
  },
  {
   "cell_type": "markdown",
   "metadata": {},
   "source": [
    "For training we'll call `train_and_evaluate` on `swivel_model`."
   ]
  },
  {
   "cell_type": "code",
   "execution_count": 26,
   "metadata": {},
   "outputs": [
    {
     "name": "stdout",
     "output_type": "stream",
     "text": [
      "Train on 91392 samples, validate on 4811 samples\n",
      "Epoch 1/100\n",
      "91392/91392 [==============================] - 1s 15us/sample - loss: 1.1899 - accuracy: 0.4257 - val_loss: 1.1058 - val_accuracy: 0.4477\n",
      "Epoch 2/100\n",
      "91392/91392 [==============================] - 1s 6us/sample - loss: 1.0748 - accuracy: 0.4689 - val_loss: 1.0279 - val_accuracy: 0.4887\n",
      "Epoch 3/100\n",
      "91392/91392 [==============================] - 1s 6us/sample - loss: 1.0024 - accuracy: 0.5146 - val_loss: 0.9714 - val_accuracy: 0.5344\n",
      "Epoch 4/100\n",
      "91392/91392 [==============================] - 1s 6us/sample - loss: 0.9447 - accuracy: 0.5567 - val_loss: 0.9197 - val_accuracy: 0.5760\n",
      "Epoch 5/100\n",
      "91392/91392 [==============================] - 1s 6us/sample - loss: 0.8911 - accuracy: 0.5923 - val_loss: 0.8694 - val_accuracy: 0.6044\n",
      "Epoch 6/100\n",
      "91392/91392 [==============================] - 1s 6us/sample - loss: 0.8390 - accuracy: 0.6238 - val_loss: 0.8215 - val_accuracy: 0.6275\n",
      "Epoch 7/100\n",
      "91392/91392 [==============================] - 1s 6us/sample - loss: 0.7895 - accuracy: 0.6524 - val_loss: 0.7763 - val_accuracy: 0.6550\n",
      "Epoch 8/100\n",
      "91392/91392 [==============================] - 1s 6us/sample - loss: 0.7435 - accuracy: 0.6776 - val_loss: 0.7350 - val_accuracy: 0.6774\n",
      "Epoch 9/100\n",
      "91392/91392 [==============================] - 1s 6us/sample - loss: 0.7016 - accuracy: 0.6968 - val_loss: 0.6982 - val_accuracy: 0.6945\n",
      "Epoch 10/100\n",
      "91392/91392 [==============================] - 1s 6us/sample - loss: 0.6645 - accuracy: 0.7141 - val_loss: 0.6664 - val_accuracy: 0.7113\n",
      "Epoch 11/100\n",
      "91392/91392 [==============================] - 1s 6us/sample - loss: 0.6318 - accuracy: 0.7297 - val_loss: 0.6389 - val_accuracy: 0.7215\n",
      "Epoch 12/100\n",
      "91392/91392 [==============================] - 1s 6us/sample - loss: 0.6035 - accuracy: 0.7425 - val_loss: 0.6154 - val_accuracy: 0.7319\n",
      "Epoch 13/100\n",
      "91392/91392 [==============================] - 1s 6us/sample - loss: 0.5790 - accuracy: 0.7543 - val_loss: 0.5956 - val_accuracy: 0.7416\n",
      "Epoch 14/100\n",
      "91392/91392 [==============================] - 1s 6us/sample - loss: 0.5576 - accuracy: 0.7637 - val_loss: 0.5788 - val_accuracy: 0.7485\n",
      "Epoch 15/100\n",
      "91392/91392 [==============================] - 1s 6us/sample - loss: 0.5389 - accuracy: 0.7726 - val_loss: 0.5643 - val_accuracy: 0.7568\n",
      "Epoch 16/100\n",
      "91392/91392 [==============================] - 1s 6us/sample - loss: 0.5221 - accuracy: 0.7807 - val_loss: 0.5514 - val_accuracy: 0.7633\n",
      "Epoch 17/100\n",
      "91392/91392 [==============================] - 1s 6us/sample - loss: 0.5071 - accuracy: 0.7880 - val_loss: 0.5401 - val_accuracy: 0.7701\n",
      "Epoch 18/100\n",
      "91392/91392 [==============================] - 1s 6us/sample - loss: 0.4935 - accuracy: 0.7943 - val_loss: 0.5299 - val_accuracy: 0.7772\n",
      "Epoch 19/100\n",
      "91392/91392 [==============================] - 1s 6us/sample - loss: 0.4811 - accuracy: 0.8001 - val_loss: 0.5210 - val_accuracy: 0.7815\n",
      "Epoch 20/100\n",
      "91392/91392 [==============================] - 1s 6us/sample - loss: 0.4698 - accuracy: 0.8059 - val_loss: 0.5134 - val_accuracy: 0.7857\n",
      "Epoch 21/100\n",
      "91392/91392 [==============================] - 1s 6us/sample - loss: 0.4593 - accuracy: 0.8110 - val_loss: 0.5060 - val_accuracy: 0.7917\n",
      "Epoch 22/100\n",
      "91392/91392 [==============================] - 1s 6us/sample - loss: 0.4496 - accuracy: 0.8155 - val_loss: 0.4999 - val_accuracy: 0.7948\n",
      "Epoch 23/100\n",
      "91392/91392 [==============================] - 1s 6us/sample - loss: 0.4406 - accuracy: 0.8195 - val_loss: 0.4945 - val_accuracy: 0.7992\n",
      "Epoch 24/100\n",
      "91392/91392 [==============================] - 1s 6us/sample - loss: 0.4324 - accuracy: 0.8229 - val_loss: 0.4899 - val_accuracy: 0.7984\n",
      "Epoch 25/100\n",
      "91392/91392 [==============================] - 1s 6us/sample - loss: 0.4245 - accuracy: 0.8265 - val_loss: 0.4852 - val_accuracy: 0.8005\n",
      "Epoch 26/100\n",
      "91392/91392 [==============================] - 1s 6us/sample - loss: 0.4172 - accuracy: 0.8301 - val_loss: 0.4815 - val_accuracy: 0.8027\n",
      "Epoch 27/100\n",
      "91392/91392 [==============================] - 1s 6us/sample - loss: 0.4105 - accuracy: 0.8332 - val_loss: 0.4783 - val_accuracy: 0.8021\n",
      "Epoch 28/100\n",
      "91392/91392 [==============================] - 1s 6us/sample - loss: 0.4041 - accuracy: 0.8358 - val_loss: 0.4754 - val_accuracy: 0.8042\n",
      "Epoch 29/100\n",
      "91392/91392 [==============================] - 1s 6us/sample - loss: 0.3981 - accuracy: 0.8385 - val_loss: 0.4728 - val_accuracy: 0.8057\n",
      "Epoch 30/100\n",
      "91392/91392 [==============================] - 1s 6us/sample - loss: 0.3926 - accuracy: 0.8416 - val_loss: 0.4716 - val_accuracy: 0.8073\n",
      "Epoch 31/100\n",
      "91392/91392 [==============================] - 1s 6us/sample - loss: 0.3873 - accuracy: 0.8442 - val_loss: 0.4697 - val_accuracy: 0.8075\n",
      "Epoch 32/100\n",
      "91392/91392 [==============================] - 1s 6us/sample - loss: 0.3825 - accuracy: 0.8461 - val_loss: 0.4689 - val_accuracy: 0.8102\n",
      "Epoch 33/100\n",
      "91392/91392 [==============================] - 1s 6us/sample - loss: 0.3778 - accuracy: 0.8484 - val_loss: 0.4673 - val_accuracy: 0.8133\n",
      "Epoch 34/100\n",
      "91392/91392 [==============================] - 1s 6us/sample - loss: 0.3736 - accuracy: 0.8509 - val_loss: 0.4673 - val_accuracy: 0.8140\n",
      "Epoch 35/100\n",
      "91392/91392 [==============================] - 1s 6us/sample - loss: 0.3696 - accuracy: 0.8529 - val_loss: 0.4670 - val_accuracy: 0.8156\n",
      "Epoch 36/100\n",
      "91392/91392 [==============================] - 1s 6us/sample - loss: 0.3657 - accuracy: 0.8546 - val_loss: 0.4667 - val_accuracy: 0.8165\n",
      "Epoch 37/100\n",
      "91392/91392 [==============================] - 1s 6us/sample - loss: 0.3621 - accuracy: 0.8564 - val_loss: 0.4661 - val_accuracy: 0.8140\n",
      "Epoch 38/100\n",
      "91392/91392 [==============================] - 1s 6us/sample - loss: 0.3587 - accuracy: 0.8583 - val_loss: 0.4665 - val_accuracy: 0.8133\n"
     ]
    }
   ],
   "source": [
    "swivel_history = train_and_evaluate(data, val_data, swivel_model)"
   ]
  },
  {
   "cell_type": "code",
   "execution_count": 27,
   "metadata": {},
   "outputs": [
    {
     "data": {
      "text/plain": [
       "<matplotlib.axes._subplots.AxesSubplot at 0x7fbf7c1bf1d0>"
      ]
     },
     "execution_count": 27,
     "metadata": {},
     "output_type": "execute_result"
    },
    {
     "data": {
      "image/png": "[encoded data removed]",
      "text/plain": [
       "<Figure size 432x288 with 1 Axes>"
      ]
     },
     "metadata": {
      "needs_background": "light"
     },
     "output_type": "display_data"
    },
    {
     "data": {
      "image/png": "[encoded data removed]",
      "text/plain": [
       "<Figure size 432x288 with 1 Axes>"
      ]
     },
     "metadata": {
      "needs_background": "light"
     },
     "output_type": "display_data"
    }
   ],
   "source": [
    "history = swivel_history\n",
    "pd.DataFrame(history.history)[['loss', 'val_loss']].plot()\n",
    "pd.DataFrame(history.history)[['accuracy', 'val_accuracy']].plot()"
   ]
  },
  {
   "cell_type": "markdown",
   "metadata": {},
   "source": [
    "Calling predicition from model head produces output from final dense layer. This is what isused to compute categorical cross-entropy when training. "
   ]
  },
  {
   "cell_type": "code",
   "execution_count": 28,
   "metadata": {},
   "outputs": [
    {
     "data": {
      "text/plain": [
       "array([[0.21814805, 0.00554101, 0.7763109 ]], dtype=float32)"
      ]
     },
     "execution_count": 28,
     "metadata": {},
     "output_type": "execute_result"
    }
   ],
   "source": [
    "swivel_model.predict(x=[\"YouTube introduces Video Chapters to make it easier to navigate longer videos\"])"
   ]
  },
  {
   "cell_type": "markdown",
   "metadata": {},
   "source": [
    "Calling prediction from the evaluation_head provides the output required from CAIP Continuous Evaluation."
   ]
  },
  {
   "cell_type": "code",
   "execution_count": 23,
   "metadata": {},
   "outputs": [
    {
     "data": {
      "text/plain": [
       "[array([2.], dtype=float32), array([0.7818258], dtype=float32)]"
      ]
     },
     "execution_count": 23,
     "metadata": {},
     "output_type": "execute_result"
    }
   ],
   "source": [
    "#swivel_model[1].predict(x=[\"YouTube introduces Video Chapters to make it easier to navigate longer videos\"])"
   ]
  },
  {
   "cell_type": "code",
   "execution_count": 30,
   "metadata": {},
   "outputs": [
    {
     "name": "stdout",
     "output_type": "stream",
     "text": [
      "WARNING:tensorflow:From /home/jupyter/.local/lib/python3.7/site-packages/tensorflow_core/python/ops/resource_variable_ops.py:1786: calling BaseResourceVariable.__init__ (from tensorflow.python.ops.resource_variable_ops) with constraint is deprecated and will be removed in a future version.\n",
      "Instructions for updating:\n",
      "If using Keras pass *_constraint arguments to layers.\n"
     ]
    },
    {
     "name": "stderr",
     "output_type": "stream",
     "text": [
      "WARNING:tensorflow:From /home/jupyter/.local/lib/python3.7/site-packages/tensorflow_core/python/ops/resource_variable_ops.py:1786: calling BaseResourceVariable.__init__ (from tensorflow.python.ops.resource_variable_ops) with constraint is deprecated and will be removed in a future version.\n",
      "Instructions for updating:\n",
      "If using Keras pass *_constraint arguments to layers.\n"
     ]
    },
    {
     "name": "stdout",
     "output_type": "stream",
     "text": [
      "INFO:tensorflow:Assets written to: ./swivel_model/assets\n"
     ]
    },
    {
     "name": "stderr",
     "output_type": "stream",
     "text": [
      "INFO:tensorflow:Assets written to: ./swivel_model/assets\n"
     ]
    }
   ],
   "source": [
    "tf.saved_model.save(swivel_model, './swivel_model/')"
   ]
  },
  {
   "cell_type": "code",
   "execution_count": 31,
   "metadata": {},
   "outputs": [
    {
     "name": "stdout",
     "output_type": "stream",
     "text": [
      "2020-06-09 20:25:48.268025: I tensorflow/stream_executor/platform/default/dso_loader.cc:44] Successfully opened dynamic library libnvinfer.so.6\n",
      "2020-06-09 20:25:48.269810: I tensorflow/stream_executor/platform/default/dso_loader.cc:44] Successfully opened dynamic library libnvinfer_plugin.so.6\n",
      "The given SavedModel SignatureDef contains the following input(s):\n",
      "  inputs['text'] tensor_info:\n",
      "      dtype: DT_STRING\n",
      "      shape: (-1)\n",
      "      name: serving_default_text:0\n",
      "The given SavedModel SignatureDef contains the following output(s):\n",
      "  outputs['outputs'] tensor_info:\n",
      "      dtype: DT_FLOAT\n",
      "      shape: (-1, 3)\n",
      "      name: StatefulPartitionedCall_2:0\n",
      "Method name is: tensorflow/serving/predict\n"
     ]
    }
   ],
   "source": [
    "!saved_model_cli show \\\n",
    " --tag_set serve \\\n",
    " --signature_def serving_default \\\n",
    " --dir ./swivel_model/"
   ]
  },
  {
   "cell_type": "markdown",
   "metadata": {},
   "source": [
    "Modify the model signature to output source title (either 'nytimes', 'techcrunch', or 'github') and the model confidence."
   ]
  },
  {
   "cell_type": "code",
   "execution_count": 32,
   "metadata": {},
   "outputs": [],
   "source": [
    "@tf.function(input_signature=[tf.TensorSpec([None], dtype=tf.string)])\n",
    "def source_name(text):\n",
    "    labels = tf.constant(['github', 'techcrunch', 'nytimes'], dtype=tf.string)\n",
    "    probs = swivel_model(text, training=False)\n",
    "    indices = tf.argmax(probs, axis=1)\n",
    "    pred_source = tf.gather(params=labels, indices=indices)\n",
    "    pred_confidence = tf.reduce_max(probs, axis=1)\n",
    "    return {'source': pred_source,\n",
    "            'confidence': pred_confidence}"
   ]
  },
  {
   "cell_type": "markdown",
   "metadata": {},
   "source": [
    "Re-save the new swivel_model that has the updated model signature."
   ]
  },
  {
   "cell_type": "code",
   "execution_count": 34,
   "metadata": {},
   "outputs": [
    {
     "name": "stdout",
     "output_type": "stream",
     "text": [
      "INFO:tensorflow:Assets written to: ./swivel_model/assets\n"
     ]
    },
    {
     "name": "stderr",
     "output_type": "stream",
     "text": [
      "INFO:tensorflow:Assets written to: ./swivel_model/assets\n"
     ]
    }
   ],
   "source": [
    "shutil.rmtree('./swivel_model', ignore_errors=True)\n",
    "swivel_model.save('./swivel_model', signatures={'serving_default': source_name})"
   ]
  },
  {
   "cell_type": "markdown",
   "metadata": {},
   "source": [
    "Examine the model signature to confirm the changes"
   ]
  },
  {
   "cell_type": "code",
   "execution_count": 35,
   "metadata": {},
   "outputs": [
    {
     "name": "stdout",
     "output_type": "stream",
     "text": [
      "2020-06-09 20:32:58.653872: I tensorflow/stream_executor/platform/default/dso_loader.cc:44] Successfully opened dynamic library libnvinfer.so.6\n",
      "2020-06-09 20:32:58.655769: I tensorflow/stream_executor/platform/default/dso_loader.cc:44] Successfully opened dynamic library libnvinfer_plugin.so.6\n",
      "The given SavedModel SignatureDef contains the following input(s):\n",
      "  inputs['text'] tensor_info:\n",
      "      dtype: DT_STRING\n",
      "      shape: (-1)\n",
      "      name: serving_default_text:0\n",
      "The given SavedModel SignatureDef contains the following output(s):\n",
      "  outputs['confidence'] tensor_info:\n",
      "      dtype: DT_FLOAT\n",
      "      shape: (-1)\n",
      "      name: StatefulPartitionedCall_2:0\n",
      "  outputs['source'] tensor_info:\n",
      "      dtype: DT_STRING\n",
      "      shape: (-1)\n",
      "      name: StatefulPartitionedCall_2:1\n",
      "Method name is: tensorflow/serving/predict\n"
     ]
    }
   ],
   "source": [
    "!saved_model_cli show \\\n",
    " --tag_set serve \\\n",
    " --signature_def serving_default \\\n",
    " --dir ./swivel_model/"
   ]
  },
  {
   "cell_type": "markdown",
   "metadata": {},
   "source": [
    "Call predictions using the corrected serving input function"
   ]
  },
  {
   "cell_type": "code",
   "execution_count": 36,
   "metadata": {},
   "outputs": [],
   "source": [
    "title1 = \"A Filmmaker Put Away for Tax Fraud Takes Us Inside a British Prison\"\n",
    "title2 = \"YouTube introduces Video Chapters to make it easier to navigate longer videos\"\n",
    "title3 = \"A native Mac app wrapper for WhatsApp Web\"\n",
    "\n",
    "restored = tf.keras.models.load_model('./swivel_model')\n",
    "infer = restored.signatures['serving_default']\n",
    "outputs = infer(text=tf.constant([title1, title2, title3]))"
   ]
  },
  {
   "cell_type": "code",
   "execution_count": 45,
   "metadata": {},
   "outputs": [
    {
     "name": "stdout",
     "output_type": "stream",
     "text": [
      "[b'github' b'nytimes' b'github']\n",
      "[0.9804334  0.77631086 0.7452544 ]\n"
     ]
    }
   ],
   "source": [
    "print(outputs['source'].numpy())\n",
    "print(outputs['confidence'].numpy())"
   ]
  },
  {
   "cell_type": "markdown",
   "metadata": {},
   "source": [
    "## Deploy model"
   ]
  },
  {
   "cell_type": "code",
   "execution_count": 46,
   "metadata": {},
   "outputs": [
    {
     "name": "stderr",
     "output_type": "stream",
     "text": [
      "Creating version (this might take a few minutes)......\n",
      ".........................................................................................................................................................................................................................................................................................................................................................................................................................................................................................................................................................................................................done.\n"
     ]
    }
   ],
   "source": [
    "%%bash\n",
    "MODEL_NAME=\"txtcls\"\n",
    "MODEL_VERSION=\"swivel_eval_v2\"\n",
    "MODEL_LOCATION=\"./swivel_model/\"\n",
    "BUCKET=\"munn-sandbox\"\n",
    "\n",
    "gcloud ai-platform versions create ${MODEL_VERSION} \\\n",
    "--model ${MODEL_NAME} \\\n",
    "--origin ${MODEL_LOCATION} \\\n",
    "--staging-bucket gs://${BUCKET} \\\n",
    "--runtime-version=2.1"
   ]
  },
  {
   "cell_type": "markdown",
   "metadata": {},
   "source": [
    "## Set up the Evaluation job on CAIP\n",
    "\n",
    "Go to Google Cloud Platform to see the model version you've deployed. And set up an evaluation job."
   ]
  },
  {
   "cell_type": "code",
   "execution_count": 200,
   "metadata": {},
   "outputs": [],
   "source": [
    "# some stuff here about setting up Eval jobs\n",
    "# look at the BQ table you created, nothing is there"
   ]
  },
  {
   "cell_type": "code",
   "execution_count": null,
   "metadata": {},
   "outputs": [],
   "source": [
    "%load_ext google.cloud.bigquery"
   ]
  },
  {
   "cell_type": "code",
   "execution_count": 47,
   "metadata": {},
   "outputs": [
    {
     "data": {
      "text/html": [
       "<div>\n",
       "<style scoped>\n",
       "    .dataframe tbody tr th:only-of-type {\n",
       "        vertical-align: middle;\n",
       "    }\n",
       "\n",
       "    .dataframe tbody tr th {\n",
       "        vertical-align: top;\n",
       "    }\n",
       "\n",
       "    .dataframe thead th {\n",
       "        text-align: right;\n",
       "    }\n",
       "</style>\n",
       "<table border=\"1\" class=\"dataframe\">\n",
       "  <thead>\n",
       "    <tr style=\"text-align: right;\">\n",
       "      <th></th>\n",
       "      <th>model</th>\n",
       "      <th>model_version</th>\n",
       "      <th>time</th>\n",
       "      <th>raw_data</th>\n",
       "      <th>raw_prediction</th>\n",
       "      <th>groundtruth</th>\n",
       "    </tr>\n",
       "  </thead>\n",
       "  <tbody>\n",
       "  </tbody>\n",
       "</table>\n",
       "</div>"
      ],
      "text/plain": [
       "Empty DataFrame\n",
       "Columns: [model, model_version, time, raw_data, raw_prediction, groundtruth]\n",
       "Index: []"
      ]
     },
     "execution_count": 47,
     "metadata": {},
     "output_type": "execute_result"
    }
   ],
   "source": [
    "%%bigquery\n",
    "SELECT * FROM `munn-sandbox.txtcls_eval.swivelv2_eval_job`"
   ]
  },
  {
   "cell_type": "markdown",
   "metadata": {},
   "source": [
    "## Send prediction requests to your model"
   ]
  },
  {
   "cell_type": "markdown",
   "metadata": {},
   "source": [
    "We'll create a .json file with multiple titles for prediction\n",
    "\n",
    "| title  | source  |\n",
    "|---|---|\n",
    "| YouTube introduces Video Chapters to make it easier to navigate longer videos  |  techcrunch |\n",
    "| A Filmmaker Put Away for Tax Fraud Takes Us Inside a British Prison | nytimes |\n",
    "| A native Mac app wrapper for WhatsApp Web | github |"
   ]
  },
  {
   "cell_type": "code",
   "execution_count": 48,
   "metadata": {},
   "outputs": [
    {
     "name": "stdout",
     "output_type": "stream",
     "text": [
      "Overwriting input.json\n"
     ]
    }
   ],
   "source": [
    "%%writefile input.json\n",
    "{\"text\": \"YouTube introduces Video Chapters to make it easier to navigate longer videos\"}"
   ]
  },
  {
   "cell_type": "code",
   "execution_count": 49,
   "metadata": {},
   "outputs": [
    {
     "name": "stdout",
     "output_type": "stream",
     "text": [
      "CONFIDENCE  SOURCE\n",
      "0.776311    nytimes\n"
     ]
    }
   ],
   "source": [
    "!gcloud ai-platform predict \\\n",
    "  --model txtcls \\\n",
    "  --json-instances input.json \\\n",
    "  --version swivel_eval_v2"
   ]
  },
  {
   "cell_type": "code",
   "execution_count": 52,
   "metadata": {},
   "outputs": [
    {
     "name": "stdout",
     "output_type": "stream",
     "text": [
      "Overwriting input.json\n"
     ]
    }
   ],
   "source": [
    "%%writefile input.json\n",
    "{\"text\": \"A Filmmaker Put Away for Tax Fraud Takes Us Inside a British Prison\"}"
   ]
  },
  {
   "cell_type": "code",
   "execution_count": 53,
   "metadata": {},
   "outputs": [
    {
     "name": "stdout",
     "output_type": "stream",
     "text": [
      "CONFIDENCE  SOURCE\n",
      "0.980433    github\n"
     ]
    }
   ],
   "source": [
    "!gcloud ai-platform predict \\\n",
    "  --model txtcls \\\n",
    "  --json-instances input.json \\\n",
    "  --version swivel_eval_v2"
   ]
  },
  {
   "cell_type": "code",
   "execution_count": 54,
   "metadata": {},
   "outputs": [
    {
     "name": "stdout",
     "output_type": "stream",
     "text": [
      "Overwriting input.json\n"
     ]
    }
   ],
   "source": [
    "%%writefile input.json\n",
    "{\"text\": \"A native Mac app wrapper for WhatsApp Web\"}"
   ]
  },
  {
   "cell_type": "code",
   "execution_count": 55,
   "metadata": {},
   "outputs": [
    {
     "name": "stdout",
     "output_type": "stream",
     "text": [
      "CONFIDENCE  SOURCE\n",
      "0.745254    github\n"
     ]
    }
   ],
   "source": [
    "!gcloud ai-platform predict \\\n",
    "  --model txtcls \\\n",
    "  --json-instances input.json \\\n",
    "  --version swivel_eval_v2"
   ]
  },
  {
   "cell_type": "markdown",
   "metadata": {},
   "source": [
    "Summarizing the results from our model:\n",
    "\n",
    "| title  | source  | predicted_source | \n",
    "|---|---|---|\n",
    "| YouTube introduces Video Chapters to make it easier to navigate longer videos  |  techcrunch | nytimes |\n",
    "| A Filmmaker Put Away for Tax Fraud Takes Us Inside a British Prison | nytimes | github | \n",
    "| A native Mac app wrapper for WhatsApp Web | github | github |"
   ]
  },
  {
   "cell_type": "code",
   "execution_count": 56,
   "metadata": {},
   "outputs": [
    {
     "data": {
      "text/html": [
       "<div>\n",
       "<style scoped>\n",
       "    .dataframe tbody tr th:only-of-type {\n",
       "        vertical-align: middle;\n",
       "    }\n",
       "\n",
       "    .dataframe tbody tr th {\n",
       "        vertical-align: top;\n",
       "    }\n",
       "\n",
       "    .dataframe thead th {\n",
       "        text-align: right;\n",
       "    }\n",
       "</style>\n",
       "<table border=\"1\" class=\"dataframe\">\n",
       "  <thead>\n",
       "    <tr style=\"text-align: right;\">\n",
       "      <th></th>\n",
       "      <th>model</th>\n",
       "      <th>model_version</th>\n",
       "      <th>time</th>\n",
       "      <th>raw_data</th>\n",
       "      <th>raw_prediction</th>\n",
       "      <th>groundtruth</th>\n",
       "    </tr>\n",
       "  </thead>\n",
       "  <tbody>\n",
       "    <tr>\n",
       "      <th>0</th>\n",
       "      <td>txtcls</td>\n",
       "      <td>swivel_eval_v2</td>\n",
       "      <td>2020-06-09 20:46:46+00:00</td>\n",
       "      <td>{\"instances\": [{\"text\": \"A native Mac app wrap...</td>\n",
       "      <td>{\"predictions\": [{\"source\": \"github\", \"confide...</td>\n",
       "      <td>None</td>\n",
       "    </tr>\n",
       "    <tr>\n",
       "      <th>1</th>\n",
       "      <td>txtcls</td>\n",
       "      <td>swivel_eval_v2</td>\n",
       "      <td>2020-06-09 20:46:37+00:00</td>\n",
       "      <td>{\"instances\": [{\"text\": \"A Filmmaker Put Away ...</td>\n",
       "      <td>{\"predictions\": [{\"source\": \"github\", \"confide...</td>\n",
       "      <td>None</td>\n",
       "    </tr>\n",
       "    <tr>\n",
       "      <th>2</th>\n",
       "      <td>txtcls</td>\n",
       "      <td>swivel_eval_v2</td>\n",
       "      <td>2020-06-09 20:46:10+00:00</td>\n",
       "      <td>{\"instances\": [{\"text\": \"YouTube introduces Vi...</td>\n",
       "      <td>{\"predictions\": [{\"source\": \"nytimes\", \"confid...</td>\n",
       "      <td>None</td>\n",
       "    </tr>\n",
       "  </tbody>\n",
       "</table>\n",
       "</div>"
      ],
      "text/plain": [
       "    model   model_version                      time  \\\n",
       "0  txtcls  swivel_eval_v2 2020-06-09 20:46:46+00:00   \n",
       "1  txtcls  swivel_eval_v2 2020-06-09 20:46:37+00:00   \n",
       "2  txtcls  swivel_eval_v2 2020-06-09 20:46:10+00:00   \n",
       "\n",
       "                                            raw_data  \\\n",
       "0  {\"instances\": [{\"text\": \"A native Mac app wrap...   \n",
       "1  {\"instances\": [{\"text\": \"A Filmmaker Put Away ...   \n",
       "2  {\"instances\": [{\"text\": \"YouTube introduces Vi...   \n",
       "\n",
       "                                      raw_prediction groundtruth  \n",
       "0  {\"predictions\": [{\"source\": \"github\", \"confide...        None  \n",
       "1  {\"predictions\": [{\"source\": \"github\", \"confide...        None  \n",
       "2  {\"predictions\": [{\"source\": \"nytimes\", \"confid...        None  "
      ]
     },
     "execution_count": 56,
     "metadata": {},
     "output_type": "execute_result"
    }
   ],
   "source": [
    "%%bigquery\n",
    "SELECT * FROM `munn-sandbox.txtcls_eval.swivelv2_eval_job`"
   ]
  },
  {
   "cell_type": "markdown",
   "metadata": {},
   "source": [
    "## Provide the ground truth for the raw prediction input"
   ]
  },
  {
   "cell_type": "code",
   "execution_count": 57,
   "metadata": {},
   "outputs": [
    {
     "data": {
      "text/html": [
       "<div>\n",
       "<style scoped>\n",
       "    .dataframe tbody tr th:only-of-type {\n",
       "        vertical-align: middle;\n",
       "    }\n",
       "\n",
       "    .dataframe tbody tr th {\n",
       "        vertical-align: top;\n",
       "    }\n",
       "\n",
       "    .dataframe thead th {\n",
       "        text-align: right;\n",
       "    }\n",
       "</style>\n",
       "<table border=\"1\" class=\"dataframe\">\n",
       "  <thead>\n",
       "    <tr style=\"text-align: right;\">\n",
       "      <th></th>\n",
       "    </tr>\n",
       "  </thead>\n",
       "  <tbody>\n",
       "  </tbody>\n",
       "</table>\n",
       "</div>"
      ],
      "text/plain": [
       "Empty DataFrame\n",
       "Columns: []\n",
       "Index: []"
      ]
     },
     "execution_count": 57,
     "metadata": {},
     "output_type": "execute_result"
    }
   ],
   "source": [
    "%%bigquery\n",
    "UPDATE `txtcls_eval.swivelv2_eval_job`\n",
    "SET \n",
    "    groundtruth = 'nytimes'\n",
    "WHERE\n",
    "    raw_data = '{\"instances\": [{\"text\": \"A Filmmaker Put Away for Tax Fraud Takes Us Inside a British Prison\"}]}';"
   ]
  },
  {
   "cell_type": "code",
   "execution_count": 63,
   "metadata": {},
   "outputs": [
    {
     "data": {
      "text/html": [
       "<div>\n",
       "<style scoped>\n",
       "    .dataframe tbody tr th:only-of-type {\n",
       "        vertical-align: middle;\n",
       "    }\n",
       "\n",
       "    .dataframe tbody tr th {\n",
       "        vertical-align: top;\n",
       "    }\n",
       "\n",
       "    .dataframe thead th {\n",
       "        text-align: right;\n",
       "    }\n",
       "</style>\n",
       "<table border=\"1\" class=\"dataframe\">\n",
       "  <thead>\n",
       "    <tr style=\"text-align: right;\">\n",
       "      <th></th>\n",
       "    </tr>\n",
       "  </thead>\n",
       "  <tbody>\n",
       "  </tbody>\n",
       "</table>\n",
       "</div>"
      ],
      "text/plain": [
       "Empty DataFrame\n",
       "Columns: []\n",
       "Index: []"
      ]
     },
     "execution_count": 63,
     "metadata": {},
     "output_type": "execute_result"
    }
   ],
   "source": [
    "%%bigquery\n",
    "UPDATE `txtcls_eval.swivelv2_eval_job`\n",
    "SET \n",
    "    groundtruth = 'techcrunch'\n",
    "WHERE\n",
    "    raw_data = '{\"instances\": [{\"text\": \"YouTube introduces Video Chapters to make it easier to navigate longer videos\"}]}';"
   ]
  },
  {
   "cell_type": "code",
   "execution_count": 64,
   "metadata": {},
   "outputs": [
    {
     "data": {
      "text/html": [
       "<div>\n",
       "<style scoped>\n",
       "    .dataframe tbody tr th:only-of-type {\n",
       "        vertical-align: middle;\n",
       "    }\n",
       "\n",
       "    .dataframe tbody tr th {\n",
       "        vertical-align: top;\n",
       "    }\n",
       "\n",
       "    .dataframe thead th {\n",
       "        text-align: right;\n",
       "    }\n",
       "</style>\n",
       "<table border=\"1\" class=\"dataframe\">\n",
       "  <thead>\n",
       "    <tr style=\"text-align: right;\">\n",
       "      <th></th>\n",
       "    </tr>\n",
       "  </thead>\n",
       "  <tbody>\n",
       "  </tbody>\n",
       "</table>\n",
       "</div>"
      ],
      "text/plain": [
       "Empty DataFrame\n",
       "Columns: []\n",
       "Index: []"
      ]
     },
     "execution_count": 64,
     "metadata": {},
     "output_type": "execute_result"
    }
   ],
   "source": [
    "%%bigquery\n",
    "UPDATE `txtcls_eval.swivelv2_eval_job`\n",
    "SET \n",
    "    groundtruth = 'github'\n",
    "WHERE\n",
    "    raw_data = '{\"instances\": [{\"text\": \"A native Mac app wrapper for WhatsApp Web\"}]}';"
   ]
  },
  {
   "cell_type": "code",
   "execution_count": 65,
   "metadata": {},
   "outputs": [
    {
     "data": {
      "text/html": [
       "<div>\n",
       "<style scoped>\n",
       "    .dataframe tbody tr th:only-of-type {\n",
       "        vertical-align: middle;\n",
       "    }\n",
       "\n",
       "    .dataframe tbody tr th {\n",
       "        vertical-align: top;\n",
       "    }\n",
       "\n",
       "    .dataframe thead th {\n",
       "        text-align: right;\n",
       "    }\n",
       "</style>\n",
       "<table border=\"1\" class=\"dataframe\">\n",
       "  <thead>\n",
       "    <tr style=\"text-align: right;\">\n",
       "      <th></th>\n",
       "      <th>model</th>\n",
       "      <th>model_version</th>\n",
       "      <th>time</th>\n",
       "      <th>raw_data</th>\n",
       "      <th>raw_prediction</th>\n",
       "      <th>groundtruth</th>\n",
       "    </tr>\n",
       "  </thead>\n",
       "  <tbody>\n",
       "    <tr>\n",
       "      <th>0</th>\n",
       "      <td>txtcls</td>\n",
       "      <td>swivel_eval_v2</td>\n",
       "      <td>2020-06-09 20:46:10+00:00</td>\n",
       "      <td>{\"instances\": [{\"text\": \"YouTube introduces Vi...</td>\n",
       "      <td>{\"predictions\": [{\"source\": \"nytimes\", \"confid...</td>\n",
       "      <td>techcrunch</td>\n",
       "    </tr>\n",
       "    <tr>\n",
       "      <th>1</th>\n",
       "      <td>txtcls</td>\n",
       "      <td>swivel_eval_v2</td>\n",
       "      <td>2020-06-09 20:46:37+00:00</td>\n",
       "      <td>{\"instances\": [{\"text\": \"A Filmmaker Put Away ...</td>\n",
       "      <td>{\"predictions\": [{\"source\": \"github\", \"confide...</td>\n",
       "      <td>nytimes</td>\n",
       "    </tr>\n",
       "    <tr>\n",
       "      <th>2</th>\n",
       "      <td>txtcls</td>\n",
       "      <td>swivel_eval_v2</td>\n",
       "      <td>2020-06-09 20:46:46+00:00</td>\n",
       "      <td>{\"instances\": [{\"text\": \"A native Mac app wrap...</td>\n",
       "      <td>{\"predictions\": [{\"source\": \"github\", \"confide...</td>\n",
       "      <td>github</td>\n",
       "    </tr>\n",
       "  </tbody>\n",
       "</table>\n",
       "</div>"
      ],
      "text/plain": [
       "    model   model_version                      time  \\\n",
       "0  txtcls  swivel_eval_v2 2020-06-09 20:46:10+00:00   \n",
       "1  txtcls  swivel_eval_v2 2020-06-09 20:46:37+00:00   \n",
       "2  txtcls  swivel_eval_v2 2020-06-09 20:46:46+00:00   \n",
       "\n",
       "                                            raw_data  \\\n",
       "0  {\"instances\": [{\"text\": \"YouTube introduces Vi...   \n",
       "1  {\"instances\": [{\"text\": \"A Filmmaker Put Away ...   \n",
       "2  {\"instances\": [{\"text\": \"A native Mac app wrap...   \n",
       "\n",
       "                                      raw_prediction groundtruth  \n",
       "0  {\"predictions\": [{\"source\": \"nytimes\", \"confid...  techcrunch  \n",
       "1  {\"predictions\": [{\"source\": \"github\", \"confide...     nytimes  \n",
       "2  {\"predictions\": [{\"source\": \"github\", \"confide...      github  "
      ]
     },
     "execution_count": 65,
     "metadata": {},
     "output_type": "execute_result"
    }
   ],
   "source": [
    "%%bigquery\n",
    "SELECT * FROM `munn-sandbox.txtcls_eval.swivelv2_eval_job`"
   ]
  },
  {
   "cell_type": "markdown",
   "metadata": {},
   "source": [
    "## Compute evaluation metrics"
   ]
  },
  {
   "cell_type": "markdown",
   "metadata": {},
   "source": [
    "Using regex we can extract the model predictions"
   ]
  },
  {
   "cell_type": "code",
   "execution_count": 67,
   "metadata": {},
   "outputs": [
    {
     "data": {
      "text/html": [
       "<div>\n",
       "<style scoped>\n",
       "    .dataframe tbody tr th:only-of-type {\n",
       "        vertical-align: middle;\n",
       "    }\n",
       "\n",
       "    .dataframe tbody tr th {\n",
       "        vertical-align: top;\n",
       "    }\n",
       "\n",
       "    .dataframe thead th {\n",
       "        text-align: right;\n",
       "    }\n",
       "</style>\n",
       "<table border=\"1\" class=\"dataframe\">\n",
       "  <thead>\n",
       "    <tr style=\"text-align: right;\">\n",
       "      <th></th>\n",
       "      <th>model</th>\n",
       "      <th>model_version</th>\n",
       "      <th>time</th>\n",
       "      <th>text</th>\n",
       "      <th>prediction</th>\n",
       "      <th>confidence</th>\n",
       "      <th>groundtruth</th>\n",
       "    </tr>\n",
       "  </thead>\n",
       "  <tbody>\n",
       "    <tr>\n",
       "      <th>0</th>\n",
       "      <td>txtcls</td>\n",
       "      <td>swivel_eval_v2</td>\n",
       "      <td>2020-06-09 20:46:10+00:00</td>\n",
       "      <td>YouTube introduces Video Chapters to make it e...</td>\n",
       "      <td>nytimes</td>\n",
       "      <td>0.77</td>\n",
       "      <td>techcrunch</td>\n",
       "    </tr>\n",
       "    <tr>\n",
       "      <th>1</th>\n",
       "      <td>txtcls</td>\n",
       "      <td>swivel_eval_v2</td>\n",
       "      <td>2020-06-09 20:46:37+00:00</td>\n",
       "      <td>A Filmmaker Put Away for Tax Fraud Takes Us In...</td>\n",
       "      <td>github</td>\n",
       "      <td>0.98</td>\n",
       "      <td>nytimes</td>\n",
       "    </tr>\n",
       "    <tr>\n",
       "      <th>2</th>\n",
       "      <td>txtcls</td>\n",
       "      <td>swivel_eval_v2</td>\n",
       "      <td>2020-06-09 20:46:46+00:00</td>\n",
       "      <td>A native Mac app wrapper for WhatsApp Web</td>\n",
       "      <td>github</td>\n",
       "      <td>0.74</td>\n",
       "      <td>github</td>\n",
       "    </tr>\n",
       "  </tbody>\n",
       "</table>\n",
       "</div>"
      ],
      "text/plain": [
       "    model   model_version                      time  \\\n",
       "0  txtcls  swivel_eval_v2 2020-06-09 20:46:10+00:00   \n",
       "1  txtcls  swivel_eval_v2 2020-06-09 20:46:37+00:00   \n",
       "2  txtcls  swivel_eval_v2 2020-06-09 20:46:46+00:00   \n",
       "\n",
       "                                                text prediction confidence  \\\n",
       "0  YouTube introduces Video Chapters to make it e...    nytimes       0.77   \n",
       "1  A Filmmaker Put Away for Tax Fraud Takes Us In...     github       0.98   \n",
       "2          A native Mac app wrapper for WhatsApp Web     github       0.74   \n",
       "\n",
       "  groundtruth  \n",
       "0  techcrunch  \n",
       "1     nytimes  \n",
       "2      github  "
      ]
     },
     "execution_count": 67,
     "metadata": {},
     "output_type": "execute_result"
    }
   ],
   "source": [
    "%%bigquery\n",
    "SELECT\n",
    "  model,\n",
    "  model_version,\n",
    "  time,\n",
    "  REGEXP_EXTRACT(raw_data, r'.*\"text\": \"(.*)\"') AS text,\n",
    "  REGEXP_EXTRACT(raw_prediction, r'.*\"source\": \"(.*?)\"') AS prediction,\n",
    "  REGEXP_EXTRACT(raw_prediction, r'.*\"confidence\": (0.\\d{2}).*') AS confidence,\n",
    "  groundtruth,\n",
    "FROM\n",
    "  `txtcls_eval.swivelv2_eval_job`"
   ]
  },
  {
   "cell_type": "code",
   "execution_count": 68,
   "metadata": {},
   "outputs": [
    {
     "data": {
      "text/html": [
       "<div>\n",
       "<style scoped>\n",
       "    .dataframe tbody tr th:only-of-type {\n",
       "        vertical-align: middle;\n",
       "    }\n",
       "\n",
       "    .dataframe tbody tr th {\n",
       "        vertical-align: top;\n",
       "    }\n",
       "\n",
       "    .dataframe thead th {\n",
       "        text-align: right;\n",
       "    }\n",
       "</style>\n",
       "<table border=\"1\" class=\"dataframe\">\n",
       "  <thead>\n",
       "    <tr style=\"text-align: right;\">\n",
       "      <th></th>\n",
       "      <th>accuracy</th>\n",
       "    </tr>\n",
       "  </thead>\n",
       "  <tbody>\n",
       "    <tr>\n",
       "      <th>0</th>\n",
       "      <td>0.333333</td>\n",
       "    </tr>\n",
       "  </tbody>\n",
       "</table>\n",
       "</div>"
      ],
      "text/plain": [
       "   accuracy\n",
       "0  0.333333"
      ]
     },
     "execution_count": 68,
     "metadata": {},
     "output_type": "execute_result"
    }
   ],
   "source": [
    "%%bigquery\n",
    "WITH\n",
    "  comparison_table AS (\n",
    "  SELECT\n",
    "    groundtruth,\n",
    "    REGEXP_EXTRACT(raw_prediction, r'.*source\": \"(.*?)\"') AS prediction,\n",
    "  FROM\n",
    "    `munn-sandbox.txtcls_eval.swivelv2_eval_job`),\n",
    "  correct_table AS (\n",
    "  SELECT\n",
    "    CASE\n",
    "      WHEN groundtruth = prediction THEN 1\n",
    "    ELSE\n",
    "    0\n",
    "  END\n",
    "    AS correct_pred\n",
    "  FROM\n",
    "    comparison_table)\n",
    "SELECT\n",
    "  SUM(correct_pred)/COUNT(*) AS accuracy\n",
    "FROM\n",
    "  correct_table"
   ]
  },
  {
   "cell_type": "code",
   "execution_count": null,
   "metadata": {},
   "outputs": [],
   "source": []
  }
 ],
 "metadata": {
  "kernelspec": {
   "display_name": "Python 3",
   "language": "python",
   "name": "python3"
  },
  "language_info": {
   "codemirror_mode": {
    "name": "ipython",
    "version": 3
   },
   "file_extension": ".py",
   "mimetype": "text/x-python",
   "name": "python",
   "nbconvert_exporter": "python",
   "pygments_lexer": "ipython3",
   "version": "3.7.6"
  }
 },
 "nbformat": 4,
 "nbformat_minor": 4
}
