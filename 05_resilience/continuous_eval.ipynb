{
 "cells": [
  {
   "cell_type": "markdown",
   "metadata": {},
   "source": [
    "# Continuous Evaluation"
   ]
  },
  {
   "cell_type": "code",
   "execution_count": 1,
   "metadata": {},
   "outputs": [],
   "source": [
    "# change these to try this notebook out\n",
    "BUCKET = 'munn-sandbox'\n",
    "PROJECT = 'munn-sandbox'\n",
    "REGION = 'us-central1'"
   ]
  },
  {
   "cell_type": "code",
   "execution_count": 2,
   "metadata": {},
   "outputs": [],
   "source": [
    "import os\n",
    "os.environ['BUCKET'] = BUCKET\n",
    "os.environ['PROJECT'] = PROJECT\n",
    "os.environ['REGION'] = REGION\n",
    "os.environ['TFVERSION'] = '2.1'"
   ]
  },
  {
   "cell_type": "code",
   "execution_count": 3,
   "metadata": {},
   "outputs": [
    {
     "name": "stdout",
     "output_type": "stream",
     "text": [
      "2.1.1\n"
     ]
    }
   ],
   "source": [
    "import tensorflow as tf\n",
    "print(tf.__version__)"
   ]
  },
  {
   "cell_type": "code",
   "execution_count": 4,
   "metadata": {},
   "outputs": [
    {
     "name": "stdout",
     "output_type": "stream",
     "text": [
      "gs://munn-sandbox/txtcls/data/titles_full.csv\n",
      "gs://munn-sandbox/txtcls/data/titles_sample.csv\n"
     ]
    }
   ],
   "source": [
    "%%bash\n",
    "gsutil ls gs://$BUCKET/txtcls/data/"
   ]
  },
  {
   "cell_type": "code",
   "execution_count": 5,
   "metadata": {},
   "outputs": [
    {
     "name": "stdout",
     "output_type": "stream",
     "text": [
      "Copying gs://munn-sandbox/txtcls/data/titles_full.csv...\n",
      "/ [1 files][  5.4 MiB/  5.4 MiB]                                                \n",
      "Operation completed over 1 objects/5.4 MiB.                                      \n"
     ]
    }
   ],
   "source": [
    "!gsutil cp gs://$BUCKET/txtcls/data/titles_full.csv ."
   ]
  },
  {
   "cell_type": "code",
   "execution_count": 6,
   "metadata": {},
   "outputs": [
    {
     "data": {
      "text/html": [
       "<div>\n",
       "<style scoped>\n",
       "    .dataframe tbody tr th:only-of-type {\n",
       "        vertical-align: middle;\n",
       "    }\n",
       "\n",
       "    .dataframe tbody tr th {\n",
       "        vertical-align: top;\n",
       "    }\n",
       "\n",
       "    .dataframe thead th {\n",
       "        text-align: right;\n",
       "    }\n",
       "</style>\n",
       "<table border=\"1\" class=\"dataframe\">\n",
       "  <thead>\n",
       "    <tr style=\"text-align: right;\">\n",
       "      <th></th>\n",
       "      <th>title</th>\n",
       "      <th>source</th>\n",
       "    </tr>\n",
       "  </thead>\n",
       "  <tbody>\n",
       "    <tr>\n",
       "      <th>0</th>\n",
       "      <td>led inventor and employer settle for $8.1m  2005</td>\n",
       "      <td>nytimes</td>\n",
       "    </tr>\n",
       "    <tr>\n",
       "      <th>1</th>\n",
       "      <td>yc-backed photo-sharing service picplum loses ...</td>\n",
       "      <td>techcrunch</td>\n",
       "    </tr>\n",
       "    <tr>\n",
       "      <th>2</th>\n",
       "      <td>as facebook turns 10  zuckerberg wants to chan...</td>\n",
       "      <td>nytimes</td>\n",
       "    </tr>\n",
       "    <tr>\n",
       "      <th>3</th>\n",
       "      <td>6 big healthtech ideas that will change medici...</td>\n",
       "      <td>techcrunch</td>\n",
       "    </tr>\n",
       "    <tr>\n",
       "      <th>4</th>\n",
       "      <td>building the prince of persia sources to creat...</td>\n",
       "      <td>github</td>\n",
       "    </tr>\n",
       "  </tbody>\n",
       "</table>\n",
       "</div>"
      ],
      "text/plain": [
       "                                               title      source\n",
       "0  led inventor and employer settle for $8.1m  2005      nytimes\n",
       "1  yc-backed photo-sharing service picplum loses ...  techcrunch\n",
       "2  as facebook turns 10  zuckerberg wants to chan...     nytimes\n",
       "3  6 big healthtech ideas that will change medici...  techcrunch\n",
       "4  building the prince of persia sources to creat...      github"
      ]
     },
     "execution_count": 6,
     "metadata": {},
     "output_type": "execute_result"
    }
   ],
   "source": [
    "import pandas as pd\n",
    "from tensorflow.keras.utils import to_categorical\n",
    "\n",
    "DATASET_NAME = \"titles_full.csv\"\n",
    "COLUMNS = ['title', 'source']\n",
    "\n",
    "titles_df = pd.read_csv(DATASET_NAME, header=None, names=COLUMNS)\n",
    "titles_df.head()"
   ]
  },
  {
   "cell_type": "code",
   "execution_count": 7,
   "metadata": {},
   "outputs": [],
   "source": [
    "CLASSES = {\n",
    "    'github': 0,\n",
    "    'nytimes': 1,\n",
    "    'techcrunch': 2\n",
    "}\n",
    "N_CLASSES = len(CLASSES)"
   ]
  },
  {
   "cell_type": "code",
   "execution_count": 8,
   "metadata": {},
   "outputs": [],
   "source": [
    "def encode_labels(sources):\n",
    "    classes = [CLASSES[source] for source in sources]\n",
    "    one_hots = to_categorical(classes, num_classes=N_CLASSES)\n",
    "    return one_hots"
   ]
  },
  {
   "cell_type": "code",
   "execution_count": 9,
   "metadata": {},
   "outputs": [
    {
     "data": {
      "text/plain": [
       "array([[0., 1., 0.],\n",
       "       [0., 0., 1.],\n",
       "       [0., 1., 0.],\n",
       "       [0., 0., 1.]], dtype=float32)"
      ]
     },
     "execution_count": 9,
     "metadata": {},
     "output_type": "execute_result"
    }
   ],
   "source": [
    "encode_labels(titles_df.source[:4])"
   ]
  },
  {
   "cell_type": "code",
   "execution_count": 10,
   "metadata": {},
   "outputs": [],
   "source": [
    "N_TRAIN = int(len(titles_df) * 0.95)\n",
    "\n",
    "titles_train, sources_train = (\n",
    "    titles_df.title[:N_TRAIN], titles_df.source[:N_TRAIN])\n",
    "\n",
    "titles_valid, sources_valid = (\n",
    "    titles_df.title[N_TRAIN:], titles_df.source[N_TRAIN:])"
   ]
  },
  {
   "cell_type": "code",
   "execution_count": 11,
   "metadata": {},
   "outputs": [],
   "source": [
    "X_train, Y_train = titles_train.values, encode_labels(sources_train)\n",
    "X_valid, Y_valid = titles_valid.values, encode_labels(sources_valid)"
   ]
  },
  {
   "cell_type": "code",
   "execution_count": 12,
   "metadata": {},
   "outputs": [
    {
     "data": {
      "text/plain": [
       "array(['led inventor and employer settle for $8.1m  2005 ',\n",
       "       'yc-backed photo-sharing service picplum loses one co-founder',\n",
       "       'as facebook turns 10  zuckerberg wants to change how tech industry works'],\n",
       "      dtype=object)"
      ]
     },
     "execution_count": 12,
     "metadata": {},
     "output_type": "execute_result"
    }
   ],
   "source": [
    "X_train[:3]"
   ]
  },
  {
   "cell_type": "markdown",
   "metadata": {},
   "source": [
    "## Swivel Model"
   ]
  },
  {
   "cell_type": "markdown",
   "metadata": {},
   "source": [
    "Then we will try a word embedding obtained using [Swivel](https://arxiv.org/abs/1602.02215), an algorithm that essentially factorizes word co-occurrence matrices to create the words embeddings. \n",
    "TF-Hub hosts the pretrained [gnews-swivel-20dim-with-oov](https://tfhub.dev/google/tf2-preview/gnews-swivel-20dim-with-oov/1) 20-dimensional Swivel module."
   ]
  },
  {
   "cell_type": "code",
   "execution_count": 17,
   "metadata": {},
   "outputs": [],
   "source": [
    "import tensorflow as tf\n",
    "from tensorflow.keras.callbacks import TensorBoard, EarlyStopping\n",
    "from tensorflow_hub import KerasLayer\n",
    "from tensorflow.keras.layers import Dense, Input, Lambda\n",
    "from tensorflow.keras.models import Sequential, Model\n",
    "\n",
    "%matplotlib inline"
   ]
  },
  {
   "cell_type": "code",
   "execution_count": 16,
   "metadata": {},
   "outputs": [
    {
     "name": "stdout",
     "output_type": "stream",
     "text": [
      "2.1.1\n"
     ]
    }
   ],
   "source": [
    "print(tf.__version__)"
   ]
  },
  {
   "cell_type": "code",
   "execution_count": 15,
   "metadata": {},
   "outputs": [],
   "source": [
    "SWIVEL = \"https://tfhub.dev/google/tf2-preview/gnews-swivel-20dim-with-oov/1\"\n",
    "swivel_module = KerasLayer(\n",
    "    SWIVEL, output_shape=[20], input_shape=[], dtype=tf.string, trainable=True)"
   ]
  },
  {
   "cell_type": "code",
   "execution_count": 19,
   "metadata": {},
   "outputs": [],
   "source": [
    "MODEL_DIR = \"./text_model\""
   ]
  },
  {
   "cell_type": "code",
   "execution_count": 23,
   "metadata": {},
   "outputs": [],
   "source": [
    "#def confidence(x):\n",
    "#    return tf.reduce_max(x, axis=1)\n",
    "\n",
    "def txt_source(x):\n",
    "    labels = ['github', 'techcrunch', 'nytimes']\n",
    "    return tf.cast(tf.argmax(x, axis=1), tf.float32)\n",
    "\n",
    "    #return tf.expand_dims(tf.constant(1.), axis=0)\n",
    "\n",
    "\n",
    "def build_model(hub_module, name):\n",
    "    #model = Sequential([\n",
    "    #    hub_module, # TODO 2\n",
    "    #    Dense(16, activation='relu'),\n",
    "    #    Dense(N_CLASSES, activation='softmax')\n",
    "    #], name=name)\n",
    "    inputs = Input(shape=[], dtype=tf.string, name=\"text\")\n",
    "    module = hub_module(inputs)\n",
    "    h1 = Dense(16, activation='relu', name=\"h1\")(module)\n",
    "    outputs = Dense(N_CLASSES, activation='softmax', name='outputs')(h1)\n",
    "    score = Lambda(lambda x: tf.reduce_max(x, axis=1), name=\"score\")(outputs)\n",
    "    pred_label = Lambda(lambda x: txt_source(x), name=\"pred_label\")(outputs)\n",
    "    \n",
    "    model = Model(inputs=inputs, outputs=[outputs])\n",
    "    extra_model = Model(inputs=inputs, outputs=[outputs, pred_label, score])\n",
    "    \n",
    "    model.compile(\n",
    "        optimizer='adam',\n",
    "        loss='categorical_crossentropy',\n",
    "        metrics=['accuracy']\n",
    "    )\n",
    "    extra_model.compile(\n",
    "        optimizer='adam',\n",
    "        loss='categorical_crossentropy',\n",
    "        metrics=['accuracy']\n",
    "    )\n",
    "    return model, extra_model"
   ]
  },
  {
   "cell_type": "code",
   "execution_count": 21,
   "metadata": {},
   "outputs": [],
   "source": [
    "def train_and_evaluate(train_data, val_data, model, batch_size=5000):\n",
    "    X_train, Y_train = train_data\n",
    "\n",
    "    tf.random.set_seed(33)\n",
    "\n",
    "    model_dir = os.path.join(MODEL_DIR, model.name)\n",
    "    if tf.io.gfile.exists(model_dir):\n",
    "        tf.io.gfile.rmtree(model_dir)\n",
    "\n",
    "    history = model.fit(\n",
    "        X_train, Y_train,\n",
    "        epochs=100,\n",
    "        batch_size=batch_size,\n",
    "        validation_data=val_data,\n",
    "        callbacks=[EarlyStopping(), TensorBoard(model_dir)],\n",
    "    )\n",
    "    return history"
   ]
  },
  {
   "cell_type": "code",
   "execution_count": 24,
   "metadata": {},
   "outputs": [],
   "source": [
    "swivel_model = build_model(swivel_module, name='swivel')"
   ]
  },
  {
   "cell_type": "code",
   "execution_count": 26,
   "metadata": {},
   "outputs": [],
   "source": [
    "data = (X_train, Y_train)\n",
    "val_data = (X_valid, Y_valid)"
   ]
  },
  {
   "cell_type": "code",
   "execution_count": 27,
   "metadata": {},
   "outputs": [
    {
     "name": "stdout",
     "output_type": "stream",
     "text": [
      "Train on 91392 samples, validate on 4811 samples\n",
      "Epoch 1/100\n",
      "91392/91392 [==============================] - 4s 41us/sample - loss: 1.2985 - accuracy: 0.2760 - val_loss: 1.2328 - val_accuracy: 0.2835\n",
      "Epoch 2/100\n",
      "91392/91392 [==============================] - 1s 6us/sample - loss: 1.1638 - accuracy: 0.3239 - val_loss: 1.1294 - val_accuracy: 0.3590\n",
      "Epoch 3/100\n",
      "91392/91392 [==============================] - 1s 6us/sample - loss: 1.0832 - accuracy: 0.4056 - val_loss: 1.0613 - val_accuracy: 0.4386\n",
      "Epoch 4/100\n",
      "91392/91392 [==============================] - 1s 6us/sample - loss: 1.0245 - accuracy: 0.4744 - val_loss: 1.0056 - val_accuracy: 0.4914\n",
      "Epoch 5/100\n",
      "91392/91392 [==============================] - 1s 6us/sample - loss: 0.9717 - accuracy: 0.5249 - val_loss: 0.9527 - val_accuracy: 0.5392\n",
      "Epoch 6/100\n",
      "91392/91392 [==============================] - 1s 6us/sample - loss: 0.9198 - accuracy: 0.5656 - val_loss: 0.9013 - val_accuracy: 0.5789\n",
      "Epoch 7/100\n",
      "91392/91392 [==============================] - 1s 6us/sample - loss: 0.8683 - accuracy: 0.6001 - val_loss: 0.8511 - val_accuracy: 0.6078\n",
      "Epoch 8/100\n",
      "91392/91392 [==============================] - 1s 6us/sample - loss: 0.8183 - accuracy: 0.6283 - val_loss: 0.8044 - val_accuracy: 0.6335\n",
      "Epoch 9/100\n",
      "91392/91392 [==============================] - 1s 6us/sample - loss: 0.7718 - accuracy: 0.6540 - val_loss: 0.7618 - val_accuracy: 0.6558\n",
      "Epoch 10/100\n",
      "91392/91392 [==============================] - 1s 6us/sample - loss: 0.7299 - accuracy: 0.6767 - val_loss: 0.7239 - val_accuracy: 0.6797\n",
      "Epoch 11/100\n",
      "91392/91392 [==============================] - 1s 6us/sample - loss: 0.6926 - accuracy: 0.6958 - val_loss: 0.6901 - val_accuracy: 0.6928\n",
      "Epoch 12/100\n",
      "91392/91392 [==============================] - 1s 6us/sample - loss: 0.6594 - accuracy: 0.7119 - val_loss: 0.6599 - val_accuracy: 0.7088\n",
      "Epoch 13/100\n",
      "91392/91392 [==============================] - 1s 6us/sample - loss: 0.6297 - accuracy: 0.7267 - val_loss: 0.6333 - val_accuracy: 0.7215\n",
      "Epoch 14/100\n",
      "91392/91392 [==============================] - 1s 6us/sample - loss: 0.6031 - accuracy: 0.7397 - val_loss: 0.6097 - val_accuracy: 0.7302\n",
      "Epoch 15/100\n",
      "91392/91392 [==============================] - 1s 6us/sample - loss: 0.5792 - accuracy: 0.7516 - val_loss: 0.5892 - val_accuracy: 0.7412\n",
      "Epoch 16/100\n",
      "91392/91392 [==============================] - 1s 6us/sample - loss: 0.5577 - accuracy: 0.7624 - val_loss: 0.5711 - val_accuracy: 0.7497\n",
      "Epoch 17/100\n",
      "91392/91392 [==============================] - 1s 6us/sample - loss: 0.5384 - accuracy: 0.7724 - val_loss: 0.5552 - val_accuracy: 0.7597\n",
      "Epoch 18/100\n",
      "91392/91392 [==============================] - 1s 6us/sample - loss: 0.5209 - accuracy: 0.7810 - val_loss: 0.5413 - val_accuracy: 0.7660\n",
      "Epoch 19/100\n",
      "91392/91392 [==============================] - 1s 6us/sample - loss: 0.5051 - accuracy: 0.7886 - val_loss: 0.5291 - val_accuracy: 0.7697\n",
      "Epoch 20/100\n",
      "91392/91392 [==============================] - 1s 6us/sample - loss: 0.4908 - accuracy: 0.7949 - val_loss: 0.5184 - val_accuracy: 0.7749\n",
      "Epoch 21/100\n",
      "91392/91392 [==============================] - 1s 6us/sample - loss: 0.4778 - accuracy: 0.8011 - val_loss: 0.5087 - val_accuracy: 0.7799\n",
      "Epoch 22/100\n",
      "91392/91392 [==============================] - 1s 6us/sample - loss: 0.4658 - accuracy: 0.8071 - val_loss: 0.5003 - val_accuracy: 0.7847\n",
      "Epoch 23/100\n",
      "91392/91392 [==============================] - 1s 6us/sample - loss: 0.4549 - accuracy: 0.8122 - val_loss: 0.4935 - val_accuracy: 0.7907\n",
      "Epoch 24/100\n",
      "91392/91392 [==============================] - 1s 6us/sample - loss: 0.4451 - accuracy: 0.8167 - val_loss: 0.4876 - val_accuracy: 0.7938\n",
      "Epoch 25/100\n",
      "91392/91392 [==============================] - 1s 6us/sample - loss: 0.4358 - accuracy: 0.8218 - val_loss: 0.4816 - val_accuracy: 0.7982\n",
      "Epoch 26/100\n",
      "91392/91392 [==============================] - 1s 6us/sample - loss: 0.4274 - accuracy: 0.8257 - val_loss: 0.4769 - val_accuracy: 0.8027\n",
      "Epoch 27/100\n",
      "91392/91392 [==============================] - 1s 6us/sample - loss: 0.4197 - accuracy: 0.8289 - val_loss: 0.4728 - val_accuracy: 0.8034\n",
      "Epoch 28/100\n",
      "91392/91392 [==============================] - 1s 6us/sample - loss: 0.4125 - accuracy: 0.8327 - val_loss: 0.4693 - val_accuracy: 0.8038\n",
      "Epoch 29/100\n",
      "91392/91392 [==============================] - 1s 6us/sample - loss: 0.4058 - accuracy: 0.8358 - val_loss: 0.4661 - val_accuracy: 0.8059\n",
      "Epoch 30/100\n",
      "91392/91392 [==============================] - 1s 6us/sample - loss: 0.3997 - accuracy: 0.8389 - val_loss: 0.4640 - val_accuracy: 0.8063\n",
      "Epoch 31/100\n",
      "91392/91392 [==============================] - 1s 6us/sample - loss: 0.3940 - accuracy: 0.8414 - val_loss: 0.4619 - val_accuracy: 0.8069\n",
      "Epoch 32/100\n",
      "91392/91392 [==============================] - 1s 6us/sample - loss: 0.3888 - accuracy: 0.8434 - val_loss: 0.4605 - val_accuracy: 0.8077\n",
      "Epoch 33/100\n",
      "91392/91392 [==============================] - 1s 6us/sample - loss: 0.3838 - accuracy: 0.8457 - val_loss: 0.4587 - val_accuracy: 0.8075\n",
      "Epoch 34/100\n",
      "91392/91392 [==============================] - 1s 6us/sample - loss: 0.3792 - accuracy: 0.8479 - val_loss: 0.4585 - val_accuracy: 0.8073\n",
      "Epoch 35/100\n",
      "91392/91392 [==============================] - 1s 6us/sample - loss: 0.3750 - accuracy: 0.8503 - val_loss: 0.4578 - val_accuracy: 0.8090\n",
      "Epoch 36/100\n",
      "91392/91392 [==============================] - 1s 6us/sample - loss: 0.3709 - accuracy: 0.8515 - val_loss: 0.4574 - val_accuracy: 0.8104\n",
      "Epoch 37/100\n",
      "91392/91392 [==============================] - 1s 6us/sample - loss: 0.3671 - accuracy: 0.8535 - val_loss: 0.4569 - val_accuracy: 0.8100\n",
      "Epoch 38/100\n",
      "91392/91392 [==============================] - 1s 6us/sample - loss: 0.3635 - accuracy: 0.8550 - val_loss: 0.4570 - val_accuracy: 0.8094\n"
     ]
    }
   ],
   "source": [
    "swivel_history = train_and_evaluate(data, val_data, swivel_model[0])"
   ]
  },
  {
   "cell_type": "code",
   "execution_count": 28,
   "metadata": {},
   "outputs": [
    {
     "data": {
      "text/plain": [
       "<matplotlib.axes._subplots.AxesSubplot at 0x7f28aedcb610>"
      ]
     },
     "execution_count": 28,
     "metadata": {},
     "output_type": "execute_result"
    },
    {
     "data": {
      "image/png": "[encoded data removed]",
      "text/plain": [
       "<Figure size 432x288 with 1 Axes>"
      ]
     },
     "metadata": {
      "needs_background": "light"
     },
     "output_type": "display_data"
    },
    {
     "data": {
      "image/png": "[encoded data removed]",
      "text/plain": [
       "<Figure size 432x288 with 1 Axes>"
      ]
     },
     "metadata": {
      "needs_background": "light"
     },
     "output_type": "display_data"
    }
   ],
   "source": [
    "history = swivel_history\n",
    "pd.DataFrame(history.history)[['loss', 'val_loss']].plot()\n",
    "pd.DataFrame(history.history)[['accuracy', 'val_accuracy']].plot()"
   ]
  },
  {
   "cell_type": "code",
   "execution_count": 31,
   "metadata": {},
   "outputs": [
    {
     "data": {
      "text/plain": [
       "[array([[0.00264016, 0.6643035 , 0.3330564 ]], dtype=float32),\n",
       " array([1.], dtype=float32),\n",
       " array([0.6643035], dtype=float32)]"
      ]
     },
     "execution_count": 31,
     "metadata": {},
     "output_type": "execute_result"
    }
   ],
   "source": [
    "swivel_model[1].predict(x=[\"led inventor and employer settle for $8.1m 2005\", \n",
    "                           ])"
   ]
  },
  {
   "cell_type": "code",
   "execution_count": 32,
   "metadata": {},
   "outputs": [
    {
     "name": "stdout",
     "output_type": "stream",
     "text": [
      "WARNING:tensorflow:From /home/jupyter/.local/lib/python3.7/site-packages/tensorflow_core/python/ops/resource_variable_ops.py:1786: calling BaseResourceVariable.__init__ (from tensorflow.python.ops.resource_variable_ops) with constraint is deprecated and will be removed in a future version.\n",
      "Instructions for updating:\n",
      "If using Keras pass *_constraint arguments to layers.\n"
     ]
    },
    {
     "name": "stderr",
     "output_type": "stream",
     "text": [
      "WARNING:tensorflow:From /home/jupyter/.local/lib/python3.7/site-packages/tensorflow_core/python/ops/resource_variable_ops.py:1786: calling BaseResourceVariable.__init__ (from tensorflow.python.ops.resource_variable_ops) with constraint is deprecated and will be removed in a future version.\n",
      "Instructions for updating:\n",
      "If using Keras pass *_constraint arguments to layers.\n"
     ]
    },
    {
     "name": "stdout",
     "output_type": "stream",
     "text": [
      "INFO:tensorflow:Assets written to: ./swivel_model/assets\n"
     ]
    },
    {
     "name": "stderr",
     "output_type": "stream",
     "text": [
      "INFO:tensorflow:Assets written to: ./swivel_model/assets\n"
     ]
    }
   ],
   "source": [
    "tf.saved_model.save(swivel_model[1], './swivel_model/')"
   ]
  },
  {
   "cell_type": "code",
   "execution_count": 47,
   "metadata": {},
   "outputs": [
    {
     "name": "stdout",
     "output_type": "stream",
     "text": [
      "2020-05-28 04:14:00.029024: I tensorflow/stream_executor/platform/default/dso_loader.cc:44] Successfully opened dynamic library libnvinfer.so.6\n",
      "2020-05-28 04:14:00.030543: I tensorflow/stream_executor/platform/default/dso_loader.cc:44] Successfully opened dynamic library libnvinfer_plugin.so.6\n",
      "The given SavedModel SignatureDef contains the following input(s):\n",
      "The given SavedModel SignatureDef contains the following output(s):\n",
      "Method name is: \n",
      "./swivel_model/\n",
      "./swivel_model/saved_model.pb\n",
      "./swivel_model/variables\n",
      "./swivel_model/variables/variables.data-00000-of-00002\n",
      "./swivel_model/variables/variables.index\n",
      "./swivel_model/variables/variables.data-00001-of-00002\n",
      "./swivel_model/assets\n",
      "./swivel_model/assets/tokens.txt\n"
     ]
    }
   ],
   "source": [
    "!saved_model_cli show \\\n",
    " --tag_set serve \\\n",
    " --signature_def serving_default \\\n",
    " --dir ./swivel_model/\n",
    "!find ./swivel_model/"
   ]
  },
  {
   "cell_type": "markdown",
   "metadata": {},
   "source": [
    "## Deploy model"
   ]
  },
  {
   "cell_type": "code",
   "execution_count": null,
   "metadata": {},
   "outputs": [],
   "source": []
  },
  {
   "cell_type": "code",
   "execution_count": null,
   "metadata": {},
   "outputs": [],
   "source": []
  },
  {
   "cell_type": "code",
   "execution_count": 34,
   "metadata": {},
   "outputs": [
    {
     "data": {
      "text/plain": [
       "array(['when a palm reader knows more than your life line',\n",
       "       'salmonella in spices prompts changes in farming',\n",
       "       'try to land the spacex falcon 9 rocket yourself', ...,\n",
       "       'the obesity-hunger paradox',\n",
       "       'with dropcam founder and technology vp exits  nest restructures management',\n",
       "       'let s not get too cocky about the blubble'], dtype=object)"
      ]
     },
     "execution_count": 34,
     "metadata": {},
     "output_type": "execute_result"
    }
   ],
   "source": [
    "X_valid"
   ]
  },
  {
   "cell_type": "code",
   "execution_count": 61,
   "metadata": {},
   "outputs": [
    {
     "name": "stdout",
     "output_type": "stream",
     "text": [
      "Overwriting input.json\n"
     ]
    }
   ],
   "source": [
    "%%writefile input.json\n",
    "{\"text\": \"YouTube introduces Video Chapters to make it easier to navigate longer videos\"}"
   ]
  },
  {
   "cell_type": "code",
   "execution_count": 62,
   "metadata": {},
   "outputs": [
    {
     "name": "stdout",
     "output_type": "stream",
     "text": [
      "OUTPUTS                                                         PRED_LABEL  SCORE\n",
      "[0.11562517285346985, 0.07285292446613312, 0.8115219473838806]  2.0         0.811522\n"
     ]
    }
   ],
   "source": [
    "!gcloud ai-platform predict \\\n",
    "  --model txtcls \\\n",
    "  --json-instances input.json \\\n",
    "  --version swivel"
   ]
  },
  {
   "cell_type": "markdown",
   "metadata": {},
   "source": [
    "Predict in python"
   ]
  },
  {
   "cell_type": "code",
   "execution_count": 58,
   "metadata": {},
   "outputs": [],
   "source": [
    "request_data =  {\n",
    "  \"instances\": [\n",
    "    {\n",
    "      \"text\": \"Coronavirus Live Updates: With Relief Measures Set to Phase Out, Some Face Economic Ruin\"\n",
    "    }\n",
    "  ]\n",
    "}"
   ]
  },
  {
   "cell_type": "code",
   "execution_count": 59,
   "metadata": {},
   "outputs": [],
   "source": [
    "from googleapiclient import discovery\n",
    "from oauth2client.client import GoogleCredentials\n",
    "import json\n",
    "\n",
    "# Authenticate and call CMLE prediction API \n",
    "credentials = GoogleCredentials.get_application_default()\n",
    "api = discovery.build('ml', 'v1', credentials=credentials,\n",
    "            discoveryServiceUrl='https://storage.googleapis.com/cloud-ml/discovery/ml_v1_discovery.json')\n",
    "\n",
    "parent = 'projects/%s/models/%s/versions/%s' % (PROJECT, 'txtcls', 'swivel')\n",
    "response = api.projects().predict(body=request_data, name=parent).execute()"
   ]
  },
  {
   "cell_type": "code",
   "execution_count": 60,
   "metadata": {},
   "outputs": [
    {
     "data": {
      "text/plain": [
       "{'predictions': [{'score': 0.9346859455108643,\n",
       "   'outputs': [0.9346859455108643, 0.015970008447766304, 0.049344100058078766],\n",
       "   'pred_label': 0.0}]}"
      ]
     },
     "execution_count": 60,
     "metadata": {},
     "output_type": "execute_result"
    }
   ],
   "source": [
    "response"
   ]
  },
  {
   "cell_type": "code",
   "execution_count": null,
   "metadata": {},
   "outputs": [],
   "source": []
  }
 ],
 "metadata": {
  "kernelspec": {
   "display_name": "Python 3",
   "language": "python",
   "name": "python3"
  },
  "language_info": {
   "codemirror_mode": {
    "name": "ipython",
    "version": 3
   },
   "file_extension": ".py",
   "mimetype": "text/x-python",
   "name": "python",
   "nbconvert_exporter": "python",
   "pygments_lexer": "ipython3",
   "version": "3.7.6"
  }
 },
 "nbformat": 4,
 "nbformat_minor": 4
}
