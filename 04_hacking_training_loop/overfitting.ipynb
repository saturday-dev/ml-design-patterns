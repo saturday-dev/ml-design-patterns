{
 "cells": [
  {
   "cell_type": "code",
   "execution_count": 1,
   "metadata": {},
   "outputs": [],
   "source": [
    "import datetime\n",
    "import os\n",
    "\n",
    "import matplotlib.pyplot as plt\n",
    "import tensorflow as tf\n",
    "\n",
    "from tensorflow import keras\n",
    "from tensorflow.keras import layers\n",
    "from tensorflow import feature_column as fc"
   ]
  },
  {
   "cell_type": "code",
   "execution_count": 2,
   "metadata": {},
   "outputs": [],
   "source": [
    "# Determine CSV, label, and key columns\n",
    "# Create list of string column headers, make sure order matches.\n",
    "CSV_COLUMNS = [\"weight_pounds\",\n",
    "               \"is_male\",\n",
    "               \"mother_age\",\n",
    "               \"plurality\",\n",
    "               \"gestation_weeks\",\n",
    "               \"mother_race\"]\n",
    "\n",
    "# Add string name for label column\n",
    "LABEL_COLUMN = \"weight_pounds\"\n",
    "\n",
    "# Set default values for each CSV column as a list of lists.\n",
    "# Treat is_male and plurality as strings.\n",
    "DEFAULTS = [[0.0], [\"null\"], [0.0], [\"null\"], [0.0], [\"null\"]]"
   ]
  },
  {
   "cell_type": "code",
   "execution_count": 3,
   "metadata": {},
   "outputs": [],
   "source": [
    "def features_and_labels(row_data):\n",
    "    \"\"\"Splits features and labels from feature dictionary.\n",
    "    Args:\n",
    "        row_data: Dictionary of CSV column names and tensor values.\n",
    "    Returns:\n",
    "        Dictionary of feature tensors and label tensor.\n",
    "    \"\"\"\n",
    "    label = row_data.pop(LABEL_COLUMN)\n",
    "\n",
    "    return row_data, label\n",
    "\n",
    "\n",
    "def load_dataset(pattern, batch_size=1, mode=tf.estimator.ModeKeys.EVAL):\n",
    "    \"\"\"Loads dataset using the tf.data API from CSV files.\n",
    "    Args:\n",
    "        pattern: str, file pattern to glob into list of files.\n",
    "        batch_size: int, the number of examples per batch.\n",
    "        mode: tf.estimator.ModeKeys to determine if training or evaluating.\n",
    "    Returns:\n",
    "        `Dataset` object.\n",
    "    \"\"\"\n",
    "    # Make a CSV dataset\n",
    "    dataset = tf.data.experimental.make_csv_dataset(\n",
    "        file_pattern=pattern,\n",
    "        batch_size=batch_size,\n",
    "        column_names=CSV_COLUMNS,\n",
    "        column_defaults=DEFAULTS)\n",
    "\n",
    "    # Map dataset to features and label\n",
    "    dataset = dataset.map(map_func=features_and_labels)  # features, label\n",
    "\n",
    "    # Shuffle and repeat for training\n",
    "    if mode == tf.estimator.ModeKeys.TRAIN:\n",
    "        dataset = dataset#.shuffle(buffer_size=1000)#.repeat()\n",
    "\n",
    "    # Take advantage of multi-threading; 1=AUTOTUNE\n",
    "    dataset = dataset.prefetch(buffer_size=1)\n",
    "\n",
    "    return dataset"
   ]
  },
  {
   "cell_type": "code",
   "execution_count": 4,
   "metadata": {},
   "outputs": [],
   "source": [
    "tf.random.set_seed(33)\n",
    "\n",
    "TRAIN_BATCH_SIZE = 32\n",
    "NUM_TRAIN_EXAMPLES = 1000 * 5  # training dataset repeats, it'll wrap around\n",
    "NUM_EVALS = 5  # how many times to evaluate\n",
    "# Enough to get a reasonable sample, but not so much that it slows down\n",
    "NUM_EVAL_EXAMPLES = 1000\n",
    "\n",
    "\n",
    "trainds = load_dataset(\n",
    "    pattern=\"./data/babyweight_train*\",\n",
    "    batch_size=TRAIN_BATCH_SIZE,\n",
    "    mode=tf.estimator.ModeKeys.TRAIN)\n",
    "\n",
    "evalds = load_dataset(\n",
    "    pattern=\"./data/babyweight_eval*\",\n",
    "    batch_size=1000,\n",
    "    mode=tf.estimator.ModeKeys.EVAL).take(count=NUM_EVAL_EXAMPLES // 1000)\n",
    "\n",
    "steps_per_epoch = NUM_TRAIN_EXAMPLES // (TRAIN_BATCH_SIZE * NUM_EVALS)\n",
    "\n",
    "logdir = os.path.join(\n",
    "    \"logs\", datetime.datetime.now().strftime(\"%Y%m%d-%H%M%S\"))\n",
    "tensorboard_callback = tf.keras.callbacks.TensorBoard(\n",
    "    log_dir=logdir, histogram_freq=1)"
   ]
  },
  {
   "cell_type": "markdown",
   "metadata": {},
   "source": [
    "Next, we build the model just as before."
   ]
  },
  {
   "cell_type": "code",
   "execution_count": 5,
   "metadata": {},
   "outputs": [],
   "source": [
    "def create_input_layers():\n",
    "    \"\"\"Creates dictionary of input layers for each feature.\n",
    "\n",
    "    Returns:\n",
    "        Dictionary of `tf.Keras.layers.Input` layers for each feature.\n",
    "    \"\"\"\n",
    "    inputs = {\n",
    "        colname: tf.keras.layers.Input(\n",
    "            name=colname, shape=(), dtype=\"float32\")\n",
    "        for colname in [\"mother_age\", \"gestation_weeks\"]}\n",
    "\n",
    "    inputs.update({\n",
    "        colname: tf.keras.layers.Input(\n",
    "            name=colname, shape=(), dtype=\"string\")\n",
    "        for colname in [\"is_male\", \"plurality\", \"mother_race\"]})\n",
    "\n",
    "    return inputs"
   ]
  },
  {
   "cell_type": "code",
   "execution_count": 6,
   "metadata": {},
   "outputs": [],
   "source": [
    "def categorical_fc(name, values):\n",
    "    cat_column = fc.categorical_column_with_vocabulary_list(\n",
    "            key=name, vocabulary_list=values)\n",
    "\n",
    "    return fc.indicator_column(categorical_column=cat_column)\n",
    "\n",
    "\n",
    "def create_feature_columns():\n",
    "    feature_columns = {\n",
    "        colname : fc.numeric_column(key=colname)\n",
    "           for colname in [\"mother_age\", \"gestation_weeks\"]\n",
    "    }\n",
    "\n",
    "    feature_columns[\"is_male\"] = categorical_fc(\n",
    "        \"is_male\", [\"True\", \"False\", \"Unknown\"])\n",
    "    feature_columns[\"plurality\"] = categorical_fc(\n",
    "        \"plurality\", [\"Single(1)\", \"Twins(2)\", \"Triplets(3)\",\n",
    "                      \"Quadruplets(4)\", \"Quintuplets(5)\", \"Multiple(2+)\"])\n",
    "    feature_columns[\"mother_race\"] = fc.indicator_column(\n",
    "        fc.categorical_column_with_hash_bucket(\n",
    "            \"mother_race\", hash_bucket_size=17, dtype=tf.dtypes.string))\n",
    "    \n",
    "    feature_columns[\"gender_x_plurality\"] = fc.embedding_column(\n",
    "        fc.crossed_column([\"is_male\", \"plurality\"], hash_bucket_size=18),\n",
    "        dimension=2)\n",
    "\n",
    "    return feature_columns"
   ]
  },
  {
   "cell_type": "code",
   "execution_count": 7,
   "metadata": {},
   "outputs": [
    {
     "name": "stdout",
     "output_type": "stream",
     "text": [
      "Feature column keys: \n",
      "['mother_age', 'gestation_weeks', 'is_male', 'plurality', 'mother_race', 'gender_x_plurality']\n",
      "\n",
      "Feature column values: \n",
      "[NumericColumn(key='mother_age', shape=(1,), default_value=None, dtype=tf.float32, normalizer_fn=None), NumericColumn(key='gestation_weeks', shape=(1,), default_value=None, dtype=tf.float32, normalizer_fn=None), IndicatorColumn(categorical_column=VocabularyListCategoricalColumn(key='is_male', vocabulary_list=('True', 'False', 'Unknown'), dtype=tf.string, default_value=-1, num_oov_buckets=0)), IndicatorColumn(categorical_column=VocabularyListCategoricalColumn(key='plurality', vocabulary_list=('Single(1)', 'Twins(2)', 'Triplets(3)', 'Quadruplets(4)', 'Quintuplets(5)', 'Multiple(2+)'), dtype=tf.string, default_value=-1, num_oov_buckets=0)), IndicatorColumn(categorical_column=HashedCategoricalColumn(key='mother_race', hash_bucket_size=17, dtype=tf.string)), EmbeddingColumn(categorical_column=CrossedColumn(keys=('is_male', 'plurality'), hash_bucket_size=18, hash_key=None), dimension=2, combiner='mean', initializer=<tensorflow.python.ops.init_ops.TruncatedNormal object at 0x7f2e1307a410>, ckpt_to_load_from=None, tensor_name_in_ckpt=None, max_norm=None, trainable=True)]\n",
      "\n"
     ]
    }
   ],
   "source": [
    "feature_columns = create_feature_columns()\n",
    "print(\"Feature column keys: \\n{}\\n\".format(list(feature_columns.keys())))\n",
    "print(\"Feature column values: \\n{}\\n\".format(list(feature_columns.values())))"
   ]
  },
  {
   "cell_type": "code",
   "execution_count": 8,
   "metadata": {},
   "outputs": [],
   "source": [
    "def get_model_outputs(inputs):\n",
    "    # Create two hidden layers of [64, 32] just in like the BQML DNN\n",
    "    h1 = layers.Dense(64, activation=\"relu\", name=\"h1\")(inputs)\n",
    "    h2 = layers.Dense(32, activation=\"relu\", name=\"h2\")(h1)\n",
    "\n",
    "    # Final output is a linear activation because this is regression\n",
    "    output = layers.Dense(units=1, activation=\"linear\", name=\"weight\")(h2)\n",
    "\n",
    "    return output"
   ]
  },
  {
   "cell_type": "code",
   "execution_count": 9,
   "metadata": {},
   "outputs": [],
   "source": [
    "def rmse(y_true, y_pred):\n",
    "    return tf.sqrt(tf.reduce_mean((y_pred - y_true) ** 2))"
   ]
  },
  {
   "cell_type": "code",
   "execution_count": 10,
   "metadata": {},
   "outputs": [
    {
     "name": "stdout",
     "output_type": "stream",
     "text": [
      "Here is our DNN architecture so far:\n",
      "\n",
      "WARNING:tensorflow:From /opt/conda/lib/python3.7/site-packages/tensorflow_core/python/feature_column/feature_column_v2.py:4267: IndicatorColumn._variable_shape (from tensorflow.python.feature_column.feature_column_v2) is deprecated and will be removed in a future version.\n",
      "Instructions for updating:\n",
      "The old _FeatureColumn APIs are being deprecated. Please use the new FeatureColumn APIs instead.\n",
      "WARNING:tensorflow:From /opt/conda/lib/python3.7/site-packages/tensorflow_core/python/feature_column/feature_column_v2.py:4322: VocabularyListCategoricalColumn._num_buckets (from tensorflow.python.feature_column.feature_column_v2) is deprecated and will be removed in a future version.\n",
      "Instructions for updating:\n",
      "The old _FeatureColumn APIs are being deprecated. Please use the new FeatureColumn APIs instead.\n",
      "WARNING:tensorflow:From /opt/conda/lib/python3.7/site-packages/tensorflow_core/python/feature_column/feature_column_v2.py:4322: HashedCategoricalColumn._num_buckets (from tensorflow.python.feature_column.feature_column_v2) is deprecated and will be removed in a future version.\n",
      "Instructions for updating:\n",
      "The old _FeatureColumn APIs are being deprecated. Please use the new FeatureColumn APIs instead.\n",
      "Model: \"model\"\n",
      "__________________________________________________________________________________________________\n",
      "Layer (type)                    Output Shape         Param #     Connected to                     \n",
      "==================================================================================================\n",
      "gestation_weeks (InputLayer)    [(None,)]            0                                            \n",
      "__________________________________________________________________________________________________\n",
      "is_male (InputLayer)            [(None,)]            0                                            \n",
      "__________________________________________________________________________________________________\n",
      "mother_age (InputLayer)         [(None,)]            0                                            \n",
      "__________________________________________________________________________________________________\n",
      "mother_race (InputLayer)        [(None,)]            0                                            \n",
      "__________________________________________________________________________________________________\n",
      "plurality (InputLayer)          [(None,)]            0                                            \n",
      "__________________________________________________________________________________________________\n",
      "dense_features (DenseFeatures)  (None, 30)           36          gestation_weeks[0][0]            \n",
      "                                                                 is_male[0][0]                    \n",
      "                                                                 mother_age[0][0]                 \n",
      "                                                                 mother_race[0][0]                \n",
      "                                                                 plurality[0][0]                  \n",
      "__________________________________________________________________________________________________\n",
      "h1 (Dense)                      (None, 64)           1984        dense_features[0][0]             \n",
      "__________________________________________________________________________________________________\n",
      "h2 (Dense)                      (None, 32)           2080        h1[0][0]                         \n",
      "__________________________________________________________________________________________________\n",
      "weight (Dense)                  (None, 1)            33          h2[0][0]                         \n",
      "==================================================================================================\n",
      "Total params: 4,133\n",
      "Trainable params: 4,133\n",
      "Non-trainable params: 0\n",
      "__________________________________________________________________________________________________\n",
      "None\n"
     ]
    }
   ],
   "source": [
    "def build_dnn_model():\n",
    "    \"\"\"Builds simple DNN using Keras Functional API.\n",
    "\n",
    "    Returns:\n",
    "        `tf.keras.models.Model` object.\n",
    "    \"\"\"\n",
    "    # Create input layer\n",
    "    inputs = create_input_layers()\n",
    "\n",
    "    # Create feature columns\n",
    "    feature_columns = create_feature_columns()\n",
    "\n",
    "    # The constructor for DenseFeatures takes a list of numeric columns\n",
    "    # The Functional API in Keras requires: LayerConstructor()(inputs)\n",
    "    dnn_inputs = layers.DenseFeatures(\n",
    "        feature_columns=feature_columns.values())(inputs)\n",
    "\n",
    "    # Get output of model given inputs\n",
    "    output = get_model_outputs(dnn_inputs)\n",
    "\n",
    "    # Build model and compile it all together\n",
    "    model = tf.keras.models.Model(inputs=inputs, outputs=output)\n",
    "    model.compile(optimizer=\"adam\", loss=\"mse\", metrics=[rmse, \"mse\"])\n",
    "\n",
    "    return model\n",
    "\n",
    "print(\"Here is our DNN architecture so far:\\n\")\n",
    "model = build_dnn_model()\n",
    "print(model.summary())"
   ]
  },
  {
   "cell_type": "markdown",
   "metadata": {},
   "source": [
    "## Overfit on a batch"
   ]
  },
  {
   "cell_type": "markdown",
   "metadata": {},
   "source": [
    "We can inspect our `tf.data` input pipeline. The code below will take a single batch of `trainds` and print the features and labels in that batch. Note that each time you execute the cell below you get another batch of data. This is becuase the Dataset takes a new batch each time. "
   ]
  },
  {
   "cell_type": "code",
   "execution_count": 11,
   "metadata": {},
   "outputs": [
    {
     "name": "stdout",
     "output_type": "stream",
     "text": [
      "'babyweight': [ 7.572879   6.3052206  8.873606   5.626197   6.812284  10.24929\n",
      "  8.562755   5.3131404  9.748841   7.438397   8.2056055  6.823307\n",
      "  6.68662    6.9996767  8.501025   6.68662    7.561856   6.062712\n",
      "  7.627994   8.249698   6.9996767  9.499719   7.804364   6.83433\n",
      "  8.126239   7.312733   4.5635686  9.590109   6.790238   7.1253405\n",
      "  5.5799     8.501025 ]\n",
      "features:\n",
      "  'is_male'           : [b'True' b'False' b'True' b'False' b'True' b'True' b'True' b'True'\n",
      " b'False' b'False' b'True' b'False' b'True' b'True' b'False' b'False'\n",
      " b'False' b'True' b'True' b'False' b'False' b'True' b'True' b'True'\n",
      " b'True' b'False' b'True' b'False' b'False' b'True' b'False' b'True']\n",
      "  'mother_age'        : [18. 16. 18. 17. 16. 18. 17. 17. 15. 17. 15. 17. 17. 17. 15. 14. 16. 17.\n",
      " 15. 17. 14. 17. 17. 14. 16. 17. 17. 17. 18. 17. 16. 17.]\n",
      "  'plurality'         : [b'Single(1)' b'Single(1)' b'Single(1)' b'Single(1)' b'Single(1)'\n",
      " b'Single(1)' b'Single(1)' b'Single(1)' b'Single(1)' b'Single(1)'\n",
      " b'Single(1)' b'Single(1)' b'Single(1)' b'Single(1)' b'Single(1)'\n",
      " b'Single(1)' b'Single(1)' b'Single(1)' b'Single(1)' b'Single(1)'\n",
      " b'Single(1)' b'Single(1)' b'Single(1)' b'Single(1)' b'Single(1)'\n",
      " b'Single(1)' b'Single(1)' b'Single(1)' b'Single(1)' b'Single(1)'\n",
      " b'Single(1)' b'Single(1)']\n",
      "  'gestation_weeks'   : [40. 38. 37. 37. 39. 40. 42. 33. 46. 40. 30. 36. 37. 41. 40. 38. 35. 38.\n",
      " 41. 39. 40. 42. 41. 41. 39. 38. 39. 40. 38. 40. 37. 40.]\n",
      "  'mother_race'       : [b'null' b'null' b'1.0' b'1.0' b'1.0' b'null' b'1.0' b'2.0' b'null'\n",
      " b'null' b'1.0' b'null' b'2.0' b'1.0' b'1.0' b'2.0' b'2.0' b'1.0' b'1.0'\n",
      " b'1.0' b'1.0' b'1.0' b'1.0' b'2.0' b'2.0' b'1.0' b'1.0' b'3.0' b'1.0'\n",
      " b'1.0' b'null' b'2.0']\n"
     ]
    }
   ],
   "source": [
    "for feature_batch, label_batch in trainds.take(1):\n",
    "    print(\"'babyweight': {}\".format(label_batch))\n",
    "    print(\"features:\")\n",
    "    for key, value in feature_batch.items():\n",
    "      print(\"  {!r:20s}: {}\".format(key, value))"
   ]
  },
  {
   "cell_type": "markdown",
   "metadata": {},
   "source": [
    "To train on a single batch, we'll pull one batch from the `tf.data` pipeline and create a new Dataset. "
   ]
  },
  {
   "cell_type": "code",
   "execution_count": 12,
   "metadata": {},
   "outputs": [],
   "source": [
    "single_batch = tf.data.Dataset.from_tensor_slices((feature_batch, label_batch)).batch(TRAIN_BATCH_SIZE)"
   ]
  },
  {
   "cell_type": "markdown",
   "metadata": {},
   "source": [
    "As before we can inspect the elements of this dataset. Note now, however, that if you execute this cell more than once, you still get the same batch of data. \n",
    "This is what we want to train on to overfit on a batch. "
   ]
  },
  {
   "cell_type": "code",
   "execution_count": 13,
   "metadata": {},
   "outputs": [
    {
     "name": "stdout",
     "output_type": "stream",
     "text": [
      "(OrderedDict([('is_male', <tf.Tensor: shape=(32,), dtype=string, numpy=\n",
      "array([b'True', b'False', b'True', b'False', b'True', b'True', b'True',\n",
      "       b'True', b'False', b'False', b'True', b'False', b'True', b'True',\n",
      "       b'False', b'False', b'False', b'True', b'True', b'False', b'False',\n",
      "       b'True', b'True', b'True', b'True', b'False', b'True', b'False',\n",
      "       b'False', b'True', b'False', b'True'], dtype=object)>), ('mother_age', <tf.Tensor: shape=(32,), dtype=float32, numpy=\n",
      "array([18., 16., 18., 17., 16., 18., 17., 17., 15., 17., 15., 17., 17.,\n",
      "       17., 15., 14., 16., 17., 15., 17., 14., 17., 17., 14., 16., 17.,\n",
      "       17., 17., 18., 17., 16., 17.], dtype=float32)>), ('plurality', <tf.Tensor: shape=(32,), dtype=string, numpy=\n",
      "array([b'Single(1)', b'Single(1)', b'Single(1)', b'Single(1)',\n",
      "       b'Single(1)', b'Single(1)', b'Single(1)', b'Single(1)',\n",
      "       b'Single(1)', b'Single(1)', b'Single(1)', b'Single(1)',\n",
      "       b'Single(1)', b'Single(1)', b'Single(1)', b'Single(1)',\n",
      "       b'Single(1)', b'Single(1)', b'Single(1)', b'Single(1)',\n",
      "       b'Single(1)', b'Single(1)', b'Single(1)', b'Single(1)',\n",
      "       b'Single(1)', b'Single(1)', b'Single(1)', b'Single(1)',\n",
      "       b'Single(1)', b'Single(1)', b'Single(1)', b'Single(1)'],\n",
      "      dtype=object)>), ('gestation_weeks', <tf.Tensor: shape=(32,), dtype=float32, numpy=\n",
      "array([40., 38., 37., 37., 39., 40., 42., 33., 46., 40., 30., 36., 37.,\n",
      "       41., 40., 38., 35., 38., 41., 39., 40., 42., 41., 41., 39., 38.,\n",
      "       39., 40., 38., 40., 37., 40.], dtype=float32)>), ('mother_race', <tf.Tensor: shape=(32,), dtype=string, numpy=\n",
      "array([b'null', b'null', b'1.0', b'1.0', b'1.0', b'null', b'1.0', b'2.0',\n",
      "       b'null', b'null', b'1.0', b'null', b'2.0', b'1.0', b'1.0', b'2.0',\n",
      "       b'2.0', b'1.0', b'1.0', b'1.0', b'1.0', b'1.0', b'1.0', b'2.0',\n",
      "       b'2.0', b'1.0', b'1.0', b'3.0', b'1.0', b'1.0', b'null', b'2.0'],\n",
      "      dtype=object)>)]), <tf.Tensor: shape=(32,), dtype=float32, numpy=\n",
      "array([ 7.572879 ,  6.3052206,  8.873606 ,  5.626197 ,  6.812284 ,\n",
      "       10.24929  ,  8.562755 ,  5.3131404,  9.748841 ,  7.438397 ,\n",
      "        8.2056055,  6.823307 ,  6.68662  ,  6.9996767,  8.501025 ,\n",
      "        6.68662  ,  7.561856 ,  6.062712 ,  7.627994 ,  8.249698 ,\n",
      "        6.9996767,  9.499719 ,  7.804364 ,  6.83433  ,  8.126239 ,\n",
      "        7.312733 ,  4.5635686,  9.590109 ,  6.790238 ,  7.1253405,\n",
      "        5.5799   ,  8.501025 ], dtype=float32)>)\n"
     ]
    }
   ],
   "source": [
    "for dict_slice in single_batch:\n",
    "    print(dict_slice)"
   ]
  },
  {
   "cell_type": "markdown",
   "metadata": {},
   "source": [
    "Now we'll train on that single batch. We'll use the full validation set for evaluation. "
   ]
  },
  {
   "cell_type": "code",
   "execution_count": 14,
   "metadata": {},
   "outputs": [],
   "source": [
    "evalds = load_dataset(\n",
    "    pattern=\"./data/babyweight_eval*\",\n",
    "    batch_size=1000,\n",
    "    mode=tf.estimator.ModeKeys.EVAL).take(50)\n",
    "\n",
    "history = model.fit(single_batch,\n",
    "                    validation_data=evalds,\n",
    "                    epochs=20,\n",
    "                    verbose=0)"
   ]
  },
  {
   "cell_type": "code",
   "execution_count": 15,
   "metadata": {},
   "outputs": [],
   "source": [
    "def plot_curves(history, metrics):\n",
    "    nrows = 1\n",
    "    ncols = 2\n",
    "    fig = plt.figure(figsize=(10, 5))\n",
    "\n",
    "    for idx, key in enumerate(metrics):  \n",
    "        ax = fig.add_subplot(nrows, ncols, idx+1)\n",
    "        plt.plot(history.history[key])\n",
    "        plt.plot(history.history['val_{}'.format(key)])\n",
    "        plt.title('model {}'.format(key))\n",
    "        plt.ylabel(key)\n",
    "        plt.xlabel('epoch')\n",
    "        plt.legend(['train', 'validation'], loc='upper left');"
   ]
  },
  {
   "cell_type": "code",
   "execution_count": 17,
   "metadata": {},
   "outputs": [
    {
     "data": {
      "image/png": "[encoded data removed]",
      "text/plain": [
       "<Figure size 720x360 with 1 Axes>"
      ]
     },
     "metadata": {
      "needs_background": "light"
     },
     "output_type": "display_data"
    }
   ],
   "source": [
    "plot_curves(history, ['loss'])"
   ]
  },
  {
   "cell_type": "markdown",
   "metadata": {},
   "source": [
    "The train and validation loss curves show behavior typical of overfitting. The gap between training and validation loss increases with successive epochs. "
   ]
  },
  {
   "cell_type": "markdown",
   "metadata": {},
   "source": [
    "Copyright 2020 Google Inc. Licensed under the Apache License, Version 2.0 (the \"License\"); you may not use this file except in compliance with the License. You may obtain a copy of the License at http://www.apache.org/licenses/LICENSE-2.0 Unless required by applicable law or agreed to in writing, software distributed under the License is distributed on an \"AS IS\" BASIS, WITHOUT WARRANTIES OR CONDITIONS OF ANY KIND, either express or implied. See the License for the specific language governing permissions and limitations under the License"
   ]
  }
 ],
 "metadata": {
  "kernelspec": {
   "display_name": "Python 3",
   "language": "python",
   "name": "python3"
  },
  "language_info": {
   "codemirror_mode": {
    "name": "ipython",
    "version": 3
   },
   "file_extension": ".py",
   "mimetype": "text/x-python",
   "name": "python",
   "nbconvert_exporter": "python",
   "pygments_lexer": "ipython3",
   "version": "3.7.6"
  }
 },
 "nbformat": 4,
 "nbformat_minor": 4
}
