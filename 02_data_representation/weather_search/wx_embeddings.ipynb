{
 "cells": [
  {
   "cell_type": "markdown",
   "metadata": {},
   "source": [
    "## Embeddings for Weather Data\n",
    "\n",
    "An embedding is a low-dimensional, vector representation of a (typically) high-dimensional feature which maintains the semantic meaning of the feature in a such a way that similar features are close in the embedding space.\n",
    "\n",
    "In this notebook, we use autoencoders to create embeddings for HRRR images. We can then use the embeddings to search for \"similar\" weather patterns."
   ]
  },
  {
   "cell_type": "code",
   "execution_count": 1,
   "metadata": {},
   "outputs": [
    {
     "name": "stdout",
     "output_type": "stream",
     "text": [
      "Reading package lists...\n",
      "Building dependency tree...\n",
      "Reading state information...\n",
      "libeccodes0 is already the newest version (2.0.2-5).\n",
      "0 upgraded, 0 newly installed, 0 to remove and 1 not upgraded.\n"
     ]
    }
   ],
   "source": [
    "!sudo apt-get -y --quiet install libeccodes0"
   ]
  },
  {
   "cell_type": "code",
   "execution_count": 2,
   "metadata": {},
   "outputs": [
    {
     "name": "stdout",
     "output_type": "stream",
     "text": [
      "Note: you may need to restart the kernel to use updated packages.\n"
     ]
    }
   ],
   "source": [
    "%pip install -q cfgrib xarray pydot"
   ]
  },
  {
   "cell_type": "code",
   "execution_count": 1,
   "metadata": {},
   "outputs": [
    {
     "name": "stdout",
     "output_type": "stream",
     "text": [
      "2.23.0\n"
     ]
    }
   ],
   "source": [
    "import apache_beam as beam\n",
    "print(beam.__version__)"
   ]
  },
  {
   "cell_type": "code",
   "execution_count": 4,
   "metadata": {},
   "outputs": [],
   "source": [
    "PROJECT='ai-analytics-solutions'\n",
    "BUCKET='{}-kfpdemo'.format(PROJECT)"
   ]
  },
  {
   "cell_type": "markdown",
   "metadata": {},
   "source": [
    "### Reading HRRR data and converting to TensorFlow Records\n",
    "\n",
    "HRRR data comes in a Grib2 files on Cloud Storage."
   ]
  },
  {
   "cell_type": "code",
   "execution_count": 2,
   "metadata": {},
   "outputs": [
    {
     "name": "stdout",
     "output_type": "stream",
     "text": [
      " 105624174  2020-08-11T00:51:01Z  gs://high-resolution-rapid-refresh/hrrr.20200811/conus/hrrr.t00z.wrfsfcf00.grib2\n",
      "      7842  2020-08-11T00:50:39Z  gs://high-resolution-rapid-refresh/hrrr.20200811/conus/hrrr.t00z.wrfsfcf00.grib2.idx\n",
      " 104905515  2020-08-11T01:49:31Z  gs://high-resolution-rapid-refresh/hrrr.20200811/conus/hrrr.t01z.wrfsfcf00.grib2\n",
      "      7842  2020-08-11T01:49:04Z  gs://high-resolution-rapid-refresh/hrrr.20200811/conus/hrrr.t01z.wrfsfcf00.grib2.idx\n",
      " 101942347  2020-08-11T02:48:01Z  gs://high-resolution-rapid-refresh/hrrr.20200811/conus/hrrr.t02z.wrfsfcf00.grib2\n",
      "      7840  2020-08-11T02:47:33Z  gs://high-resolution-rapid-refresh/hrrr.20200811/conus/hrrr.t02z.wrfsfcf00.grib2.idx\n",
      " 101412287  2020-08-11T03:52:23Z  gs://high-resolution-rapid-refresh/hrrr.20200811/conus/hrrr.t03z.wrfsfcf00.grib2\n",
      "      7839  2020-08-11T03:51:52Z  gs://high-resolution-rapid-refresh/hrrr.20200811/conus/hrrr.t03z.wrfsfcf00.grib2.idx\n",
      " 101204218  2020-08-11T04:50:36Z  gs://high-resolution-rapid-refresh/hrrr.20200811/conus/hrrr.t04z.wrfsfcf00.grib2\n",
      "      7838  2020-08-11T04:50:07Z  gs://high-resolution-rapid-refresh/hrrr.20200811/conus/hrrr.t04z.wrfsfcf00.grib2.idx\n",
      " 101573630  2020-08-11T05:54:28Z  gs://high-resolution-rapid-refresh/hrrr.20200811/conus/hrrr.t05z.wrfsfcf00.grib2\n",
      "      7839  2020-08-11T05:54:01Z  gs://high-resolution-rapid-refresh/hrrr.20200811/conus/hrrr.t05z.wrfsfcf00.grib2.idx\n",
      " 102636945  2020-08-11T06:53:42Z  gs://high-resolution-rapid-refresh/hrrr.20200811/conus/hrrr.t06z.wrfsfcf00.grib2\n",
      "      7839  2020-08-11T06:47:39Z  gs://high-resolution-rapid-refresh/hrrr.20200811/conus/hrrr.t06z.wrfsfcf00.grib2.idx\n",
      " 101907059  2020-08-11T07:52:20Z  gs://high-resolution-rapid-refresh/hrrr.20200811/conus/hrrr.t07z.wrfsfcf00.grib2\n",
      "      7839  2020-08-11T07:51:50Z  gs://high-resolution-rapid-refresh/hrrr.20200811/conus/hrrr.t07z.wrfsfcf00.grib2.idx\n",
      " 101909124  2020-08-11T08:51:15Z  gs://high-resolution-rapid-refresh/hrrr.20200811/conus/hrrr.t08z.wrfsfcf00.grib2\n",
      "      7839  2020-08-11T08:50:52Z  gs://high-resolution-rapid-refresh/hrrr.20200811/conus/hrrr.t08z.wrfsfcf00.grib2.idx\n",
      " 102567353  2020-08-11T09:56:20Z  gs://high-resolution-rapid-refresh/hrrr.20200811/conus/hrrr.t09z.wrfsfcf00.grib2\n",
      "      7839  2020-08-11T09:50:29Z  gs://high-resolution-rapid-refresh/hrrr.20200811/conus/hrrr.t09z.wrfsfcf00.grib2.idx\n",
      " 100927733  2020-08-11T10:50:18Z  gs://high-resolution-rapid-refresh/hrrr.20200811/conus/hrrr.t10z.wrfsfcf00.grib2\n",
      "      7838  2020-08-11T10:49:52Z  gs://high-resolution-rapid-refresh/hrrr.20200811/conus/hrrr.t10z.wrfsfcf00.grib2.idx\n",
      " 102314449  2020-08-11T11:49:59Z  gs://high-resolution-rapid-refresh/hrrr.20200811/conus/hrrr.t11z.wrfsfcf00.grib2\n",
      "      7839  2020-08-11T11:49:32Z  gs://high-resolution-rapid-refresh/hrrr.20200811/conus/hrrr.t11z.wrfsfcf00.grib2.idx\n",
      " 104575946  2020-08-11T12:50:16Z  gs://high-resolution-rapid-refresh/hrrr.20200811/conus/hrrr.t12z.wrfsfcf00.grib2\n",
      "      7841  2020-08-11T12:49:49Z  gs://high-resolution-rapid-refresh/hrrr.20200811/conus/hrrr.t12z.wrfsfcf00.grib2.idx\n",
      " 106005676  2020-08-11T13:49:59Z  gs://high-resolution-rapid-refresh/hrrr.20200811/conus/hrrr.t13z.wrfsfcf00.grib2\n",
      "      7844  2020-08-11T13:49:29Z  gs://high-resolution-rapid-refresh/hrrr.20200811/conus/hrrr.t13z.wrfsfcf00.grib2.idx\n",
      " 107519378  2020-08-11T14:49:51Z  gs://high-resolution-rapid-refresh/hrrr.20200811/conus/hrrr.t14z.wrfsfcf00.grib2\n",
      "      7845  2020-08-11T14:49:22Z  gs://high-resolution-rapid-refresh/hrrr.20200811/conus/hrrr.t14z.wrfsfcf00.grib2.idx\n",
      " 107689362  2020-08-11T15:49:56Z  gs://high-resolution-rapid-refresh/hrrr.20200811/conus/hrrr.t15z.wrfsfcf00.grib2\n",
      "      7845  2020-08-11T15:54:58Z  gs://high-resolution-rapid-refresh/hrrr.20200811/conus/hrrr.t15z.wrfsfcf00.grib2.idx\n",
      " 105920144  2020-08-11T17:01:23Z  gs://high-resolution-rapid-refresh/hrrr.20200811/conus/hrrr.t16z.wrfsfcf00.grib2\n",
      "      7844  2020-08-11T17:00:54Z  gs://high-resolution-rapid-refresh/hrrr.20200811/conus/hrrr.t16z.wrfsfcf00.grib2.idx\n",
      " 106212316  2020-08-11T17:56:26Z  gs://high-resolution-rapid-refresh/hrrr.20200811/conus/hrrr.t17z.wrfsfcf00.grib2\n",
      "      7844  2020-08-11T17:55:59Z  gs://high-resolution-rapid-refresh/hrrr.20200811/conus/hrrr.t17z.wrfsfcf00.grib2.idx\n",
      " 106833160  2020-08-11T18:51:03Z  gs://high-resolution-rapid-refresh/hrrr.20200811/conus/hrrr.t18z.wrfsfcf00.grib2\n",
      "      7844  2020-08-11T18:50:33Z  gs://high-resolution-rapid-refresh/hrrr.20200811/conus/hrrr.t18z.wrfsfcf00.grib2.idx\n",
      " 109204759  2020-08-11T19:52:08Z  gs://high-resolution-rapid-refresh/hrrr.20200811/conus/hrrr.t19z.wrfsfcf00.grib2\n",
      "      7847  2020-08-11T19:51:38Z  gs://high-resolution-rapid-refresh/hrrr.20200811/conus/hrrr.t19z.wrfsfcf00.grib2.idx\n",
      " 110592176  2020-08-11T20:52:25Z  gs://high-resolution-rapid-refresh/hrrr.20200811/conus/hrrr.t20z.wrfsfcf00.grib2\n",
      "      7847  2020-08-11T20:51:53Z  gs://high-resolution-rapid-refresh/hrrr.20200811/conus/hrrr.t20z.wrfsfcf00.grib2.idx\n",
      " 112848898  2020-08-11T21:52:41Z  gs://high-resolution-rapid-refresh/hrrr.20200811/conus/hrrr.t21z.wrfsfcf00.grib2\n",
      "      7849  2020-08-11T21:52:05Z  gs://high-resolution-rapid-refresh/hrrr.20200811/conus/hrrr.t21z.wrfsfcf00.grib2.idx\n",
      " 111601558  2020-08-11T22:47:42Z  gs://high-resolution-rapid-refresh/hrrr.20200811/conus/hrrr.t22z.wrfsfcf00.grib2\n",
      "      7849  2020-08-11T22:52:37Z  gs://high-resolution-rapid-refresh/hrrr.20200811/conus/hrrr.t22z.wrfsfcf00.grib2.idx\n",
      " 111148344  2020-08-11T23:54:21Z  gs://high-resolution-rapid-refresh/hrrr.20200811/conus/hrrr.t23z.wrfsfcf00.grib2\n",
      "      7849  2020-08-11T23:53:53Z  gs://high-resolution-rapid-refresh/hrrr.20200811/conus/hrrr.t23z.wrfsfcf00.grib2.idx\n",
      "TOTAL: 48 objects, 2529264772 bytes (2.36 GiB)\n"
     ]
    }
   ],
   "source": [
    "!gsutil ls -l gs://high-resolution-rapid-refresh/hrrr.20200811/conus/hrrr.*.wrfsfcf00*"
   ]
  },
  {
   "cell_type": "code",
   "execution_count": 2,
   "metadata": {},
   "outputs": [
    {
     "name": "stdout",
     "output_type": "stream",
     "text": [
      " 128701013  2020-08-11T19:02:22Z  gs://high-resolution-rapid-refresh/hrrr.20200811/conus/hrrr.t18z.wrfsfcf06.grib2\n",
      "TOTAL: 1 objects, 128701013 bytes (122.74 MiB)\n"
     ]
    }
   ],
   "source": [
    "FILENAME=\"gs://high-resolution-rapid-refresh/hrrr.20200811/conus/hrrr.t18z.wrfsfcf06.grib2\"   # derecho in the Midwest\n",
    "!gsutil ls -l {FILENAME}"
   ]
  },
  {
   "cell_type": "code",
   "execution_count": null,
   "metadata": {},
   "outputs": [],
   "source": [
    "import xarray as xr\n",
    "import tensorflow as tf\n",
    "import tempfile\n",
    "import cfgrib\n",
    "\n",
    "with tempfile.TemporaryDirectory() as tmpdirname:\n",
    "    TMPFILE=\"{}/read_grib\".format(tmpdirname)\n",
    "    tf.io.gfile.copy(FILENAME, TMPFILE, overwrite=True)\n",
    "    ds = cfgrib.open_datasets(TMPFILE)\n",
    "    print(ds)"
   ]
  },
  {
   "cell_type": "markdown",
   "metadata": {},
   "source": [
    "We have to choose one of the following:\n",
    "```\n",
    "    filter_by_keys={'typeOfLevel': 'unknown'}\n",
    "    filter_by_keys={'typeOfLevel': 'cloudTop'}\n",
    "    filter_by_keys={'typeOfLevel': 'surface'}\n",
    "    filter_by_keys={'typeOfLevel': 'heightAboveGround'}\n",
    "    filter_by_keys={'typeOfLevel': 'isothermal'}\n",
    "    filter_by_keys={'typeOfLevel': 'isobaricInhPa'}\n",
    "    filter_by_keys={'typeOfLevel': 'pressureFromGroundLayer'}\n",
    "    filter_by_keys={'typeOfLevel': 'sigmaLayer'}\n",
    "    filter_by_keys={'typeOfLevel': 'meanSea'}\n",
    "    filter_by_keys={'typeOfLevel': 'heightAboveGroundLayer'}\n",
    "    filter_by_keys={'typeOfLevel': 'sigma'}\n",
    "    filter_by_keys={'typeOfLevel': 'depthBelowLand'}\n",
    "    filter_by_keys={'typeOfLevel': 'isobaricLayer'}\n",
    "    filter_by_keys={'typeOfLevel': 'cloudBase'}\n",
    "    filter_by_keys={'typeOfLevel': 'nominalTop'}\n",
    "    filter_by_keys={'typeOfLevel': 'isothermZero'}\n",
    "    filter_by_keys={'typeOfLevel': 'adiabaticCondensation'}\n",
    "```"
   ]
  },
  {
   "cell_type": "code",
   "execution_count": 5,
   "metadata": {},
   "outputs": [
    {
     "name": "stdout",
     "output_type": "stream",
     "text": [
      "[1059 1799]\n",
      "2020-08-11T18:00:00.000000000\n",
      "2020-08-12T00:00:00.000000000\n"
     ]
    },
    {
     "data": {
      "image/png": "[encoded data removed]",
      "text/plain": [
       "<Figure size 432x288 with 2 Axes>"
      ]
     },
     "metadata": {
      "needs_background": "light"
     },
     "output_type": "display_data"
    }
   ],
   "source": [
    "import xarray as xr\n",
    "import tensorflow as tf\n",
    "import tempfile\n",
    "import cfgrib\n",
    "import numpy as np\n",
    "\n",
    "refc = 0\n",
    "with tempfile.TemporaryDirectory() as tmpdirname:\n",
    "    TMPFILE=\"{}/read_grib\".format(tmpdirname)\n",
    "    tf.io.gfile.copy(FILENAME, TMPFILE, overwrite=True)\n",
    "    #ds = xr.open_dataset(TMPFILE, engine='cfgrib', backend_kwargs={'filter_by_keys': {'typeOfLevel': 'surface', 'stepType': 'instant'}})\n",
    "    #ds.data_vars['prate'].plot()  # crain, prate\n",
    "    ds = xr.open_dataset(TMPFILE, engine='cfgrib', backend_kwargs={'filter_by_keys': {'typeOfLevel': 'unknown', 'stepType': 'instant'}})\n",
    "    #ds = xr.open_dataset(TMPFILE, engine='cfgrib', backend_kwargs={'filter_by_keys': {'typeOfLevel': 'atmosphere', 'stepType': 'instant'}})\n",
    "    refc = ds.data_vars['refc']\n",
    "    refc.plot()\n",
    "    print(np.array([refc.sizes['y'], refc.sizes['x']]))\n",
    "    print(refc.time.data)\n",
    "    print(refc.valid_time.data)"
   ]
  },
  {
   "cell_type": "code",
   "execution_count": 6,
   "metadata": {},
   "outputs": [
    {
     "name": "stdout",
     "output_type": "stream",
     "text": [
      "2020-08-11T18:00:00\n"
     ]
    }
   ],
   "source": [
    "print(str(refc.time.data)[:19])"
   ]
  },
  {
   "cell_type": "code",
   "execution_count": 8,
   "metadata": {},
   "outputs": [
    {
     "name": "stdout",
     "output_type": "stream",
     "text": [
      "7620594 b'\\n\\xed\\x8f\\xd1\\x03\\n\\xe8\\x8f\\xd1\\x03\\n\\x03ref\\x12'\n"
     ]
    }
   ],
   "source": [
    "import numpy as np\n",
    "\n",
    "def _array_feature(value, min_value, max_value):\n",
    "    \"\"\"Wrapper for inserting ndarray float features into Example proto.\"\"\"\n",
    "    value = np.nan_to_num(value.flatten()) # nan, -inf, +inf to numbers\n",
    "    value = np.clip(value, min_value, max_value) # clip to valid\n",
    "    return tf.train.Feature(float_list=tf.train.FloatList(value=value))\n",
    "\n",
    "def create_tfrecord(filename):\n",
    "    with tempfile.TemporaryDirectory() as tmpdirname:\n",
    "        TMPFILE=\"{}/read_grib\".format(tmpdirname)\n",
    "        tf.io.gfile.copy(filename, TMPFILE, overwrite=True)\n",
    "        ds = xr.open_dataset(TMPFILE, engine='cfgrib', backend_kwargs={'filter_by_keys': {'typeOfLevel': 'unknown', 'stepType': 'instant'}})\n",
    "   \n",
    "        # create a TF Record with the raw data\n",
    "        tfexample = tf.train.Example(\n",
    "            features=tf.train.Features(\n",
    "                feature={\n",
    "                    'ref': _array_feature(ds.data_vars['refc'].data, min_value=0, max_value=60),\n",
    "        }))\n",
    "        return tfexample.SerializeToString()\n",
    "\n",
    "s = create_tfrecord(FILENAME)\n",
    "print(len(s), s[:16])"
   ]
  },
  {
   "cell_type": "code",
   "execution_count": 9,
   "metadata": {},
   "outputs": [
    {
     "name": "stdout",
     "output_type": "stream",
     "text": [
      "['gs://high-resolution-rapid-refresh/hrrr.20190916/conus/hrrr.t09z.wrfsfcf00.grib2', 'gs://high-resolution-rapid-refresh/hrrr.20190915/conus/hrrr.t20z.wrfsfcf00.grib2', 'gs://high-resolution-rapid-refresh/hrrr.20190916/conus/hrrr.t00z.wrfsfcf00.grib2', 'gs://high-resolution-rapid-refresh/hrrr.20190916/conus/hrrr.t06z.wrfsfcf00.grib2', 'gs://high-resolution-rapid-refresh/hrrr.20190916/conus/hrrr.t17z.wrfsfcf00.grib2', 'gs://high-resolution-rapid-refresh/hrrr.20190916/conus/hrrr.t15z.wrfsfcf00.grib2', 'gs://high-resolution-rapid-refresh/hrrr.20190915/conus/hrrr.t22z.wrfsfcf00.grib2', 'gs://high-resolution-rapid-refresh/hrrr.20190916/conus/hrrr.t01z.wrfsfcf00.grib2', 'gs://high-resolution-rapid-refresh/hrrr.20190916/conus/hrrr.t03z.wrfsfcf00.grib2', 'gs://high-resolution-rapid-refresh/hrrr.20190915/conus/hrrr.t21z.wrfsfcf00.grib2', 'gs://high-resolution-rapid-refresh/hrrr.20190916/conus/hrrr.t02z.wrfsfcf00.grib2', 'gs://high-resolution-rapid-refresh/hrrr.20190916/conus/hrrr.t20z.wrfsfcf00.grib2', 'gs://high-resolution-rapid-refresh/hrrr.20190916/conus/hrrr.t18z.wrfsfcf00.grib2', 'gs://high-resolution-rapid-refresh/hrrr.20190916/conus/hrrr.t05z.wrfsfcf00.grib2', 'gs://high-resolution-rapid-refresh/hrrr.20190916/conus/hrrr.t08z.wrfsfcf00.grib2', 'gs://high-resolution-rapid-refresh/hrrr.20190916/conus/hrrr.t23z.wrfsfcf00.grib2', 'gs://high-resolution-rapid-refresh/hrrr.20190917/conus/hrrr.t00z.wrfsfcf00.grib2', 'gs://high-resolution-rapid-refresh/hrrr.20190915/conus/hrrr.t03z.wrfsfcf00.grib2', 'gs://high-resolution-rapid-refresh/hrrr.20190915/conus/hrrr.t09z.wrfsfcf00.grib2', 'gs://high-resolution-rapid-refresh/hrrr.20190916/conus/hrrr.t13z.wrfsfcf00.grib2', 'gs://high-resolution-rapid-refresh/hrrr.20190915/conus/hrrr.t12z.wrfsfcf00.grib2', 'gs://high-resolution-rapid-refresh/hrrr.20190915/conus/hrrr.t11z.wrfsfcf00.grib2', 'gs://high-resolution-rapid-refresh/hrrr.20190915/conus/hrrr.t01z.wrfsfcf00.grib2', 'gs://high-resolution-rapid-refresh/hrrr.20190916/conus/hrrr.t11z.wrfsfcf00.grib2', 'gs://high-resolution-rapid-refresh/hrrr.20190916/conus/hrrr.t04z.wrfsfcf00.grib2', 'gs://high-resolution-rapid-refresh/hrrr.20190916/conus/hrrr.t21z.wrfsfcf00.grib2', 'gs://high-resolution-rapid-refresh/hrrr.20190916/conus/hrrr.t16z.wrfsfcf00.grib2', 'gs://high-resolution-rapid-refresh/hrrr.20190915/conus/hrrr.t23z.wrfsfcf00.grib2', 'gs://high-resolution-rapid-refresh/hrrr.20190915/conus/hrrr.t06z.wrfsfcf00.grib2', 'gs://high-resolution-rapid-refresh/hrrr.20190915/conus/hrrr.t00z.wrfsfcf00.grib2', 'gs://high-resolution-rapid-refresh/hrrr.20190915/conus/hrrr.t15z.wrfsfcf00.grib2', 'gs://high-resolution-rapid-refresh/hrrr.20190915/conus/hrrr.t08z.wrfsfcf00.grib2', 'gs://high-resolution-rapid-refresh/hrrr.20190916/conus/hrrr.t12z.wrfsfcf00.grib2', 'gs://high-resolution-rapid-refresh/hrrr.20190915/conus/hrrr.t10z.wrfsfcf00.grib2', 'gs://high-resolution-rapid-refresh/hrrr.20190916/conus/hrrr.t10z.wrfsfcf00.grib2', 'gs://high-resolution-rapid-refresh/hrrr.20190916/conus/hrrr.t07z.wrfsfcf00.grib2', 'gs://high-resolution-rapid-refresh/hrrr.20190915/conus/hrrr.t18z.wrfsfcf00.grib2', 'gs://high-resolution-rapid-refresh/hrrr.20190916/conus/hrrr.t19z.wrfsfcf00.grib2', 'gs://high-resolution-rapid-refresh/hrrr.20190916/conus/hrrr.t22z.wrfsfcf00.grib2', 'gs://high-resolution-rapid-refresh/hrrr.20190915/conus/hrrr.t14z.wrfsfcf00.grib2', 'gs://high-resolution-rapid-refresh/hrrr.20190916/conus/hrrr.t14z.wrfsfcf00.grib2', 'gs://high-resolution-rapid-refresh/hrrr.20190915/conus/hrrr.t13z.wrfsfcf00.grib2', 'gs://high-resolution-rapid-refresh/hrrr.20190915/conus/hrrr.t02z.wrfsfcf00.grib2', 'gs://high-resolution-rapid-refresh/hrrr.20190915/conus/hrrr.t16z.wrfsfcf00.grib2', 'gs://high-resolution-rapid-refresh/hrrr.20190915/conus/hrrr.t17z.wrfsfcf00.grib2', 'gs://high-resolution-rapid-refresh/hrrr.20190915/conus/hrrr.t19z.wrfsfcf00.grib2', 'gs://high-resolution-rapid-refresh/hrrr.20190915/conus/hrrr.t07z.wrfsfcf00.grib2', 'gs://high-resolution-rapid-refresh/hrrr.20190915/conus/hrrr.t05z.wrfsfcf00.grib2', 'gs://high-resolution-rapid-refresh/hrrr.20190915/conus/hrrr.t04z.wrfsfcf00.grib2']\n"
     ]
    }
   ],
   "source": [
    "from datetime import datetime, timedelta\n",
    "def generate_filenames(startdate: str, enddate: str):\n",
    "    start_dt = datetime.strptime(startdate, '%Y%m%d')\n",
    "    end_dt = datetime.strptime(enddate, '%Y%m%d')\n",
    "    dt = start_dt\n",
    "    while dt <= end_dt:\n",
    "        # gs://high-resolution-rapid-refresh/hrrr.20200811/conus/hrrr.t04z.wrfsfcf00.grib2\n",
    "        f = '{}/hrrr.{:4}{:02}{:02}/conus/hrrr.t{:02}z.wrfsfcf00.grib2'.format(\n",
    "                'gs://high-resolution-rapid-refresh',\n",
    "                dt.year, dt.month, dt.day, dt.hour)\n",
    "        dt = dt + timedelta(hours=1)\n",
    "        yield f\n",
    "        \n",
    "def generate_shuffled_filenames(startdate: str, enddate: str):\n",
    "    \"\"\"\n",
    "    shuffle the files so that a batch of records doesn't contain highly correlated entries\n",
    "    \"\"\"\n",
    "    filenames = [f for f in generate_filenames(startdate, enddate)]\n",
    "    np.random.shuffle(filenames)\n",
    "    return filenames\n",
    "\n",
    "print(generate_shuffled_filenames('20190915', '20190917'))"
   ]
  },
  {
   "cell_type": "markdown",
   "metadata": {},
   "source": [
    "## Write a Beam pipeline"
   ]
  },
  {
   "cell_type": "code",
   "execution_count": null,
   "metadata": {},
   "outputs": [],
   "source": [
    "%run -m wxsearch.hrrr_to_tfrecord -- --startdate 20190915 --enddate 20190916  --outdir gs://{BUCKET}/wxsearch/data/2019 --project {PROJECT}\n",
    "# --outdir tmp"
   ]
  },
  {
   "cell_type": "markdown",
   "metadata": {},
   "source": [
    "## Read the written TF Records"
   ]
  },
  {
   "cell_type": "code",
   "execution_count": 6,
   "metadata": {},
   "outputs": [
    {
     "name": "stdout",
     "output_type": "stream",
     "text": [
      "{'ref': <tf.Tensor: shape=(1059, 1799), dtype=float32, numpy=\n",
      "array([[0., 0., 0., ..., 0., 0., 0.],\n",
      "       [0., 0., 0., ..., 0., 0., 0.],\n",
      "       [0., 0., 0., ..., 0., 0., 0.],\n",
      "       ...,\n",
      "       [0., 0., 0., ..., 0., 0., 0.],\n",
      "       [0., 0., 0., ..., 0., 0., 0.],\n",
      "       [0., 0., 0., ..., 0., 0., 0.]], dtype=float32)>, 'size': <tf.Tensor: shape=(2,), dtype=int64, numpy=array([1059, 1799])>, 'time': <tf.Tensor: shape=(), dtype=string, numpy=b'2019-06-06T03:00:00'>, 'valid_time': <tf.Tensor: shape=(), dtype=string, numpy=b'2019-06-06T03:00:00'>}\n"
     ]
    }
   ],
   "source": [
    "# try reading what was written out\n",
    "import tensorflow as tf\n",
    "\n",
    "def parse_tfrecord(example_data):\n",
    "    parsed = tf.io.parse_single_example(example_data, {\n",
    "        'size': tf.io.VarLenFeature(tf.int64),\n",
    "        'ref': tf.io.VarLenFeature(tf.float32),\n",
    "        'time': tf.io.FixedLenFeature([], tf.string),\n",
    "        'valid_time': tf.io.FixedLenFeature([], tf.string)\n",
    "     })\n",
    "    parsed['size'] = tf.sparse.to_dense(parsed['size'])\n",
    "    parsed['ref'] = tf.reshape(tf.sparse.to_dense(parsed['ref']), (1059, 1799))/60. # 0 to 1\n",
    "    return parsed\n",
    "\n",
    "def read_dataset(pattern):\n",
    "    filenames = tf.io.gfile.glob(pattern)\n",
    "    ds = tf.data.TFRecordDataset(filenames, compression_type=None, buffer_size=None, num_parallel_reads=None)\n",
    "    return ds.prefetch(tf.data.experimental.AUTOTUNE).map(parse_tfrecord)\n",
    "\n",
    "ds = read_dataset('gs://{}/wxsearch/data/2019/tfrecord-00000-*'.format(BUCKET))\n",
    "for refc in ds.take(1):\n",
    "    print(repr(refc))"
   ]
  },
  {
   "cell_type": "markdown",
   "metadata": {},
   "source": [
    "## Create autoencoder in Keras"
   ]
  },
  {
   "cell_type": "code",
   "execution_count": 117,
   "metadata": {},
   "outputs": [
    {
     "name": "stdout",
     "output_type": "stream",
     "text": [
      "50 969123\n",
      "Model: \"autoencoder\"\n",
      "_________________________________________________________________\n",
      "Layer (type)                 Output Shape              Param #   \n",
      "=================================================================\n",
      "refc_input (InputLayer)      [(None, 1059, 1799, 1)]   0         \n",
      "_________________________________________________________________\n",
      "cropped (Cropping2D)         (None, 1024, 1792, 1)     0         \n",
      "_________________________________________________________________\n",
      "encoder_conv_0 (Conv2D)      (None, 1024, 1792, 16)    272       \n",
      "_________________________________________________________________\n",
      "encoder_pool_0 (MaxPooling2D (None, 256, 448, 16)      0         \n",
      "_________________________________________________________________\n",
      "encoder_conv_1 (Conv2D)      (None, 256, 448, 32)      8224      \n",
      "_________________________________________________________________\n",
      "encoder_pool_1 (MaxPooling2D (None, 64, 112, 32)       0         \n",
      "_________________________________________________________________\n",
      "encoder_conv_2 (Conv2D)      (None, 64, 112, 64)       32832     \n",
      "_________________________________________________________________\n",
      "encoder_pool_2 (MaxPooling2D (None, 16, 28, 64)        0         \n",
      "_________________________________________________________________\n",
      "encoder_conv_3 (Conv2D)      (None, 16, 28, 128)       131200    \n",
      "_________________________________________________________________\n",
      "encoder_pool_3 (MaxPooling2D (None, 4, 7, 128)         0         \n",
      "_________________________________________________________________\n",
      "encoder_flatten (Flatten)    (None, 3584)              0         \n",
      "_________________________________________________________________\n",
      "refc_embedding (Dense)       (None, 50)                179250    \n",
      "_________________________________________________________________\n",
      "decoder_dense (Dense)        (None, 3584)              182784    \n",
      "_________________________________________________________________\n",
      "decoder_reshape (Reshape)    (None, 4, 7, 128)         0         \n",
      "_________________________________________________________________\n",
      "decoder_conv_0 (Conv2D)      (None, 4, 7, 128)         262272    \n",
      "_________________________________________________________________\n",
      "decoder_upsamp_0 (UpSampling (None, 16, 28, 128)       0         \n",
      "_________________________________________________________________\n",
      "decoder_conv_1 (Conv2D)      (None, 16, 28, 64)        131136    \n",
      "_________________________________________________________________\n",
      "decoder_upsamp_1 (UpSampling (None, 64, 112, 64)       0         \n",
      "_________________________________________________________________\n",
      "decoder_conv_2 (Conv2D)      (None, 64, 112, 32)       32800     \n",
      "_________________________________________________________________\n",
      "decoder_upsamp_2 (UpSampling (None, 256, 448, 32)      0         \n",
      "_________________________________________________________________\n",
      "decoder_conv_3 (Conv2D)      (None, 256, 448, 16)      8208      \n",
      "_________________________________________________________________\n",
      "decoder_upsamp_3 (UpSampling (None, 1024, 1792, 16)    0         \n",
      "_________________________________________________________________\n",
      "before_padding (Conv2D)      (None, 1024, 1792, 1)     145       \n",
      "_________________________________________________________________\n",
      "refc_reconstructed (ZeroPadd (None, 1059, 1799, 1)     0         \n",
      "=================================================================\n",
      "Total params: 969,123\n",
      "Trainable params: 969,123\n",
      "Non-trainable params: 0\n",
      "_________________________________________________________________\n"
     ]
    }
   ],
   "source": [
    "## A model without the intermediate Dense layer, so that end result is effectively tiled\n",
    "## We use more filters to represent the tiles\n",
    "\n",
    "import tensorflow as tf\n",
    "def create_model(nlayers=4, poolsize=4, numfilters=5, num_dense=0):\n",
    "    input_img = tf.keras.Input(shape=(1059, 1799, 1), name='refc_input')\n",
    "\n",
    "    x = tf.keras.layers.Cropping2D(cropping=((17, 18),(4, 3)), name='cropped')(input_img)\n",
    "    last_pool_layer = None\n",
    "    for layerno in range(nlayers):\n",
    "        x = tf.keras.layers.Conv2D(2**(layerno + numfilters), poolsize, activation='relu', padding='same', name='encoder_conv_{}'.format(layerno))(x)\n",
    "        last_pool_layer = tf.keras.layers.MaxPooling2D(poolsize, padding='same', name='encoder_pool_{}'.format(layerno))\n",
    "        x = last_pool_layer(x)\n",
    "    output_shape = last_pool_layer.output_shape[1:]\n",
    "    \n",
    "    if num_dense == 0:\n",
    "        # flatten to create the embedding\n",
    "        x = tf.keras.layers.Flatten(name='refc_embedding')(x)\n",
    "        embed_size = output_shape[0] * output_shape[1] * output_shape[2]\n",
    "        if embed_size > 1024:\n",
    "            print(\"Embedding size={} is too large\".format(embed_size))\n",
    "            return None, embed_size\n",
    "    else:\n",
    "        # flatten, send through dense layer to create the embedding\n",
    "        x = tf.keras.layers.Flatten(name='encoder_flatten')(x)\n",
    "        x = tf.keras.layers.Dense(num_dense, name='refc_embedding')(x)\n",
    "        x = tf.keras.layers.Dense(output_shape[0] * output_shape[1] * output_shape[2], name='decoder_dense')(x)\n",
    "        embed_size = num_dense\n",
    "        \n",
    "    x = tf.keras.layers.Reshape(output_shape, name='decoder_reshape')(x)\n",
    "    for layerno in range(nlayers):\n",
    "        x = tf.keras.layers.Conv2D(2**(nlayers-layerno-1 + numfilters), poolsize, activation='relu', padding='same', name='decoder_conv_{}'.format(layerno))(x)\n",
    "        x = tf.keras.layers.UpSampling2D(poolsize, name='decoder_upsamp_{}'.format(layerno))(x)\n",
    "    before_padding_layer = tf.keras.layers.Conv2D(1, 3, activation='relu', padding='same', name='before_padding')\n",
    "    x = before_padding_layer(x)\n",
    "    htdiff = 1059 - before_padding_layer.output_shape[1]\n",
    "    wddiff = 1799 - before_padding_layer.output_shape[2]\n",
    "    if htdiff < 0 or wddiff < 0:\n",
    "        print(\"Invalid architecture: htdiff={} wddiff={}\".format(htdiff, wddiff))\n",
    "        return None, 9999\n",
    "    decoded = tf.keras.layers.ZeroPadding2D(padding=((htdiff//2,htdiff - htdiff//2),\n",
    "                                                     (wddiff//2,wddiff - wddiff//2)), name='refc_reconstructed')(x)\n",
    "\n",
    "    autoencoder = tf.keras.Model(input_img, decoded, name='autoencoder')\n",
    "    autoencoder.compile(optimizer='adam', loss=tf.keras.losses.LogCosh()) #loss='mse')\n",
    "    if autoencoder.count_params() > 1000*1000: # 1 million      \n",
    "        print(\"Autoencoder too large: {} params\".format(autoencoder.count_params()))\n",
    "        return None, autoencoder.count_params()\n",
    "    \n",
    "    return autoencoder, embed_size\n",
    "\n",
    "autoencoder, sz = create_model(4, 4, 4, 50)\n",
    "if autoencoder:\n",
    "    print(sz, autoencoder.count_params())\n",
    "    autoencoder.summary()"
   ]
  },
  {
   "cell_type": "markdown",
   "metadata": {},
   "source": [
    "## Train the autoencoder"
   ]
  },
  {
   "cell_type": "code",
   "execution_count": null,
   "metadata": {},
   "outputs": [],
   "source": [
    "def input_and_label(rec):\n",
    "    return rec['ref'], rec['ref']\n",
    "\n",
    "ds = read_dataset('gs://{}/wxsearch/data/2019/tfrecord-00000-*'.format(BUCKET)).map(input_and_label).batch(2).repeat()\n",
    "checkpoint = tf.keras.callbacks.ModelCheckpoint('tmp/checkpoints')\n",
    "history = autoencoder.fit(ds, steps_per_epoch=1, epochs=3, shuffle=True, callbacks=[checkpoint])\n",
    "print(history)"
   ]
  },
  {
   "cell_type": "code",
   "execution_count": null,
   "metadata": {},
   "outputs": [],
   "source": [
    "autoencoder.save('tmp/savedmodel')"
   ]
  },
  {
   "cell_type": "code",
   "execution_count": null,
   "metadata": {},
   "outputs": [],
   "source": [
    "from matplotlib import pyplot as plt\n",
    "plt.plot(history.history['loss']);"
   ]
  },
  {
   "cell_type": "code",
   "execution_count": null,
   "metadata": {},
   "outputs": [],
   "source": [
    "%run -m wxsearch.train_autoencoder -- --input gs://{BUCKET}/wxsearch/data/2019/tfrecord-00000-*  --outdir gs://{BUCKET}/wxsearch/trained --project {PROJECT}"
   ]
  },
  {
   "cell_type": "markdown",
   "metadata": {},
   "source": [
    "## Run at scale"
   ]
  },
  {
   "cell_type": "code",
   "execution_count": null,
   "metadata": {},
   "outputs": [],
   "source": [
    "%run -m wxsearch.hrrr_to_tfrecord -- --startdate 20190101 --enddate 20200101  --outdir gs://{BUCKET}/wxsearch/data/2019 --project {PROJECT}"
   ]
  },
  {
   "cell_type": "markdown",
   "metadata": {},
   "source": [
    "<img src=\"dataflow_2019.png\" />"
   ]
  },
  {
   "cell_type": "code",
   "execution_count": 5,
   "metadata": {},
   "outputs": [
    {
     "name": "stdout",
     "output_type": "stream",
     "text": [
      "Overwriting train.yaml\n"
     ]
    }
   ],
   "source": [
    "%%writefile train.yaml\n",
    "trainingInput:\n",
    "  scaleTier: CUSTOM\n",
    "  masterType: n1-highmem-2\n",
    "  masterConfig:\n",
    "    acceleratorConfig:\n",
    "      count: 2\n",
    "      type: NVIDIA_TESLA_K80\n",
    "  runtimeVersion: '2.2'\n",
    "  pythonVersion: '3.7'\n",
    "  scheduling:\n",
    "    maxWaitTime: 3600s"
   ]
  },
  {
   "cell_type": "code",
   "execution_count": 1,
   "metadata": {},
   "outputs": [
    {
     "name": "stdout",
     "output_type": "stream",
     "text": [
      "ai-analytics-solutions\n",
      "jobId: wxsearch_20201009_010505\n",
      "state: QUEUED\n"
     ]
    },
    {
     "name": "stderr",
     "output_type": "stream",
     "text": [
      "Job [wxsearch_20201009_010505] submitted successfully.\n",
      "Your job is still active. You may view the status of your job with the command\n",
      "\n",
      "  $ gcloud ai-platform jobs describe wxsearch_20201009_010505\n",
      "\n",
      "or continue streaming the logs with the command\n",
      "\n",
      "  $ gcloud ai-platform jobs stream-logs wxsearch_20201009_010505\n"
     ]
    }
   ],
   "source": [
    "%%bash\n",
    "\n",
    "PROJECT=$(gcloud config get-value project)\n",
    "echo ${PROJECT}\n",
    "BUCKET=\"ai-analytics-solutions-kfpdemo\"\n",
    "PACKAGE_PATH=\"${PWD}/wxsearch\"\n",
    "now=$(date +\"%Y%m%d_%H%M%S\")\n",
    "JOB_NAME=\"wxsearch_$now\"\n",
    "MODULE_NAME=\"wxsearch.train_autoencoder\"\n",
    "JOB_DIR=\"gs://${BUCKET}/wxsearch/train/jobdir\"\n",
    "REGION=\"us-central1\"\n",
    "\n",
    "# 9000 images in dataset\n",
    "gcloud ai-platform jobs submit training $JOB_NAME \\\n",
    "        --package-path $PACKAGE_PATH \\\n",
    "        --module-name $MODULE_NAME \\\n",
    "        --job-dir $JOB_DIR \\\n",
    "        --region $REGION \\\n",
    "        --config train.yaml \\\n",
    "        -- \\\n",
    "        --input gs://${BUCKET}/wxsearch/data/2019/tfrecord-* \\\n",
    "        --outdir gs://${BUCKET}/wxsearch/trained \\\n",
    "        --project ${PROJECT} \\\n",
    "        --batch_size 4 --num_steps 10000 --num_checkpoints 10"
   ]
  },
  {
   "cell_type": "markdown",
   "metadata": {},
   "source": [
    "## Try out the autoencoder\n",
    "\n",
    "Load the Keras model, and try out the autoencoder functionality."
   ]
  },
  {
   "cell_type": "code",
   "execution_count": 1,
   "metadata": {},
   "outputs": [],
   "source": [
    "import tensorflow as tf\n",
    "model = tf.keras.models.load_model('gs://ai-analytics-solutions-kfpdemo/wxsearch/trained/savedmodel')"
   ]
  },
  {
   "cell_type": "code",
   "execution_count": 2,
   "metadata": {},
   "outputs": [
    {
     "name": "stdout",
     "output_type": "stream",
     "text": [
      "Model: \"embedder\"\n",
      "_________________________________________________________________\n",
      "Layer (type)                 Output Shape              Param #   \n",
      "=================================================================\n",
      "refc_input (InputLayer)      [(None, 1059, 1799, 1)]   0         \n",
      "_________________________________________________________________\n",
      "cropped (Cropping2D)         (None, 1024, 1792, 1)     0         \n",
      "_________________________________________________________________\n",
      "encoder_conv_0 (Conv2D)      (None, 1024, 1792, 16)    272       \n",
      "_________________________________________________________________\n",
      "encoder_pool_0 (MaxPooling2D (None, 256, 448, 16)      0         \n",
      "_________________________________________________________________\n",
      "encoder_conv_1 (Conv2D)      (None, 256, 448, 32)      8224      \n",
      "_________________________________________________________________\n",
      "encoder_pool_1 (MaxPooling2D (None, 64, 112, 32)       0         \n",
      "_________________________________________________________________\n",
      "encoder_conv_2 (Conv2D)      (None, 64, 112, 64)       32832     \n",
      "_________________________________________________________________\n",
      "encoder_pool_2 (MaxPooling2D (None, 16, 28, 64)        0         \n",
      "_________________________________________________________________\n",
      "encoder_conv_3 (Conv2D)      (None, 16, 28, 128)       131200    \n",
      "_________________________________________________________________\n",
      "encoder_pool_3 (MaxPooling2D (None, 4, 7, 128)         0         \n",
      "_________________________________________________________________\n",
      "encoder_flatten (Flatten)    (None, 3584)              0         \n",
      "_________________________________________________________________\n",
      "refc_embedding (Dense)       (None, 50)                179250    \n",
      "=================================================================\n",
      "Total params: 351,778\n",
      "Trainable params: 351,778\n",
      "Non-trainable params: 0\n",
      "_________________________________________________________________\n",
      "None\n"
     ]
    }
   ],
   "source": [
    "embed_output = model.get_layer('refc_embedding').output\n",
    "embedder = tf.keras.Model(model.input, embed_output, name='embedder')\n",
    "print(embedder.summary())"
   ]
  },
  {
   "cell_type": "code",
   "execution_count": 10,
   "metadata": {},
   "outputs": [
    {
     "name": "stdout",
     "output_type": "stream",
     "text": [
      "ai-analytics-solutions-kfpdemo\n",
      "tf.Tensor(\n",
      "[[0. 0. 0. ... 0. 0. 0.]\n",
      " [0. 0. 0. ... 0. 0. 0.]\n",
      " [0. 0. 0. ... 0. 0. 0.]\n",
      " ...\n",
      " [0. 0. 0. ... 0. 0. 0.]\n",
      " [0. 0. 0. ... 0. 0. 0.]\n",
      " [0. 0. 0. ... 0. 0. 0.]], shape=(1059, 1799), dtype=float32)\n",
      "tf.Tensor(\n",
      "[ 0.301531    1.1230749  -0.11051312 -0.7169816   0.41527277 -0.2514371\n",
      "  0.45809814 -0.1219312   0.6078904  -0.24121551  0.51386464 -0.15141343\n",
      " -0.18161477  0.5419359  -0.02541194  0.1649076   0.43065113  0.691609\n",
      " -0.23777175 -0.2843141  -0.63672084  0.65880483  0.24391702 -0.07345533\n",
      " -0.08864652 -0.14317618  0.38981095 -0.4006542   0.21685484  0.90802234\n",
      " -0.12074046  0.14775434 -0.02762385 -0.47858676 -0.09548081 -0.3523487\n",
      "  0.38083994 -0.19541779 -0.19363467  0.07926624 -0.2369798   0.24522418\n",
      "  1.0302618  -0.0429398  -0.3022312   0.48221755 -0.2893774   0.20048837\n",
      "  0.04749289 -0.00721024], shape=(50,), dtype=float32)\n"
     ]
    }
   ],
   "source": [
    "import tensorflow as tf\n",
    "PROJECT='ai-analytics-solutions'\n",
    "BUCKET='{}-kfpdemo'.format(PROJECT)\n",
    "print(BUCKET)\n",
    "\n",
    "def parse_tfrecord(example_data):\n",
    "    parsed = tf.io.parse_single_example(example_data, {\n",
    "        'size': tf.io.VarLenFeature(tf.int64),\n",
    "        'ref': tf.io.VarLenFeature(tf.float32),\n",
    "        'time': tf.io.FixedLenFeature([], tf.string),\n",
    "        'valid_time': tf.io.FixedLenFeature([], tf.string)\n",
    "     })\n",
    "    parsed['size'] = tf.sparse.to_dense(parsed['size'])\n",
    "    parsed['ref'] = tf.reshape(tf.sparse.to_dense(parsed['ref']), (1059, 1799))/60. # 0 to 1\n",
    "    return parsed\n",
    "\n",
    "def read_dataset(pattern):\n",
    "    filenames = tf.io.gfile.glob(pattern)\n",
    "    ds = tf.data.TFRecordDataset(filenames, compression_type=None, buffer_size=None, num_parallel_reads=None)\n",
    "    return ds.prefetch(tf.data.experimental.AUTOTUNE).map(parse_tfrecord)\n",
    "\n",
    "ds = read_dataset('gs://{}/wxsearch/data/2019/tfrecord-00000-*'.format(BUCKET))\n",
    "for rec in ds.take(1):\n",
    "    print(rec['ref'])\n",
    "    refc = tf.expand_dims(tf.expand_dims(rec['ref'], 0), -1)\n",
    "    x = embedder.predict(refc)\n",
    "    print(tf.squeeze(x, axis=0))"
   ]
  },
  {
   "cell_type": "code",
   "execution_count": 11,
   "metadata": {},
   "outputs": [
    {
     "name": "stdout",
     "output_type": "stream",
     "text": [
      "2.3.0\n"
     ]
    }
   ],
   "source": [
    "print(tf.__version__)"
   ]
  },
  {
   "cell_type": "code",
   "execution_count": 8,
   "metadata": {},
   "outputs": [
    {
     "name": "stdout",
     "output_type": "stream",
     "text": [
      "CommandException: One or more URLs matched no objects.\n"
     ]
    }
   ],
   "source": [
    "!gsutil ls gs://ai-analytics-solutions-kfpdemo/wxsearch/data/2019/"
   ]
  },
  {
   "cell_type": "code",
   "execution_count": null,
   "metadata": {},
   "outputs": [],
   "source": [
    "%run -m wxsearch.compute_embedding -- --output_table {PROJECT}:advdata.wxembed --savedmodel gs://{BUCKET}/wxsearch/trained/savedmodel --input gs://{BUCKET}/wxsearch/data/2019/tfrecord-* --outdir gs://{BUCKET}/wxsearch/tmp --project {PROJECT}"
   ]
  },
  {
   "cell_type": "markdown",
   "metadata": {},
   "source": [
    "## Try decoding"
   ]
  },
  {
   "cell_type": "code",
   "execution_count": 1,
   "metadata": {},
   "outputs": [],
   "source": [
    "%%bigquery df\n",
    "SELECT *\n",
    "FROM advdata.wxembed"
   ]
  },
  {
   "cell_type": "code",
   "execution_count": 2,
   "metadata": {},
   "outputs": [
    {
     "data": {
      "text/html": [
       "<div>\n",
       "<style scoped>\n",
       "    .dataframe tbody tr th:only-of-type {\n",
       "        vertical-align: middle;\n",
       "    }\n",
       "\n",
       "    .dataframe tbody tr th {\n",
       "        vertical-align: top;\n",
       "    }\n",
       "\n",
       "    .dataframe thead th {\n",
       "        text-align: right;\n",
       "    }\n",
       "</style>\n",
       "<table border=\"1\" class=\"dataframe\">\n",
       "  <thead>\n",
       "    <tr style=\"text-align: right;\">\n",
       "      <th></th>\n",
       "      <th>size</th>\n",
       "      <th>ref</th>\n",
       "      <th>time</th>\n",
       "      <th>valid_time</th>\n",
       "    </tr>\n",
       "  </thead>\n",
       "  <tbody>\n",
       "    <tr>\n",
       "      <th>0</th>\n",
       "      <td>[1059, 1799]</td>\n",
       "      <td>[-0.3423147201538086, -0.2379823625087738, 0.1...</td>\n",
       "      <td>2019-09-20 05:00:00+00:00</td>\n",
       "      <td>2019-09-20 05:00:00+00:00</td>\n",
       "    </tr>\n",
       "    <tr>\n",
       "      <th>1</th>\n",
       "      <td>[1059, 1799]</td>\n",
       "      <td>[-0.11114707589149475, 0.2925637364387512, -0....</td>\n",
       "      <td>2019-08-16 10:00:00+00:00</td>\n",
       "      <td>2019-08-16 10:00:00+00:00</td>\n",
       "    </tr>\n",
       "    <tr>\n",
       "      <th>2</th>\n",
       "      <td>[1059, 1799]</td>\n",
       "      <td>[0.37308964133262634, 0.1036672368645668, -0.1...</td>\n",
       "      <td>2019-10-28 23:00:00+00:00</td>\n",
       "      <td>2019-10-28 23:00:00+00:00</td>\n",
       "    </tr>\n",
       "    <tr>\n",
       "      <th>3</th>\n",
       "      <td>[1059, 1799]</td>\n",
       "      <td>[0.3508044183254242, 0.20376038551330566, -0.0...</td>\n",
       "      <td>2019-07-20 11:00:00+00:00</td>\n",
       "      <td>2019-07-20 11:00:00+00:00</td>\n",
       "    </tr>\n",
       "    <tr>\n",
       "      <th>4</th>\n",
       "      <td>[1059, 1799]</td>\n",
       "      <td>[-0.08892631530761719, 0.10215485841035843, -0...</td>\n",
       "      <td>2019-08-08 20:00:00+00:00</td>\n",
       "      <td>2019-08-08 20:00:00+00:00</td>\n",
       "    </tr>\n",
       "  </tbody>\n",
       "</table>\n",
       "</div>"
      ],
      "text/plain": [
       "           size                                                ref  \\\n",
       "0  [1059, 1799]  [-0.3423147201538086, -0.2379823625087738, 0.1...   \n",
       "1  [1059, 1799]  [-0.11114707589149475, 0.2925637364387512, -0....   \n",
       "2  [1059, 1799]  [0.37308964133262634, 0.1036672368645668, -0.1...   \n",
       "3  [1059, 1799]  [0.3508044183254242, 0.20376038551330566, -0.0...   \n",
       "4  [1059, 1799]  [-0.08892631530761719, 0.10215485841035843, -0...   \n",
       "\n",
       "                       time                valid_time  \n",
       "0 2019-09-20 05:00:00+00:00 2019-09-20 05:00:00+00:00  \n",
       "1 2019-08-16 10:00:00+00:00 2019-08-16 10:00:00+00:00  \n",
       "2 2019-10-28 23:00:00+00:00 2019-10-28 23:00:00+00:00  \n",
       "3 2019-07-20 11:00:00+00:00 2019-07-20 11:00:00+00:00  \n",
       "4 2019-08-08 20:00:00+00:00 2019-08-08 20:00:00+00:00  "
      ]
     },
     "execution_count": 2,
     "metadata": {},
     "output_type": "execute_result"
    }
   ],
   "source": [
    "df.head(n=5)"
   ]
  },
  {
   "cell_type": "markdown",
   "metadata": {},
   "source": [
    "Let's decode the first row. First, we create a decoder"
   ]
  },
  {
   "cell_type": "code",
   "execution_count": 3,
   "metadata": {},
   "outputs": [
    {
     "name": "stdout",
     "output_type": "stream",
     "text": [
      "Model: \"decoder\"\n",
      "_________________________________________________________________\n",
      "Layer (type)                 Output Shape              Param #   \n",
      "=================================================================\n",
      "embed_input (InputLayer)     [(None, 50)]              0         \n",
      "_________________________________________________________________\n",
      "decoder_dense (Dense)        (None, 3584)              182784    \n",
      "_________________________________________________________________\n",
      "decoder_reshape (Reshape)    (None, 4, 7, 128)         0         \n",
      "_________________________________________________________________\n",
      "decoder_conv_0 (Conv2D)      (None, 4, 7, 128)         262272    \n",
      "_________________________________________________________________\n",
      "decoder_upsamp_0 (UpSampling (None, 16, 28, 128)       0         \n",
      "_________________________________________________________________\n",
      "decoder_conv_1 (Conv2D)      (None, 16, 28, 64)        131136    \n",
      "_________________________________________________________________\n",
      "decoder_upsamp_1 (UpSampling (None, 64, 112, 64)       0         \n",
      "_________________________________________________________________\n",
      "decoder_conv_2 (Conv2D)      (None, 64, 112, 32)       32800     \n",
      "_________________________________________________________________\n",
      "decoder_upsamp_2 (UpSampling (None, 256, 448, 32)      0         \n",
      "_________________________________________________________________\n",
      "decoder_conv_3 (Conv2D)      (None, 256, 448, 16)      8208      \n",
      "_________________________________________________________________\n",
      "decoder_upsamp_3 (UpSampling (None, 1024, 1792, 16)    0         \n",
      "_________________________________________________________________\n",
      "before_padding (Conv2D)      (None, 1024, 1792, 1)     145       \n",
      "_________________________________________________________________\n",
      "refc_reconstructed (ZeroPadd (None, 1059, 1799, 1)     0         \n",
      "=================================================================\n",
      "Total params: 617,345\n",
      "Trainable params: 617,345\n",
      "Non-trainable params: 0\n",
      "_________________________________________________________________\n",
      "None\n"
     ]
    }
   ],
   "source": [
    "import tensorflow as tf\n",
    "def create_decoder(model_dir):\n",
    "    model = tf.keras.models.load_model(model_dir)\n",
    "    decoder_input = tf.keras.Input([50], name='embed_input')\n",
    "    embed_seen = False\n",
    "    x = decoder_input\n",
    "    for layer in model.layers:\n",
    "        if embed_seen:\n",
    "            x = layer(x)\n",
    "        elif layer.name == 'refc_embedding':\n",
    "            embed_seen = True\n",
    "    decoder = tf.keras.Model(decoder_input, x, name='decoder')\n",
    "    print(decoder.summary())\n",
    "    return decoder\n",
    "\n",
    "decoder = create_decoder('gs://ai-analytics-solutions-kfpdemo/wxsearch/trained/savedmodel')"
   ]
  },
  {
   "cell_type": "markdown",
   "metadata": {},
   "source": [
    "Then, we invoke decoder.predict() to reconstruct the image from the 50 numbers in the embedding."
   ]
  },
  {
   "cell_type": "code",
   "execution_count": 4,
   "metadata": {},
   "outputs": [
    {
     "name": "stdout",
     "output_type": "stream",
     "text": [
      "50\n",
      "31.765097\n"
     ]
    }
   ],
   "source": [
    "import tensorflow as tf\n",
    "import numpy as np\n",
    "embed = tf.reshape( tf.convert_to_tensor(df['ref'].values[0], dtype=tf.float32), [-1, 50])\n",
    "outimg = decoder.predict(embed).squeeze() * 60\n",
    "print(len(df['ref'].values[0]))\n",
    "print(np.max(outimg))"
   ]
  },
  {
   "cell_type": "code",
   "execution_count": 5,
   "metadata": {},
   "outputs": [
    {
     "data": {
      "image/png": "[encoded data removed]",
      "text/plain": [
       "<Figure size 432x288 with 1 Axes>"
      ]
     },
     "metadata": {
      "needs_background": "light"
     },
     "output_type": "display_data"
    }
   ],
   "source": [
    "import matplotlib.pyplot as plt\n",
    "plt.imshow(outimg, origin='lower');"
   ]
  },
  {
   "cell_type": "markdown",
   "metadata": {},
   "source": [
    "What does the original look like? Let's pull the original HRRR Grib file from this time stamp"
   ]
  },
  {
   "cell_type": "code",
   "execution_count": 3,
   "metadata": {},
   "outputs": [
    {
     "name": "stdout",
     "output_type": "stream",
     "text": [
      "gs://high-resolution-rapid-refresh/hrrr.20190920/conus/hrrr.t05z.wrfsfcf00.grib2\n"
     ]
    },
    {
     "data": {
      "image/png": "[encoded data removed]",
      "text/plain": [
       "<Figure size 432x288 with 2 Axes>"
      ]
     },
     "metadata": {
      "needs_background": "light"
     },
     "output_type": "display_data"
    }
   ],
   "source": [
    "import pandas as pd\n",
    "dt = pd.Timestamp(df['time'].values[0])\n",
    "# gs://high-resolution-rapid-refresh/hrrr.20200811/conus/hrrr.t04z.wrfsfcf00.grib2\n",
    "FILENAME = '{}/hrrr.{:4}{:02}{:02}/conus/hrrr.t{:02}z.wrfsfcf00.grib2'.format(\n",
    "                'gs://high-resolution-rapid-refresh',\n",
    "                dt.year, dt.month, dt.day, dt.hour)\n",
    "print(FILENAME)\n",
    "\n",
    "import xarray as xr\n",
    "import tensorflow as tf\n",
    "import tempfile\n",
    "import cfgrib\n",
    "import numpy as np\n",
    "\n",
    "refc = 0\n",
    "with tempfile.TemporaryDirectory() as tmpdirname:\n",
    "    TMPFILE=\"{}/read_grib\".format(tmpdirname)\n",
    "    tf.io.gfile.copy(FILENAME, TMPFILE, overwrite=True)\n",
    "    #ds = xr.open_dataset(TMPFILE, engine='cfgrib', backend_kwargs={'filter_by_keys': {'typeOfLevel': 'surface', 'stepType': 'instant'}})\n",
    "    #ds.data_vars['prate'].plot()  # crain, prate\n",
    "    ds = xr.open_dataset(TMPFILE, engine='cfgrib', backend_kwargs={'filter_by_keys': {'typeOfLevel': 'unknown', 'stepType': 'instant'}})\n",
    "    #ds = xr.open_dataset(TMPFILE, engine='cfgrib', backend_kwargs={'filter_by_keys': {'typeOfLevel': 'atmosphere', 'stepType': 'instant'}})\n",
    "    refc = ds.data_vars['refc']\n",
    "    refc.plot()"
   ]
  },
  {
   "cell_type": "markdown",
   "metadata": {},
   "source": [
    "## Searching for similar images\n",
    "\n",
    "Suppose we want to find an image similar to the above image. "
   ]
  },
  {
   "cell_type": "code",
   "execution_count": 1,
   "metadata": {},
   "outputs": [
    {
     "data": {
      "text/html": [
       "<div>\n",
       "<style scoped>\n",
       "    .dataframe tbody tr th:only-of-type {\n",
       "        vertical-align: middle;\n",
       "    }\n",
       "\n",
       "    .dataframe tbody tr th {\n",
       "        vertical-align: top;\n",
       "    }\n",
       "\n",
       "    .dataframe thead th {\n",
       "        text-align: right;\n",
       "    }\n",
       "</style>\n",
       "<table border=\"1\" class=\"dataframe\">\n",
       "  <thead>\n",
       "    <tr style=\"text-align: right;\">\n",
       "      <th></th>\n",
       "      <th>time</th>\n",
       "      <th>sqdist</th>\n",
       "    </tr>\n",
       "  </thead>\n",
       "  <tbody>\n",
       "    <tr>\n",
       "      <th>0</th>\n",
       "      <td>2019-09-20 05:00:00+00:00</td>\n",
       "      <td>0.000000</td>\n",
       "    </tr>\n",
       "    <tr>\n",
       "      <th>1</th>\n",
       "      <td>2019-09-20 06:00:00+00:00</td>\n",
       "      <td>0.519979</td>\n",
       "    </tr>\n",
       "    <tr>\n",
       "      <th>2</th>\n",
       "      <td>2019-09-20 04:00:00+00:00</td>\n",
       "      <td>0.546595</td>\n",
       "    </tr>\n",
       "    <tr>\n",
       "      <th>3</th>\n",
       "      <td>2019-09-20 07:00:00+00:00</td>\n",
       "      <td>1.001852</td>\n",
       "    </tr>\n",
       "    <tr>\n",
       "      <th>4</th>\n",
       "      <td>2019-09-20 03:00:00+00:00</td>\n",
       "      <td>1.387520</td>\n",
       "    </tr>\n",
       "  </tbody>\n",
       "</table>\n",
       "</div>"
      ],
      "text/plain": [
       "                       time    sqdist\n",
       "0 2019-09-20 05:00:00+00:00  0.000000\n",
       "1 2019-09-20 06:00:00+00:00  0.519979\n",
       "2 2019-09-20 04:00:00+00:00  0.546595\n",
       "3 2019-09-20 07:00:00+00:00  1.001852\n",
       "4 2019-09-20 03:00:00+00:00  1.387520"
      ]
     },
     "execution_count": 1,
     "metadata": {},
     "output_type": "execute_result"
    }
   ],
   "source": [
    "%%bigquery\n",
    "WITH ref1 AS (\n",
    "SELECT time AS ref1_time, ref1_value, ref1_offset\n",
    "FROM `ai-analytics-solutions.advdata.wxembed`,\n",
    "     UNNEST(ref) AS ref1_value WITH OFFSET AS ref1_offset\n",
    "WHERE time = '2019-09-20 05:00:00 UTC'\n",
    ")\n",
    "\n",
    "SELECT \n",
    "  time,\n",
    "  SUM( (ref1_value - ref[OFFSET(ref1_offset)]) * (ref1_value - ref[OFFSET(ref1_offset)]) ) AS sqdist \n",
    "FROM ref1, `ai-analytics-solutions.advdata.wxembed`\n",
    "GROUP BY 1\n",
    "ORDER By sqdist ASC\n",
    "LIMIT 5"
   ]
  },
  {
   "cell_type": "markdown",
   "metadata": {},
   "source": [
    "This makes a lot of sense. The image from the previous/next hour is the most similar.\n",
    "Then, images from +/- 2 hours ...\n",
    "\n",
    "What if we want to find the most similar image that is not within +/- 1 day?\n",
    "Since we have only 1 year of data, we are not going to great analogs, possibly,\n",
    "but let's see what we get."
   ]
  },
  {
   "cell_type": "code",
   "execution_count": 2,
   "metadata": {},
   "outputs": [],
   "source": [
    "%%bigquery df\n",
    "WITH ref1 AS (\n",
    "SELECT time AS ref1_time, ref1_value, ref1_offset\n",
    "FROM `ai-analytics-solutions.advdata.wxembed`,\n",
    "     UNNEST(ref) AS ref1_value WITH OFFSET AS ref1_offset\n",
    "WHERE time = '2019-09-20 05:00:00 UTC'\n",
    ")\n",
    "\n",
    "SELECT \n",
    "  time,\n",
    "  SUM( (ref1_value - ref[OFFSET(ref1_offset)]) * (ref1_value - ref[OFFSET(ref1_offset)]) ) AS sqdist \n",
    "FROM ref1, `ai-analytics-solutions.advdata.wxembed`\n",
    "WHERE time NOT BETWEEN '2019-09-19' AND '2019-09-21'\n",
    "GROUP BY 1\n",
    "ORDER By sqdist ASC\n",
    "LIMIT 5"
   ]
  },
  {
   "cell_type": "code",
   "execution_count": 3,
   "metadata": {},
   "outputs": [
    {
     "data": {
      "text/html": [
       "<div>\n",
       "<style scoped>\n",
       "    .dataframe tbody tr th:only-of-type {\n",
       "        vertical-align: middle;\n",
       "    }\n",
       "\n",
       "    .dataframe tbody tr th {\n",
       "        vertical-align: top;\n",
       "    }\n",
       "\n",
       "    .dataframe thead th {\n",
       "        text-align: right;\n",
       "    }\n",
       "</style>\n",
       "<table border=\"1\" class=\"dataframe\">\n",
       "  <thead>\n",
       "    <tr style=\"text-align: right;\">\n",
       "      <th></th>\n",
       "      <th>time</th>\n",
       "      <th>sqdist</th>\n",
       "    </tr>\n",
       "  </thead>\n",
       "  <tbody>\n",
       "    <tr>\n",
       "      <th>0</th>\n",
       "      <td>2019-01-02 00:00:00+00:00</td>\n",
       "      <td>5.125657</td>\n",
       "    </tr>\n",
       "    <tr>\n",
       "      <th>1</th>\n",
       "      <td>2019-01-01 23:00:00+00:00</td>\n",
       "      <td>5.160568</td>\n",
       "    </tr>\n",
       "    <tr>\n",
       "      <th>2</th>\n",
       "      <td>2019-07-01 18:00:00+00:00</td>\n",
       "      <td>5.226617</td>\n",
       "    </tr>\n",
       "    <tr>\n",
       "      <th>3</th>\n",
       "      <td>2019-01-02 02:00:00+00:00</td>\n",
       "      <td>5.240267</td>\n",
       "    </tr>\n",
       "    <tr>\n",
       "      <th>4</th>\n",
       "      <td>2019-07-01 19:00:00+00:00</td>\n",
       "      <td>5.244619</td>\n",
       "    </tr>\n",
       "  </tbody>\n",
       "</table>\n",
       "</div>"
      ],
      "text/plain": [
       "                       time    sqdist\n",
       "0 2019-01-02 00:00:00+00:00  5.125657\n",
       "1 2019-01-01 23:00:00+00:00  5.160568\n",
       "2 2019-07-01 18:00:00+00:00  5.226617\n",
       "3 2019-01-02 02:00:00+00:00  5.240267\n",
       "4 2019-07-01 19:00:00+00:00  5.244619"
      ]
     },
     "execution_count": 3,
     "metadata": {},
     "output_type": "execute_result"
    }
   ],
   "source": [
    "df"
   ]
  },
  {
   "cell_type": "markdown",
   "metadata": {},
   "source": [
    "Really, Jan. 2 in 2019 had similar weather to Sep 20? Let's see ..."
   ]
  },
  {
   "cell_type": "code",
   "execution_count": 4,
   "metadata": {},
   "outputs": [
    {
     "name": "stdout",
     "output_type": "stream",
     "text": [
      "gs://high-resolution-rapid-refresh/hrrr.20190102/conus/hrrr.t00z.wrfsfcf00.grib2\n"
     ]
    },
    {
     "data": {
      "image/png": "[encoded data removed]",
      "text/plain": [
       "<Figure size 432x288 with 2 Axes>"
      ]
     },
     "metadata": {
      "needs_background": "light"
     },
     "output_type": "display_data"
    }
   ],
   "source": [
    "import pandas as pd\n",
    "dt = pd.Timestamp(df['time'].values[0])\n",
    "# gs://high-resolution-rapid-refresh/hrrr.20200811/conus/hrrr.t04z.wrfsfcf00.grib2\n",
    "FILENAME = '{}/hrrr.{:4}{:02}{:02}/conus/hrrr.t{:02}z.wrfsfcf00.grib2'.format(\n",
    "                'gs://high-resolution-rapid-refresh',\n",
    "                dt.year, dt.month, dt.day, dt.hour)\n",
    "print(FILENAME)\n",
    "\n",
    "import xarray as xr\n",
    "import tensorflow as tf\n",
    "import tempfile\n",
    "import cfgrib\n",
    "import numpy as np\n",
    "\n",
    "refc = 0\n",
    "with tempfile.TemporaryDirectory() as tmpdirname:\n",
    "    TMPFILE=\"{}/read_grib\".format(tmpdirname)\n",
    "    tf.io.gfile.copy(FILENAME, TMPFILE, overwrite=True)\n",
    "    #ds = xr.open_dataset(TMPFILE, engine='cfgrib', backend_kwargs={'filter_by_keys': {'typeOfLevel': 'surface', 'stepType': 'instant'}})\n",
    "    #ds.data_vars['prate'].plot()  # crain, prate\n",
    "    ds = xr.open_dataset(TMPFILE, engine='cfgrib', backend_kwargs={'filter_by_keys': {'typeOfLevel': 'unknown', 'stepType': 'instant'}})\n",
    "    #ds = xr.open_dataset(TMPFILE, engine='cfgrib', backend_kwargs={'filter_by_keys': {'typeOfLevel': 'atmosphere', 'stepType': 'instant'}})\n",
    "    refc = ds.data_vars['refc']\n",
    "    refc.plot()"
   ]
  },
  {
   "cell_type": "markdown",
   "metadata": {},
   "source": [
    "What about July 1, 2019, which is next on the list?"
   ]
  },
  {
   "cell_type": "code",
   "execution_count": 5,
   "metadata": {},
   "outputs": [
    {
     "name": "stdout",
     "output_type": "stream",
     "text": [
      "gs://high-resolution-rapid-refresh/hrrr.20190701/conus/hrrr.t18z.wrfsfcf00.grib2\n"
     ]
    },
    {
     "data": {
      "image/png": "[encoded data removed]",
      "text/plain": [
       "<Figure size 432x288 with 2 Axes>"
      ]
     },
     "metadata": {
      "needs_background": "light"
     },
     "output_type": "display_data"
    }
   ],
   "source": [
    "import pandas as pd\n",
    "dt = pd.Timestamp(df['time'].values[2])\n",
    "# gs://high-resolution-rapid-refresh/hrrr.20200811/conus/hrrr.t04z.wrfsfcf00.grib2\n",
    "FILENAME = '{}/hrrr.{:4}{:02}{:02}/conus/hrrr.t{:02}z.wrfsfcf00.grib2'.format(\n",
    "                'gs://high-resolution-rapid-refresh',\n",
    "                dt.year, dt.month, dt.day, dt.hour)\n",
    "print(FILENAME)\n",
    "\n",
    "import xarray as xr\n",
    "import tensorflow as tf\n",
    "import tempfile\n",
    "import cfgrib\n",
    "import numpy as np\n",
    "\n",
    "refc = 0\n",
    "with tempfile.TemporaryDirectory() as tmpdirname:\n",
    "    TMPFILE=\"{}/read_grib\".format(tmpdirname)\n",
    "    tf.io.gfile.copy(FILENAME, TMPFILE, overwrite=True)\n",
    "    #ds = xr.open_dataset(TMPFILE, engine='cfgrib', backend_kwargs={'filter_by_keys': {'typeOfLevel': 'surface', 'stepType': 'instant'}})\n",
    "    #ds.data_vars['prate'].plot()  # crain, prate\n",
    "    ds = xr.open_dataset(TMPFILE, engine='cfgrib', backend_kwargs={'filter_by_keys': {'typeOfLevel': 'unknown', 'stepType': 'instant'}})\n",
    "    #ds = xr.open_dataset(TMPFILE, engine='cfgrib', backend_kwargs={'filter_by_keys': {'typeOfLevel': 'atmosphere', 'stepType': 'instant'}})\n",
    "    refc = ds.data_vars['refc']\n",
    "    refc.plot()"
   ]
  },
  {
   "cell_type": "markdown",
   "metadata": {},
   "source": [
    "Both these have weather in approximately the same places. On Jan 1, things are more widespread than in July.\n",
    "The date we searched for (May) is somewhere in between the Jan and July weather scenarios ...\n",
    "\n",
    "To make the search work better, we should use smaller tiles (not the whole country, but perhaps 500kmx500km tiles). Then, we'll get mesoscale phenomena."
   ]
  },
  {
   "cell_type": "code",
   "execution_count": null,
   "metadata": {},
   "outputs": [],
   "source": []
  },
  {
   "cell_type": "markdown",
   "metadata": {},
   "source": [
    "Enjoy!"
   ]
  },
  {
   "cell_type": "markdown",
   "metadata": {},
   "source": [
    "Copyright 2020 Google Inc. Licensed under the Apache License, Version 2.0 (the \"License\"); you may not use this file except in compliance with the License. You may obtain a copy of the License at http://www.apache.org/licenses/LICENSE-2.0 Unless required by applicable law or agreed to in writing, software distributed under the License is distributed on an \"AS IS\" BASIS, WITHOUT WARRANTIES OR CONDITIONS OF ANY KIND, either express or implied. See the License for the specific language governing permissions and limitations under the License"
   ]
  }
 ],
 "metadata": {
  "environment": {
   "name": "tf2-2-3-gpu.2-3.m56",
   "type": "gcloud",
   "uri": "gcr.io/deeplearning-platform-release/tf2-2-3-gpu.2-3:m56"
  },
  "kernelspec": {
   "display_name": "Python 3",
   "language": "python",
   "name": "python3"
  },
  "language_info": {
   "codemirror_mode": {
    "name": "ipython",
    "version": 3
   },
   "file_extension": ".py",
   "mimetype": "text/x-python",
   "name": "python",
   "nbconvert_exporter": "python",
   "pygments_lexer": "ipython3",
   "version": "3.7.8"
  }
 },
 "nbformat": 4,
 "nbformat_minor": 4
}
